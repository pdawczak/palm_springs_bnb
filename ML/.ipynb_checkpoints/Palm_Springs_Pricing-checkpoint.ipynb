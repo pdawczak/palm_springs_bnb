{
 "cells": [
  {
   "cell_type": "code",
   "execution_count": 172,
   "metadata": {},
   "outputs": [],
   "source": [
    "import pandas as pd\n",
    "import numpy as np\n",
    "import matplotlib.pyplot as plt\n",
    "import seaborn as sns\n",
    "\n",
    "%matplotlib inline\n",
    "sns.set()"
   ]
  },
  {
   "cell_type": "markdown",
   "metadata": {},
   "source": [
    "Dataset collected from:\n",
    "    \n",
    "    https://www.kaggle.com/datafiniti/palm-springs-vacation-rentals"
   ]
  },
  {
   "cell_type": "code",
   "execution_count": 173,
   "metadata": {},
   "outputs": [],
   "source": [
    "df = pd.read_csv(\"./input/palm_springs_vacation_rentals.csv\")"
   ]
  },
  {
   "cell_type": "code",
   "execution_count": 174,
   "metadata": {},
   "outputs": [
    {
     "name": "stdout",
     "output_type": "stream",
     "text": [
      "<class 'pandas.core.frame.DataFrame'>\n",
      "RangeIndex: 11374 entries, 0 to 11373\n",
      "Data columns (total 26 columns):\n",
      "city                     11374 non-null object\n",
      "country                  11370 non-null object\n",
      "dateAdded                11374 non-null object\n",
      "dateUpdated              11374 non-null object\n",
      "deposit                  285 non-null object\n",
      "descriptions             10377 non-null object\n",
      "features                 8581 non-null object\n",
      "fees                     6719 non-null object\n",
      "languages                8 non-null object\n",
      "lat                      11337 non-null float64\n",
      "long                     11337 non-null float64\n",
      "name                     11372 non-null object\n",
      "numBathroom              11365 non-null object\n",
      "numBedroom               11374 non-null int64\n",
      "numBed                   1647 non-null float64\n",
      "numPeople                11374 non-null object\n",
      "people                   7412 non-null object\n",
      "petPolicy                18 non-null object\n",
      "prices.dateSeen          10621 non-null object\n",
      "prices.dateValidEnd      240 non-null object\n",
      "prices.dateValidStart    240 non-null object\n",
      "prices.minStay           9941 non-null object\n",
      "prices.period            10318 non-null object\n",
      "prices.price             10621 non-null object\n",
      "province                 11374 non-null object\n",
      "rules                    1366 non-null object\n",
      "dtypes: float64(3), int64(1), object(22)\n",
      "memory usage: 2.3+ MB\n"
     ]
    }
   ],
   "source": [
    "df.info()"
   ]
  },
  {
   "cell_type": "markdown",
   "metadata": {},
   "source": [
    "We are going to predict data for Palm Springs, so all observations will be recorder for United States; Additionally, it looks like `\"province\"` holds only one value:"
   ]
  },
  {
   "cell_type": "code",
   "execution_count": 175,
   "metadata": {},
   "outputs": [
    {
     "data": {
      "text/plain": [
       "array(['CA'], dtype=object)"
      ]
     },
     "execution_count": 175,
     "metadata": {},
     "output_type": "execute_result"
    }
   ],
   "source": [
    "df[\"province\"].unique()"
   ]
  },
  {
   "cell_type": "markdown",
   "metadata": {},
   "source": [
    "Let's drop these columns as they will not bring any additional information:"
   ]
  },
  {
   "cell_type": "code",
   "execution_count": 176,
   "metadata": {},
   "outputs": [],
   "source": [
    "df.drop([\"country\", \"province\"], axis=1, inplace=True)"
   ]
  },
  {
   "cell_type": "markdown",
   "metadata": {},
   "source": [
    "## Assessing the data about the price"
   ]
  },
  {
   "cell_type": "markdown",
   "metadata": {},
   "source": [
    "### 1. Let's revisit rows with missing values"
   ]
  },
  {
   "cell_type": "code",
   "execution_count": 177,
   "metadata": {},
   "outputs": [
    {
     "data": {
      "text/html": [
       "<div>\n",
       "<style scoped>\n",
       "    .dataframe tbody tr th:only-of-type {\n",
       "        vertical-align: middle;\n",
       "    }\n",
       "\n",
       "    .dataframe tbody tr th {\n",
       "        vertical-align: top;\n",
       "    }\n",
       "\n",
       "    .dataframe thead th {\n",
       "        text-align: right;\n",
       "    }\n",
       "</style>\n",
       "<table border=\"1\" class=\"dataframe\">\n",
       "  <thead>\n",
       "    <tr style=\"text-align: right;\">\n",
       "      <th></th>\n",
       "      <th>city</th>\n",
       "      <th>dateAdded</th>\n",
       "      <th>dateUpdated</th>\n",
       "      <th>deposit</th>\n",
       "      <th>descriptions</th>\n",
       "      <th>features</th>\n",
       "      <th>fees</th>\n",
       "      <th>languages</th>\n",
       "      <th>lat</th>\n",
       "      <th>long</th>\n",
       "      <th>...</th>\n",
       "      <th>numPeople</th>\n",
       "      <th>people</th>\n",
       "      <th>petPolicy</th>\n",
       "      <th>prices.dateSeen</th>\n",
       "      <th>prices.dateValidEnd</th>\n",
       "      <th>prices.dateValidStart</th>\n",
       "      <th>prices.minStay</th>\n",
       "      <th>prices.period</th>\n",
       "      <th>prices.price</th>\n",
       "      <th>rules</th>\n",
       "    </tr>\n",
       "  </thead>\n",
       "  <tbody>\n",
       "    <tr>\n",
       "      <th>311</th>\n",
       "      <td>Palm Springs</td>\n",
       "      <td>2015-10-25T18:51:37Z</td>\n",
       "      <td>2016-04-04T00:44:30Z</td>\n",
       "      <td>USD 149.00</td>\n",
       "      <td>[\"Spectacular mountain view from the casita, t...</td>\n",
       "      <td>[{\"key\":\"Smoking Allowed\",\"value\":\"yes\"},{\"key...</td>\n",
       "      <td>[\"USD 29.00\",\"USD 49 / night after 2 guests\"]</td>\n",
       "      <td>NaN</td>\n",
       "      <td>33.832151</td>\n",
       "      <td>-116.527093</td>\n",
       "      <td>...</td>\n",
       "      <td>4</td>\n",
       "      <td>[{\"name\":\"Thibault (tebow)\",\"title\":\"Host\"}]</td>\n",
       "      <td>Pets Allowed</td>\n",
       "      <td>NaN</td>\n",
       "      <td>NaN</td>\n",
       "      <td>NaN</td>\n",
       "      <td>NaN</td>\n",
       "      <td>NaN</td>\n",
       "      <td>NaN</td>\n",
       "      <td>Please read carefully - by submitting an inqui...</td>\n",
       "    </tr>\n",
       "    <tr>\n",
       "      <th>822</th>\n",
       "      <td>Palm Springs</td>\n",
       "      <td>2015-10-23T05:30:52Z</td>\n",
       "      <td>2016-03-11T09:46:06Z</td>\n",
       "      <td>NaN</td>\n",
       "      <td>Located in desirable 'Movie Colony East', near...</td>\n",
       "      <td>NaN</td>\n",
       "      <td>NaN</td>\n",
       "      <td>NaN</td>\n",
       "      <td>33.839350</td>\n",
       "      <td>-116.529305</td>\n",
       "      <td>...</td>\n",
       "      <td>6</td>\n",
       "      <td>[{\"dateSeen\":\"2015-10-17T00:00:00Z\",\"name\":\"Ab...</td>\n",
       "      <td>NaN</td>\n",
       "      <td>NaN</td>\n",
       "      <td>NaN</td>\n",
       "      <td>NaN</td>\n",
       "      <td>NaN</td>\n",
       "      <td>NaN</td>\n",
       "      <td>NaN</td>\n",
       "      <td>NaN</td>\n",
       "    </tr>\n",
       "    <tr>\n",
       "      <th>1251</th>\n",
       "      <td>Downtown Palm Springs Vacation Rentals</td>\n",
       "      <td>2016-03-11T09:45:44Z</td>\n",
       "      <td>2016-03-11T09:45:44Z</td>\n",
       "      <td>NaN</td>\n",
       "      <td>La Casa Del Sol (The House of Sun) in Rancho M...</td>\n",
       "      <td>NaN</td>\n",
       "      <td>NaN</td>\n",
       "      <td>NaN</td>\n",
       "      <td>33.760593</td>\n",
       "      <td>-116.418040</td>\n",
       "      <td>...</td>\n",
       "      <td>8</td>\n",
       "      <td>[{\"dateSeen\":\"2016-03-10T00:00:00Z\",\"name\":\"Mc...</td>\n",
       "      <td>NaN</td>\n",
       "      <td>NaN</td>\n",
       "      <td>NaN</td>\n",
       "      <td>NaN</td>\n",
       "      <td>NaN</td>\n",
       "      <td>NaN</td>\n",
       "      <td>NaN</td>\n",
       "      <td>NaN</td>\n",
       "    </tr>\n",
       "    <tr>\n",
       "      <th>1963</th>\n",
       "      <td>Palm Springs</td>\n",
       "      <td>2016-01-21T19:43:54Z</td>\n",
       "      <td>2016-01-27T01:07:00Z</td>\n",
       "      <td>NaN</td>\n",
       "      <td>Original description written in a non-supporte...</td>\n",
       "      <td>NaN</td>\n",
       "      <td>NaN</td>\n",
       "      <td>NaN</td>\n",
       "      <td>33.846680</td>\n",
       "      <td>-116.552925</td>\n",
       "      <td>...</td>\n",
       "      <td>8</td>\n",
       "      <td>[{\"dateSeen\":\"2016-01-20T00:00:00Z\",\"name\":\"We...</td>\n",
       "      <td>NaN</td>\n",
       "      <td>NaN</td>\n",
       "      <td>NaN</td>\n",
       "      <td>NaN</td>\n",
       "      <td>NaN</td>\n",
       "      <td>NaN</td>\n",
       "      <td>NaN</td>\n",
       "      <td>NaN</td>\n",
       "    </tr>\n",
       "    <tr>\n",
       "      <th>2302</th>\n",
       "      <td>Palm Springs</td>\n",
       "      <td>2015-10-28T18:51:00Z</td>\n",
       "      <td>2016-03-03T18:57:21Z</td>\n",
       "      <td>NaN</td>\n",
       "      <td>NaN</td>\n",
       "      <td>[{\"key\":\"Guest Access\",\"value\":\"Entire home/ap...</td>\n",
       "      <td>NaN</td>\n",
       "      <td>NaN</td>\n",
       "      <td>33.844601</td>\n",
       "      <td>-116.541801</td>\n",
       "      <td>...</td>\n",
       "      <td>12</td>\n",
       "      <td>[{\"name\":\"Jeffery\",\"title\":\"Host\"}]</td>\n",
       "      <td>NaN</td>\n",
       "      <td>NaN</td>\n",
       "      <td>NaN</td>\n",
       "      <td>NaN</td>\n",
       "      <td>NaN</td>\n",
       "      <td>NaN</td>\n",
       "      <td>NaN</td>\n",
       "      <td>No smoking. Anyone that is found to have smoke...</td>\n",
       "    </tr>\n",
       "  </tbody>\n",
       "</table>\n",
       "<p>5 rows × 24 columns</p>\n",
       "</div>"
      ],
      "text/plain": [
       "                                        city             dateAdded  \\\n",
       "311                             Palm Springs  2015-10-25T18:51:37Z   \n",
       "822                             Palm Springs  2015-10-23T05:30:52Z   \n",
       "1251  Downtown Palm Springs Vacation Rentals  2016-03-11T09:45:44Z   \n",
       "1963                            Palm Springs  2016-01-21T19:43:54Z   \n",
       "2302                            Palm Springs  2015-10-28T18:51:00Z   \n",
       "\n",
       "               dateUpdated     deposit  \\\n",
       "311   2016-04-04T00:44:30Z  USD 149.00   \n",
       "822   2016-03-11T09:46:06Z         NaN   \n",
       "1251  2016-03-11T09:45:44Z         NaN   \n",
       "1963  2016-01-27T01:07:00Z         NaN   \n",
       "2302  2016-03-03T18:57:21Z         NaN   \n",
       "\n",
       "                                           descriptions  \\\n",
       "311   [\"Spectacular mountain view from the casita, t...   \n",
       "822   Located in desirable 'Movie Colony East', near...   \n",
       "1251  La Casa Del Sol (The House of Sun) in Rancho M...   \n",
       "1963  Original description written in a non-supporte...   \n",
       "2302                                                NaN   \n",
       "\n",
       "                                               features  \\\n",
       "311   [{\"key\":\"Smoking Allowed\",\"value\":\"yes\"},{\"key...   \n",
       "822                                                 NaN   \n",
       "1251                                                NaN   \n",
       "1963                                                NaN   \n",
       "2302  [{\"key\":\"Guest Access\",\"value\":\"Entire home/ap...   \n",
       "\n",
       "                                               fees languages        lat  \\\n",
       "311   [\"USD 29.00\",\"USD 49 / night after 2 guests\"]       NaN  33.832151   \n",
       "822                                             NaN       NaN  33.839350   \n",
       "1251                                            NaN       NaN  33.760593   \n",
       "1963                                            NaN       NaN  33.846680   \n",
       "2302                                            NaN       NaN  33.844601   \n",
       "\n",
       "            long                        ...                         numPeople  \\\n",
       "311  -116.527093                        ...                                 4   \n",
       "822  -116.529305                        ...                                 6   \n",
       "1251 -116.418040                        ...                                 8   \n",
       "1963 -116.552925                        ...                                 8   \n",
       "2302 -116.541801                        ...                                12   \n",
       "\n",
       "                                                 people     petPolicy  \\\n",
       "311        [{\"name\":\"Thibault (tebow)\",\"title\":\"Host\"}]  Pets Allowed   \n",
       "822   [{\"dateSeen\":\"2015-10-17T00:00:00Z\",\"name\":\"Ab...           NaN   \n",
       "1251  [{\"dateSeen\":\"2016-03-10T00:00:00Z\",\"name\":\"Mc...           NaN   \n",
       "1963  [{\"dateSeen\":\"2016-01-20T00:00:00Z\",\"name\":\"We...           NaN   \n",
       "2302                [{\"name\":\"Jeffery\",\"title\":\"Host\"}]           NaN   \n",
       "\n",
       "      prices.dateSeen prices.dateValidEnd prices.dateValidStart  \\\n",
       "311               NaN                 NaN                   NaN   \n",
       "822               NaN                 NaN                   NaN   \n",
       "1251              NaN                 NaN                   NaN   \n",
       "1963              NaN                 NaN                   NaN   \n",
       "2302              NaN                 NaN                   NaN   \n",
       "\n",
       "     prices.minStay prices.period prices.price  \\\n",
       "311             NaN           NaN          NaN   \n",
       "822             NaN           NaN          NaN   \n",
       "1251            NaN           NaN          NaN   \n",
       "1963            NaN           NaN          NaN   \n",
       "2302            NaN           NaN          NaN   \n",
       "\n",
       "                                                  rules  \n",
       "311   Please read carefully - by submitting an inqui...  \n",
       "822                                                 NaN  \n",
       "1251                                                NaN  \n",
       "1963                                                NaN  \n",
       "2302  No smoking. Anyone that is found to have smoke...  \n",
       "\n",
       "[5 rows x 24 columns]"
      ]
     },
     "execution_count": 177,
     "metadata": {},
     "output_type": "execute_result"
    }
   ],
   "source": [
    "df[ df[\"prices.price\"].isnull() ].head()"
   ]
  },
  {
   "cell_type": "markdown",
   "metadata": {},
   "source": [
    "These have many other missing values, so let's drop them completely:"
   ]
  },
  {
   "cell_type": "code",
   "execution_count": 178,
   "metadata": {},
   "outputs": [
    {
     "name": "stdout",
     "output_type": "stream",
     "text": [
      "<class 'pandas.core.frame.DataFrame'>\n",
      "Int64Index: 10621 entries, 0 to 11372\n",
      "Data columns (total 24 columns):\n",
      "city                     10621 non-null object\n",
      "dateAdded                10621 non-null object\n",
      "dateUpdated              10621 non-null object\n",
      "deposit                  284 non-null object\n",
      "descriptions             10235 non-null object\n",
      "features                 7839 non-null object\n",
      "fees                     6546 non-null object\n",
      "languages                8 non-null object\n",
      "lat                      10584 non-null float64\n",
      "long                     10584 non-null float64\n",
      "name                     10619 non-null object\n",
      "numBathroom              10618 non-null object\n",
      "numBedroom               10621 non-null int64\n",
      "numBed                   936 non-null float64\n",
      "numPeople                10621 non-null object\n",
      "people                   6685 non-null object\n",
      "petPolicy                17 non-null object\n",
      "prices.dateSeen          10621 non-null object\n",
      "prices.dateValidEnd      240 non-null object\n",
      "prices.dateValidStart    240 non-null object\n",
      "prices.minStay           9941 non-null object\n",
      "prices.period            10318 non-null object\n",
      "prices.price             10621 non-null object\n",
      "rules                    831 non-null object\n",
      "dtypes: float64(3), int64(1), object(20)\n",
      "memory usage: 2.0+ MB\n"
     ]
    }
   ],
   "source": [
    "df = df[ ~df[\"prices.price\"].isnull() ]\n",
    "df.info()"
   ]
  },
  {
   "cell_type": "code",
   "execution_count": 179,
   "metadata": {},
   "outputs": [
    {
     "data": {
      "text/html": [
       "<div>\n",
       "<style scoped>\n",
       "    .dataframe tbody tr th:only-of-type {\n",
       "        vertical-align: middle;\n",
       "    }\n",
       "\n",
       "    .dataframe tbody tr th {\n",
       "        vertical-align: top;\n",
       "    }\n",
       "\n",
       "    .dataframe thead th {\n",
       "        text-align: right;\n",
       "    }\n",
       "</style>\n",
       "<table border=\"1\" class=\"dataframe\">\n",
       "  <thead>\n",
       "    <tr style=\"text-align: right;\">\n",
       "      <th></th>\n",
       "      <th>city</th>\n",
       "      <th>dateAdded</th>\n",
       "      <th>dateUpdated</th>\n",
       "      <th>deposit</th>\n",
       "      <th>descriptions</th>\n",
       "      <th>features</th>\n",
       "      <th>fees</th>\n",
       "      <th>languages</th>\n",
       "      <th>lat</th>\n",
       "      <th>long</th>\n",
       "      <th>...</th>\n",
       "      <th>numPeople</th>\n",
       "      <th>people</th>\n",
       "      <th>petPolicy</th>\n",
       "      <th>prices.dateSeen</th>\n",
       "      <th>prices.dateValidEnd</th>\n",
       "      <th>prices.dateValidStart</th>\n",
       "      <th>prices.minStay</th>\n",
       "      <th>prices.period</th>\n",
       "      <th>prices.price</th>\n",
       "      <th>rules</th>\n",
       "    </tr>\n",
       "  </thead>\n",
       "  <tbody>\n",
       "    <tr>\n",
       "      <th>0</th>\n",
       "      <td>Palm Springs</td>\n",
       "      <td>2015-09-24T17:09:30Z</td>\n",
       "      <td>2016-03-17T23:06:02Z</td>\n",
       "      <td>NaN</td>\n",
       "      <td>This unique home is a combination of Zen and M...</td>\n",
       "      <td>NaN</td>\n",
       "      <td>[{\"amount\":\"USD 50 / stay\",\"type\":\"Pet\"},{\"amo...</td>\n",
       "      <td>NaN</td>\n",
       "      <td>33.838097</td>\n",
       "      <td>-116.528496</td>\n",
       "      <td>...</td>\n",
       "      <td>6</td>\n",
       "      <td>[{\"dateSeen\":\"2016-01-03T00:00:00Z\",\"name\":\"Ab...</td>\n",
       "      <td>NaN</td>\n",
       "      <td>2015-12-18T00:00:00Z</td>\n",
       "      <td>28-Dec-15</td>\n",
       "      <td>24-Dec-15</td>\n",
       "      <td>4 nights</td>\n",
       "      <td>Weekly</td>\n",
       "      <td>USD 3300</td>\n",
       "      <td>NaN</td>\n",
       "    </tr>\n",
       "    <tr>\n",
       "      <th>1</th>\n",
       "      <td>Palm Springs</td>\n",
       "      <td>2015-09-24T17:09:30Z</td>\n",
       "      <td>2016-03-17T23:06:02Z</td>\n",
       "      <td>NaN</td>\n",
       "      <td>This unique home is a combination of Zen and M...</td>\n",
       "      <td>NaN</td>\n",
       "      <td>[{\"amount\":\"USD 50 / stay\",\"type\":\"Pet\"},{\"amo...</td>\n",
       "      <td>NaN</td>\n",
       "      <td>33.838097</td>\n",
       "      <td>-116.528496</td>\n",
       "      <td>...</td>\n",
       "      <td>6</td>\n",
       "      <td>[{\"dateSeen\":\"2016-01-03T00:00:00Z\",\"name\":\"Ab...</td>\n",
       "      <td>NaN</td>\n",
       "      <td>2015-12-18T00:00:00Z</td>\n",
       "      <td>3-Jan-16</td>\n",
       "      <td>30-Dec-15</td>\n",
       "      <td>3 nights</td>\n",
       "      <td>Weekly</td>\n",
       "      <td>USD 3200</td>\n",
       "      <td>NaN</td>\n",
       "    </tr>\n",
       "    <tr>\n",
       "      <th>2</th>\n",
       "      <td>Palm Springs</td>\n",
       "      <td>2015-09-24T17:09:30Z</td>\n",
       "      <td>2016-03-17T23:06:02Z</td>\n",
       "      <td>NaN</td>\n",
       "      <td>This unique home is a combination of Zen and M...</td>\n",
       "      <td>NaN</td>\n",
       "      <td>[{\"amount\":\"USD 50 / stay\",\"type\":\"Pet\"},{\"amo...</td>\n",
       "      <td>NaN</td>\n",
       "      <td>33.838097</td>\n",
       "      <td>-116.528496</td>\n",
       "      <td>...</td>\n",
       "      <td>6</td>\n",
       "      <td>[{\"dateSeen\":\"2016-01-03T00:00:00Z\",\"name\":\"Ab...</td>\n",
       "      <td>NaN</td>\n",
       "      <td>2015-12-18T00:00:00Z</td>\n",
       "      <td>28-Dec-15</td>\n",
       "      <td>24-Dec-15</td>\n",
       "      <td>4 nights</td>\n",
       "      <td>Weeknight</td>\n",
       "      <td>USD 525</td>\n",
       "      <td>NaN</td>\n",
       "    </tr>\n",
       "    <tr>\n",
       "      <th>3</th>\n",
       "      <td>Palm Springs</td>\n",
       "      <td>2015-09-24T17:09:30Z</td>\n",
       "      <td>2016-03-17T23:06:02Z</td>\n",
       "      <td>NaN</td>\n",
       "      <td>This unique home is a combination of Zen and M...</td>\n",
       "      <td>NaN</td>\n",
       "      <td>[{\"amount\":\"USD 50 / stay\",\"type\":\"Pet\"},{\"amo...</td>\n",
       "      <td>NaN</td>\n",
       "      <td>33.838097</td>\n",
       "      <td>-116.528496</td>\n",
       "      <td>...</td>\n",
       "      <td>6</td>\n",
       "      <td>[{\"dateSeen\":\"2016-01-03T00:00:00Z\",\"name\":\"Ab...</td>\n",
       "      <td>NaN</td>\n",
       "      <td>2015-12-18T00:00:00Z</td>\n",
       "      <td>3-Jan-16</td>\n",
       "      <td>30-Dec-15</td>\n",
       "      <td>3 nights</td>\n",
       "      <td>Weeknight</td>\n",
       "      <td>USD 500</td>\n",
       "      <td>NaN</td>\n",
       "    </tr>\n",
       "    <tr>\n",
       "      <th>4</th>\n",
       "      <td>Palm Springs</td>\n",
       "      <td>2015-09-24T17:09:30Z</td>\n",
       "      <td>2016-03-17T23:06:02Z</td>\n",
       "      <td>NaN</td>\n",
       "      <td>This unique home is a combination of Zen and M...</td>\n",
       "      <td>NaN</td>\n",
       "      <td>[{\"amount\":\"USD 50 / stay\",\"type\":\"Pet\"},{\"amo...</td>\n",
       "      <td>NaN</td>\n",
       "      <td>33.838097</td>\n",
       "      <td>-116.528496</td>\n",
       "      <td>...</td>\n",
       "      <td>6</td>\n",
       "      <td>[{\"dateSeen\":\"2016-01-03T00:00:00Z\",\"name\":\"Ab...</td>\n",
       "      <td>NaN</td>\n",
       "      <td>2016-01-21T00:00:00Z, 2016-01-03T00:00:00Z, 20...</td>\n",
       "      <td>31-May-16</td>\n",
       "      <td>4-Jan-16</td>\n",
       "      <td>1 night</td>\n",
       "      <td>Weekly</td>\n",
       "      <td>USD 2499</td>\n",
       "      <td>NaN</td>\n",
       "    </tr>\n",
       "  </tbody>\n",
       "</table>\n",
       "<p>5 rows × 24 columns</p>\n",
       "</div>"
      ],
      "text/plain": [
       "           city             dateAdded           dateUpdated deposit  \\\n",
       "0  Palm Springs  2015-09-24T17:09:30Z  2016-03-17T23:06:02Z     NaN   \n",
       "1  Palm Springs  2015-09-24T17:09:30Z  2016-03-17T23:06:02Z     NaN   \n",
       "2  Palm Springs  2015-09-24T17:09:30Z  2016-03-17T23:06:02Z     NaN   \n",
       "3  Palm Springs  2015-09-24T17:09:30Z  2016-03-17T23:06:02Z     NaN   \n",
       "4  Palm Springs  2015-09-24T17:09:30Z  2016-03-17T23:06:02Z     NaN   \n",
       "\n",
       "                                        descriptions features  \\\n",
       "0  This unique home is a combination of Zen and M...      NaN   \n",
       "1  This unique home is a combination of Zen and M...      NaN   \n",
       "2  This unique home is a combination of Zen and M...      NaN   \n",
       "3  This unique home is a combination of Zen and M...      NaN   \n",
       "4  This unique home is a combination of Zen and M...      NaN   \n",
       "\n",
       "                                                fees languages        lat  \\\n",
       "0  [{\"amount\":\"USD 50 / stay\",\"type\":\"Pet\"},{\"amo...       NaN  33.838097   \n",
       "1  [{\"amount\":\"USD 50 / stay\",\"type\":\"Pet\"},{\"amo...       NaN  33.838097   \n",
       "2  [{\"amount\":\"USD 50 / stay\",\"type\":\"Pet\"},{\"amo...       NaN  33.838097   \n",
       "3  [{\"amount\":\"USD 50 / stay\",\"type\":\"Pet\"},{\"amo...       NaN  33.838097   \n",
       "4  [{\"amount\":\"USD 50 / stay\",\"type\":\"Pet\"},{\"amo...       NaN  33.838097   \n",
       "\n",
       "         long  ...  numPeople  \\\n",
       "0 -116.528496  ...          6   \n",
       "1 -116.528496  ...          6   \n",
       "2 -116.528496  ...          6   \n",
       "3 -116.528496  ...          6   \n",
       "4 -116.528496  ...          6   \n",
       "\n",
       "                                              people  petPolicy  \\\n",
       "0  [{\"dateSeen\":\"2016-01-03T00:00:00Z\",\"name\":\"Ab...        NaN   \n",
       "1  [{\"dateSeen\":\"2016-01-03T00:00:00Z\",\"name\":\"Ab...        NaN   \n",
       "2  [{\"dateSeen\":\"2016-01-03T00:00:00Z\",\"name\":\"Ab...        NaN   \n",
       "3  [{\"dateSeen\":\"2016-01-03T00:00:00Z\",\"name\":\"Ab...        NaN   \n",
       "4  [{\"dateSeen\":\"2016-01-03T00:00:00Z\",\"name\":\"Ab...        NaN   \n",
       "\n",
       "                                     prices.dateSeen prices.dateValidEnd  \\\n",
       "0                               2015-12-18T00:00:00Z           28-Dec-15   \n",
       "1                               2015-12-18T00:00:00Z            3-Jan-16   \n",
       "2                               2015-12-18T00:00:00Z           28-Dec-15   \n",
       "3                               2015-12-18T00:00:00Z            3-Jan-16   \n",
       "4  2016-01-21T00:00:00Z, 2016-01-03T00:00:00Z, 20...           31-May-16   \n",
       "\n",
       "  prices.dateValidStart prices.minStay prices.period prices.price rules  \n",
       "0             24-Dec-15       4 nights        Weekly     USD 3300   NaN  \n",
       "1             30-Dec-15       3 nights        Weekly     USD 3200   NaN  \n",
       "2             24-Dec-15       4 nights     Weeknight      USD 525   NaN  \n",
       "3             30-Dec-15       3 nights     Weeknight      USD 500   NaN  \n",
       "4              4-Jan-16        1 night        Weekly     USD 2499   NaN  \n",
       "\n",
       "[5 rows x 24 columns]"
      ]
     },
     "execution_count": 179,
     "metadata": {},
     "output_type": "execute_result"
    }
   ],
   "source": [
    "df.head()"
   ]
  },
  {
   "cell_type": "markdown",
   "metadata": {},
   "source": [
    "### 2. Parsing the price\n",
    "\n",
    "Price is kept as a text value in format of `\"USD 9999\"` - let's parse it to proper numerical value:"
   ]
  },
  {
   "cell_type": "code",
   "execution_count": 180,
   "metadata": {},
   "outputs": [],
   "source": [
    "import re\n",
    "\n",
    "def parse_number(price_string, number_parser=float): \n",
    "    return number_parser(re.search(\"[\\d\\.]+\", price_string).group(0))"
   ]
  },
  {
   "cell_type": "code",
   "execution_count": 181,
   "metadata": {},
   "outputs": [
    {
     "data": {
      "text/html": [
       "<div>\n",
       "<style scoped>\n",
       "    .dataframe tbody tr th:only-of-type {\n",
       "        vertical-align: middle;\n",
       "    }\n",
       "\n",
       "    .dataframe tbody tr th {\n",
       "        vertical-align: top;\n",
       "    }\n",
       "\n",
       "    .dataframe thead th {\n",
       "        text-align: right;\n",
       "    }\n",
       "</style>\n",
       "<table border=\"1\" class=\"dataframe\">\n",
       "  <thead>\n",
       "    <tr style=\"text-align: right;\">\n",
       "      <th></th>\n",
       "      <th>city</th>\n",
       "      <th>dateAdded</th>\n",
       "      <th>dateUpdated</th>\n",
       "      <th>deposit</th>\n",
       "      <th>descriptions</th>\n",
       "      <th>features</th>\n",
       "      <th>fees</th>\n",
       "      <th>languages</th>\n",
       "      <th>lat</th>\n",
       "      <th>long</th>\n",
       "      <th>...</th>\n",
       "      <th>people</th>\n",
       "      <th>petPolicy</th>\n",
       "      <th>prices.dateSeen</th>\n",
       "      <th>prices.dateValidEnd</th>\n",
       "      <th>prices.dateValidStart</th>\n",
       "      <th>prices.minStay</th>\n",
       "      <th>prices.period</th>\n",
       "      <th>prices.price</th>\n",
       "      <th>rules</th>\n",
       "      <th>price</th>\n",
       "    </tr>\n",
       "  </thead>\n",
       "  <tbody>\n",
       "    <tr>\n",
       "      <th>0</th>\n",
       "      <td>Palm Springs</td>\n",
       "      <td>2015-09-24T17:09:30Z</td>\n",
       "      <td>2016-03-17T23:06:02Z</td>\n",
       "      <td>NaN</td>\n",
       "      <td>This unique home is a combination of Zen and M...</td>\n",
       "      <td>NaN</td>\n",
       "      <td>[{\"amount\":\"USD 50 / stay\",\"type\":\"Pet\"},{\"amo...</td>\n",
       "      <td>NaN</td>\n",
       "      <td>33.838097</td>\n",
       "      <td>-116.528496</td>\n",
       "      <td>...</td>\n",
       "      <td>[{\"dateSeen\":\"2016-01-03T00:00:00Z\",\"name\":\"Ab...</td>\n",
       "      <td>NaN</td>\n",
       "      <td>2015-12-18T00:00:00Z</td>\n",
       "      <td>28-Dec-15</td>\n",
       "      <td>24-Dec-15</td>\n",
       "      <td>4 nights</td>\n",
       "      <td>Weekly</td>\n",
       "      <td>USD 3300</td>\n",
       "      <td>NaN</td>\n",
       "      <td>3300.0</td>\n",
       "    </tr>\n",
       "    <tr>\n",
       "      <th>1</th>\n",
       "      <td>Palm Springs</td>\n",
       "      <td>2015-09-24T17:09:30Z</td>\n",
       "      <td>2016-03-17T23:06:02Z</td>\n",
       "      <td>NaN</td>\n",
       "      <td>This unique home is a combination of Zen and M...</td>\n",
       "      <td>NaN</td>\n",
       "      <td>[{\"amount\":\"USD 50 / stay\",\"type\":\"Pet\"},{\"amo...</td>\n",
       "      <td>NaN</td>\n",
       "      <td>33.838097</td>\n",
       "      <td>-116.528496</td>\n",
       "      <td>...</td>\n",
       "      <td>[{\"dateSeen\":\"2016-01-03T00:00:00Z\",\"name\":\"Ab...</td>\n",
       "      <td>NaN</td>\n",
       "      <td>2015-12-18T00:00:00Z</td>\n",
       "      <td>3-Jan-16</td>\n",
       "      <td>30-Dec-15</td>\n",
       "      <td>3 nights</td>\n",
       "      <td>Weekly</td>\n",
       "      <td>USD 3200</td>\n",
       "      <td>NaN</td>\n",
       "      <td>3200.0</td>\n",
       "    </tr>\n",
       "    <tr>\n",
       "      <th>2</th>\n",
       "      <td>Palm Springs</td>\n",
       "      <td>2015-09-24T17:09:30Z</td>\n",
       "      <td>2016-03-17T23:06:02Z</td>\n",
       "      <td>NaN</td>\n",
       "      <td>This unique home is a combination of Zen and M...</td>\n",
       "      <td>NaN</td>\n",
       "      <td>[{\"amount\":\"USD 50 / stay\",\"type\":\"Pet\"},{\"amo...</td>\n",
       "      <td>NaN</td>\n",
       "      <td>33.838097</td>\n",
       "      <td>-116.528496</td>\n",
       "      <td>...</td>\n",
       "      <td>[{\"dateSeen\":\"2016-01-03T00:00:00Z\",\"name\":\"Ab...</td>\n",
       "      <td>NaN</td>\n",
       "      <td>2015-12-18T00:00:00Z</td>\n",
       "      <td>28-Dec-15</td>\n",
       "      <td>24-Dec-15</td>\n",
       "      <td>4 nights</td>\n",
       "      <td>Weeknight</td>\n",
       "      <td>USD 525</td>\n",
       "      <td>NaN</td>\n",
       "      <td>525.0</td>\n",
       "    </tr>\n",
       "    <tr>\n",
       "      <th>3</th>\n",
       "      <td>Palm Springs</td>\n",
       "      <td>2015-09-24T17:09:30Z</td>\n",
       "      <td>2016-03-17T23:06:02Z</td>\n",
       "      <td>NaN</td>\n",
       "      <td>This unique home is a combination of Zen and M...</td>\n",
       "      <td>NaN</td>\n",
       "      <td>[{\"amount\":\"USD 50 / stay\",\"type\":\"Pet\"},{\"amo...</td>\n",
       "      <td>NaN</td>\n",
       "      <td>33.838097</td>\n",
       "      <td>-116.528496</td>\n",
       "      <td>...</td>\n",
       "      <td>[{\"dateSeen\":\"2016-01-03T00:00:00Z\",\"name\":\"Ab...</td>\n",
       "      <td>NaN</td>\n",
       "      <td>2015-12-18T00:00:00Z</td>\n",
       "      <td>3-Jan-16</td>\n",
       "      <td>30-Dec-15</td>\n",
       "      <td>3 nights</td>\n",
       "      <td>Weeknight</td>\n",
       "      <td>USD 500</td>\n",
       "      <td>NaN</td>\n",
       "      <td>500.0</td>\n",
       "    </tr>\n",
       "    <tr>\n",
       "      <th>4</th>\n",
       "      <td>Palm Springs</td>\n",
       "      <td>2015-09-24T17:09:30Z</td>\n",
       "      <td>2016-03-17T23:06:02Z</td>\n",
       "      <td>NaN</td>\n",
       "      <td>This unique home is a combination of Zen and M...</td>\n",
       "      <td>NaN</td>\n",
       "      <td>[{\"amount\":\"USD 50 / stay\",\"type\":\"Pet\"},{\"amo...</td>\n",
       "      <td>NaN</td>\n",
       "      <td>33.838097</td>\n",
       "      <td>-116.528496</td>\n",
       "      <td>...</td>\n",
       "      <td>[{\"dateSeen\":\"2016-01-03T00:00:00Z\",\"name\":\"Ab...</td>\n",
       "      <td>NaN</td>\n",
       "      <td>2016-01-21T00:00:00Z, 2016-01-03T00:00:00Z, 20...</td>\n",
       "      <td>31-May-16</td>\n",
       "      <td>4-Jan-16</td>\n",
       "      <td>1 night</td>\n",
       "      <td>Weekly</td>\n",
       "      <td>USD 2499</td>\n",
       "      <td>NaN</td>\n",
       "      <td>2499.0</td>\n",
       "    </tr>\n",
       "  </tbody>\n",
       "</table>\n",
       "<p>5 rows × 25 columns</p>\n",
       "</div>"
      ],
      "text/plain": [
       "           city             dateAdded           dateUpdated deposit  \\\n",
       "0  Palm Springs  2015-09-24T17:09:30Z  2016-03-17T23:06:02Z     NaN   \n",
       "1  Palm Springs  2015-09-24T17:09:30Z  2016-03-17T23:06:02Z     NaN   \n",
       "2  Palm Springs  2015-09-24T17:09:30Z  2016-03-17T23:06:02Z     NaN   \n",
       "3  Palm Springs  2015-09-24T17:09:30Z  2016-03-17T23:06:02Z     NaN   \n",
       "4  Palm Springs  2015-09-24T17:09:30Z  2016-03-17T23:06:02Z     NaN   \n",
       "\n",
       "                                        descriptions features  \\\n",
       "0  This unique home is a combination of Zen and M...      NaN   \n",
       "1  This unique home is a combination of Zen and M...      NaN   \n",
       "2  This unique home is a combination of Zen and M...      NaN   \n",
       "3  This unique home is a combination of Zen and M...      NaN   \n",
       "4  This unique home is a combination of Zen and M...      NaN   \n",
       "\n",
       "                                                fees languages        lat  \\\n",
       "0  [{\"amount\":\"USD 50 / stay\",\"type\":\"Pet\"},{\"amo...       NaN  33.838097   \n",
       "1  [{\"amount\":\"USD 50 / stay\",\"type\":\"Pet\"},{\"amo...       NaN  33.838097   \n",
       "2  [{\"amount\":\"USD 50 / stay\",\"type\":\"Pet\"},{\"amo...       NaN  33.838097   \n",
       "3  [{\"amount\":\"USD 50 / stay\",\"type\":\"Pet\"},{\"amo...       NaN  33.838097   \n",
       "4  [{\"amount\":\"USD 50 / stay\",\"type\":\"Pet\"},{\"amo...       NaN  33.838097   \n",
       "\n",
       "         long   ...                                               people  \\\n",
       "0 -116.528496   ...    [{\"dateSeen\":\"2016-01-03T00:00:00Z\",\"name\":\"Ab...   \n",
       "1 -116.528496   ...    [{\"dateSeen\":\"2016-01-03T00:00:00Z\",\"name\":\"Ab...   \n",
       "2 -116.528496   ...    [{\"dateSeen\":\"2016-01-03T00:00:00Z\",\"name\":\"Ab...   \n",
       "3 -116.528496   ...    [{\"dateSeen\":\"2016-01-03T00:00:00Z\",\"name\":\"Ab...   \n",
       "4 -116.528496   ...    [{\"dateSeen\":\"2016-01-03T00:00:00Z\",\"name\":\"Ab...   \n",
       "\n",
       "  petPolicy                                    prices.dateSeen  \\\n",
       "0       NaN                               2015-12-18T00:00:00Z   \n",
       "1       NaN                               2015-12-18T00:00:00Z   \n",
       "2       NaN                               2015-12-18T00:00:00Z   \n",
       "3       NaN                               2015-12-18T00:00:00Z   \n",
       "4       NaN  2016-01-21T00:00:00Z, 2016-01-03T00:00:00Z, 20...   \n",
       "\n",
       "   prices.dateValidEnd prices.dateValidStart prices.minStay prices.period  \\\n",
       "0            28-Dec-15             24-Dec-15       4 nights        Weekly   \n",
       "1             3-Jan-16             30-Dec-15       3 nights        Weekly   \n",
       "2            28-Dec-15             24-Dec-15       4 nights     Weeknight   \n",
       "3             3-Jan-16             30-Dec-15       3 nights     Weeknight   \n",
       "4            31-May-16              4-Jan-16        1 night        Weekly   \n",
       "\n",
       "  prices.price rules   price  \n",
       "0     USD 3300   NaN  3300.0  \n",
       "1     USD 3200   NaN  3200.0  \n",
       "2      USD 525   NaN   525.0  \n",
       "3      USD 500   NaN   500.0  \n",
       "4     USD 2499   NaN  2499.0  \n",
       "\n",
       "[5 rows x 25 columns]"
      ]
     },
     "execution_count": 181,
     "metadata": {},
     "output_type": "execute_result"
    }
   ],
   "source": [
    "df[\"price\"] = df[\"prices.price\"].map(lambda x: parse_number(x, number_parser=float))\n",
    "df.head()"
   ]
  },
  {
   "cell_type": "code",
   "execution_count": 182,
   "metadata": {},
   "outputs": [
    {
     "data": {
      "text/plain": [
       "count    10621.000000\n",
       "mean      2581.396667\n",
       "std       4763.887324\n",
       "min         44.000000\n",
       "25%        425.000000\n",
       "50%       1195.000000\n",
       "75%       2954.000000\n",
       "max      99820.000000\n",
       "Name: price, dtype: float64"
      ]
     },
     "execution_count": 182,
     "metadata": {},
     "output_type": "execute_result"
    }
   ],
   "source": [
    "df[\"price\"].describe()"
   ]
  },
  {
   "cell_type": "markdown",
   "metadata": {},
   "source": [
    "## Assessing the data about bathrooms"
   ]
  },
  {
   "cell_type": "code",
   "execution_count": 183,
   "metadata": {},
   "outputs": [
    {
     "data": {
      "text/plain": [
       "array(['2', '3', '4', '6', '1', '9', '5', '12', '1.5', '2.5', '3.5',\n",
       "       '4.5', nan, '5.5', '8+', '6.5', '7', '8', '10', '13'], dtype=object)"
      ]
     },
     "execution_count": 183,
     "metadata": {},
     "output_type": "execute_result"
    }
   ],
   "source": [
    "df[\"numBathroom\"].unique()"
   ]
  },
  {
   "cell_type": "markdown",
   "metadata": {},
   "source": [
    "### Missing values\n",
    "\n",
    "There are some observations that have no bathrooms specifed - let's check them:"
   ]
  },
  {
   "cell_type": "code",
   "execution_count": 184,
   "metadata": {},
   "outputs": [
    {
     "data": {
      "text/plain": [
       "2666    3.0\n",
       "2794    1.0\n",
       "2795    1.0\n",
       "Name: numBed, dtype: float64"
      ]
     },
     "execution_count": 184,
     "metadata": {},
     "output_type": "execute_result"
    }
   ],
   "source": [
    "df[ df[\"numBathroom\"].isnull() ][\"numBed\"]"
   ]
  },
  {
   "cell_type": "markdown",
   "metadata": {},
   "source": [
    "These look quite small! Assuming the minimum amount bathrooms soterd in dataset is `\"1\"` - we will use it to fill the empty values in this case."
   ]
  },
  {
   "cell_type": "code",
   "execution_count": 185,
   "metadata": {},
   "outputs": [
    {
     "data": {
      "text/plain": [
       "array(['2', '3', '4', '6', '1', '9', '5', '12', '1.5', '2.5', '3.5',\n",
       "       '4.5', '5.5', '8+', '6.5', '7', '8', '10', '13'], dtype=object)"
      ]
     },
     "execution_count": 185,
     "metadata": {},
     "output_type": "execute_result"
    }
   ],
   "source": [
    "df[\"numBathroom\"].fillna(\"1\", inplace=True)\n",
    "df[\"numBathroom\"].unique()"
   ]
  },
  {
   "cell_type": "markdown",
   "metadata": {},
   "source": [
    "### Other non-decimal-parsable observations\n",
    "\n",
    "There is one more outstanding case with strange value - `\"8+\"`. Let's examine it next:"
   ]
  },
  {
   "cell_type": "code",
   "execution_count": 186,
   "metadata": {},
   "outputs": [
    {
     "data": {
      "text/html": [
       "<div>\n",
       "<style scoped>\n",
       "    .dataframe tbody tr th:only-of-type {\n",
       "        vertical-align: middle;\n",
       "    }\n",
       "\n",
       "    .dataframe tbody tr th {\n",
       "        vertical-align: top;\n",
       "    }\n",
       "\n",
       "    .dataframe thead th {\n",
       "        text-align: right;\n",
       "    }\n",
       "</style>\n",
       "<table border=\"1\" class=\"dataframe\">\n",
       "  <thead>\n",
       "    <tr style=\"text-align: right;\">\n",
       "      <th></th>\n",
       "      <th>city</th>\n",
       "      <th>dateAdded</th>\n",
       "      <th>dateUpdated</th>\n",
       "      <th>deposit</th>\n",
       "      <th>descriptions</th>\n",
       "      <th>features</th>\n",
       "      <th>fees</th>\n",
       "      <th>languages</th>\n",
       "      <th>lat</th>\n",
       "      <th>long</th>\n",
       "      <th>...</th>\n",
       "      <th>people</th>\n",
       "      <th>petPolicy</th>\n",
       "      <th>prices.dateSeen</th>\n",
       "      <th>prices.dateValidEnd</th>\n",
       "      <th>prices.dateValidStart</th>\n",
       "      <th>prices.minStay</th>\n",
       "      <th>prices.period</th>\n",
       "      <th>prices.price</th>\n",
       "      <th>rules</th>\n",
       "      <th>price</th>\n",
       "    </tr>\n",
       "  </thead>\n",
       "  <tbody>\n",
       "    <tr>\n",
       "      <th>3248</th>\n",
       "      <td>Palm Springs</td>\n",
       "      <td>2015-10-13T19:33:24Z</td>\n",
       "      <td>2015-11-06T20:13:55Z</td>\n",
       "      <td>NaN</td>\n",
       "      <td>NaN</td>\n",
       "      <td>[{\"key\":\"Kitchen\",\"value\":\"Space where guests ...</td>\n",
       "      <td>[\"USD 300.00\"]</td>\n",
       "      <td>NaN</td>\n",
       "      <td>33.822399</td>\n",
       "      <td>-116.552586</td>\n",
       "      <td>...</td>\n",
       "      <td>[{\"name\":\"Mclean Company\",\"title\":\"Host\"}]</td>\n",
       "      <td>NaN</td>\n",
       "      <td>2015-07-30T00:00:00Z</td>\n",
       "      <td>NaN</td>\n",
       "      <td>NaN</td>\n",
       "      <td>NaN</td>\n",
       "      <td>Weekly</td>\n",
       "      <td>USD 8885.00</td>\n",
       "      <td>This property is professionally managed by McL...</td>\n",
       "      <td>8885.0</td>\n",
       "    </tr>\n",
       "  </tbody>\n",
       "</table>\n",
       "<p>1 rows × 25 columns</p>\n",
       "</div>"
      ],
      "text/plain": [
       "              city             dateAdded           dateUpdated deposit  \\\n",
       "3248  Palm Springs  2015-10-13T19:33:24Z  2015-11-06T20:13:55Z     NaN   \n",
       "\n",
       "     descriptions                                           features  \\\n",
       "3248          NaN  [{\"key\":\"Kitchen\",\"value\":\"Space where guests ...   \n",
       "\n",
       "                fees languages        lat        long   ...    \\\n",
       "3248  [\"USD 300.00\"]       NaN  33.822399 -116.552586   ...     \n",
       "\n",
       "                                          people petPolicy  \\\n",
       "3248  [{\"name\":\"Mclean Company\",\"title\":\"Host\"}]       NaN   \n",
       "\n",
       "           prices.dateSeen  prices.dateValidEnd prices.dateValidStart  \\\n",
       "3248  2015-07-30T00:00:00Z                  NaN                   NaN   \n",
       "\n",
       "     prices.minStay prices.period prices.price  \\\n",
       "3248            NaN        Weekly  USD 8885.00   \n",
       "\n",
       "                                                  rules   price  \n",
       "3248  This property is professionally managed by McL...  8885.0  \n",
       "\n",
       "[1 rows x 25 columns]"
      ]
     },
     "execution_count": 186,
     "metadata": {},
     "output_type": "execute_result"
    }
   ],
   "source": [
    "df[ df[\"numBathroom\"] == \"8+\" ]"
   ]
  },
  {
   "cell_type": "markdown",
   "metadata": {},
   "source": [
    "We could treat such a value either as `\"8\"` or `\"8.5\"`. Because this is only one example, it won't have signifficant impact for analysis if we take it \"wrong\", so for simplycity, we will re-use earlier defined `parse_number` and let it be treated as `\"8\"`:"
   ]
  },
  {
   "cell_type": "markdown",
   "metadata": {},
   "source": [
    "### Parse the values"
   ]
  },
  {
   "cell_type": "code",
   "execution_count": 187,
   "metadata": {},
   "outputs": [
    {
     "data": {
      "text/plain": [
       "array([ 2. ,  3. ,  4. ,  6. ,  1. ,  9. ,  5. , 12. ,  1.5,  2.5,  3.5,\n",
       "        4.5,  5.5,  8. ,  6.5,  7. , 10. , 13. ])"
      ]
     },
     "execution_count": 187,
     "metadata": {},
     "output_type": "execute_result"
    }
   ],
   "source": [
    "df[\"numBathroom\"] = df[\"numBathroom\"].map(lambda x: parse_number(x, number_parser=float))\n",
    "df[\"numBathroom\"].unique()"
   ]
  },
  {
   "cell_type": "code",
   "execution_count": 151,
   "metadata": {},
   "outputs": [
    {
     "name": "stdout",
     "output_type": "stream",
     "text": [
      "<class 'pandas.core.frame.DataFrame'>\n",
      "Int64Index: 10621 entries, 0 to 11372\n",
      "Data columns (total 25 columns):\n",
      "city                     10621 non-null object\n",
      "dateAdded                10621 non-null object\n",
      "dateUpdated              10621 non-null object\n",
      "deposit                  284 non-null object\n",
      "descriptions             10235 non-null object\n",
      "features                 7839 non-null object\n",
      "fees                     6546 non-null object\n",
      "languages                8 non-null object\n",
      "lat                      10584 non-null float64\n",
      "long                     10584 non-null float64\n",
      "name                     10619 non-null object\n",
      "numBathroom              10621 non-null float64\n",
      "numBedroom               10621 non-null int64\n",
      "numBed                   936 non-null float64\n",
      "numPeople                10621 non-null object\n",
      "people                   6685 non-null object\n",
      "petPolicy                17 non-null object\n",
      "prices.dateSeen          10621 non-null object\n",
      "prices.dateValidEnd      240 non-null object\n",
      "prices.dateValidStart    240 non-null object\n",
      "prices.minStay           9941 non-null object\n",
      "prices.period            10318 non-null object\n",
      "prices.price             10621 non-null object\n",
      "rules                    831 non-null object\n",
      "price                    10621 non-null float64\n",
      "dtypes: float64(5), int64(1), object(19)\n",
      "memory usage: 2.1+ MB\n"
     ]
    }
   ],
   "source": [
    "df.info()"
   ]
  },
  {
   "cell_type": "code",
   "execution_count": 153,
   "metadata": {},
   "outputs": [
    {
     "data": {
      "text/html": [
       "<div>\n",
       "<style scoped>\n",
       "    .dataframe tbody tr th:only-of-type {\n",
       "        vertical-align: middle;\n",
       "    }\n",
       "\n",
       "    .dataframe tbody tr th {\n",
       "        vertical-align: top;\n",
       "    }\n",
       "\n",
       "    .dataframe thead th {\n",
       "        text-align: right;\n",
       "    }\n",
       "</style>\n",
       "<table border=\"1\" class=\"dataframe\">\n",
       "  <thead>\n",
       "    <tr style=\"text-align: right;\">\n",
       "      <th></th>\n",
       "      <th>lat</th>\n",
       "      <th>long</th>\n",
       "      <th>numBathroom</th>\n",
       "      <th>numBedroom</th>\n",
       "      <th>numBed</th>\n",
       "      <th>price</th>\n",
       "    </tr>\n",
       "  </thead>\n",
       "  <tbody>\n",
       "    <tr>\n",
       "      <th>count</th>\n",
       "      <td>10584.000000</td>\n",
       "      <td>10584.000000</td>\n",
       "      <td>10621.000000</td>\n",
       "      <td>10621.000000</td>\n",
       "      <td>936.000000</td>\n",
       "      <td>10621.000000</td>\n",
       "    </tr>\n",
       "    <tr>\n",
       "      <th>mean</th>\n",
       "      <td>33.812185</td>\n",
       "      <td>-116.454903</td>\n",
       "      <td>2.488466</td>\n",
       "      <td>2.719895</td>\n",
       "      <td>2.540598</td>\n",
       "      <td>2581.396667</td>\n",
       "    </tr>\n",
       "    <tr>\n",
       "      <th>std</th>\n",
       "      <td>0.334113</td>\n",
       "      <td>1.658162</td>\n",
       "      <td>1.294521</td>\n",
       "      <td>1.187731</td>\n",
       "      <td>1.442093</td>\n",
       "      <td>4763.887324</td>\n",
       "    </tr>\n",
       "    <tr>\n",
       "      <th>min</th>\n",
       "      <td>26.519110</td>\n",
       "      <td>-118.067952</td>\n",
       "      <td>1.000000</td>\n",
       "      <td>0.000000</td>\n",
       "      <td>1.000000</td>\n",
       "      <td>44.000000</td>\n",
       "    </tr>\n",
       "    <tr>\n",
       "      <th>25%</th>\n",
       "      <td>33.811797</td>\n",
       "      <td>-116.542770</td>\n",
       "      <td>2.000000</td>\n",
       "      <td>2.000000</td>\n",
       "      <td>1.000000</td>\n",
       "      <td>425.000000</td>\n",
       "    </tr>\n",
       "    <tr>\n",
       "      <th>50%</th>\n",
       "      <td>33.830296</td>\n",
       "      <td>-116.537190</td>\n",
       "      <td>2.000000</td>\n",
       "      <td>3.000000</td>\n",
       "      <td>2.000000</td>\n",
       "      <td>1195.000000</td>\n",
       "    </tr>\n",
       "    <tr>\n",
       "      <th>75%</th>\n",
       "      <td>33.846745</td>\n",
       "      <td>-116.522560</td>\n",
       "      <td>3.000000</td>\n",
       "      <td>3.000000</td>\n",
       "      <td>3.000000</td>\n",
       "      <td>2954.000000</td>\n",
       "    </tr>\n",
       "    <tr>\n",
       "      <th>max</th>\n",
       "      <td>35.428080</td>\n",
       "      <td>-80.130196</td>\n",
       "      <td>13.000000</td>\n",
       "      <td>10.000000</td>\n",
       "      <td>11.000000</td>\n",
       "      <td>99820.000000</td>\n",
       "    </tr>\n",
       "  </tbody>\n",
       "</table>\n",
       "</div>"
      ],
      "text/plain": [
       "                lat          long   numBathroom    numBedroom      numBed  \\\n",
       "count  10584.000000  10584.000000  10621.000000  10621.000000  936.000000   \n",
       "mean      33.812185   -116.454903      2.488466      2.719895    2.540598   \n",
       "std        0.334113      1.658162      1.294521      1.187731    1.442093   \n",
       "min       26.519110   -118.067952      1.000000      0.000000    1.000000   \n",
       "25%       33.811797   -116.542770      2.000000      2.000000    1.000000   \n",
       "50%       33.830296   -116.537190      2.000000      3.000000    2.000000   \n",
       "75%       33.846745   -116.522560      3.000000      3.000000    3.000000   \n",
       "max       35.428080    -80.130196     13.000000     10.000000   11.000000   \n",
       "\n",
       "              price  \n",
       "count  10621.000000  \n",
       "mean    2581.396667  \n",
       "std     4763.887324  \n",
       "min       44.000000  \n",
       "25%      425.000000  \n",
       "50%     1195.000000  \n",
       "75%     2954.000000  \n",
       "max    99820.000000  "
      ]
     },
     "execution_count": 153,
     "metadata": {},
     "output_type": "execute_result"
    }
   ],
   "source": [
    "df.describe()"
   ]
  },
  {
   "cell_type": "markdown",
   "metadata": {},
   "source": [
    "## Assessing numPeople"
   ]
  },
  {
   "cell_type": "code",
   "execution_count": 188,
   "metadata": {},
   "outputs": [
    {
     "data": {
      "text/plain": [
       "array(['6', '8', '7', '10', '4', '2', '5', '3', '12', '11', '20', '9',\n",
       "       '14', '1', '16', '16+', '13', '18', '15'], dtype=object)"
      ]
     },
     "execution_count": 188,
     "metadata": {},
     "output_type": "execute_result"
    }
   ],
   "source": [
    "df[\"numPeople\"].unique()"
   ]
  },
  {
   "cell_type": "code",
   "execution_count": 189,
   "metadata": {},
   "outputs": [
    {
     "data": {
      "text/html": [
       "<div>\n",
       "<style scoped>\n",
       "    .dataframe tbody tr th:only-of-type {\n",
       "        vertical-align: middle;\n",
       "    }\n",
       "\n",
       "    .dataframe tbody tr th {\n",
       "        vertical-align: top;\n",
       "    }\n",
       "\n",
       "    .dataframe thead th {\n",
       "        text-align: right;\n",
       "    }\n",
       "</style>\n",
       "<table border=\"1\" class=\"dataframe\">\n",
       "  <thead>\n",
       "    <tr style=\"text-align: right;\">\n",
       "      <th></th>\n",
       "      <th>city</th>\n",
       "      <th>dateAdded</th>\n",
       "      <th>dateUpdated</th>\n",
       "      <th>deposit</th>\n",
       "      <th>descriptions</th>\n",
       "      <th>features</th>\n",
       "      <th>fees</th>\n",
       "      <th>languages</th>\n",
       "      <th>lat</th>\n",
       "      <th>long</th>\n",
       "      <th>...</th>\n",
       "      <th>people</th>\n",
       "      <th>petPolicy</th>\n",
       "      <th>prices.dateSeen</th>\n",
       "      <th>prices.dateValidEnd</th>\n",
       "      <th>prices.dateValidStart</th>\n",
       "      <th>prices.minStay</th>\n",
       "      <th>prices.period</th>\n",
       "      <th>prices.price</th>\n",
       "      <th>rules</th>\n",
       "      <th>price</th>\n",
       "    </tr>\n",
       "  </thead>\n",
       "  <tbody>\n",
       "    <tr>\n",
       "      <th>3248</th>\n",
       "      <td>Palm Springs</td>\n",
       "      <td>2015-10-13T19:33:24Z</td>\n",
       "      <td>2015-11-06T20:13:55Z</td>\n",
       "      <td>NaN</td>\n",
       "      <td>NaN</td>\n",
       "      <td>[{\"key\":\"Kitchen\",\"value\":\"Space where guests ...</td>\n",
       "      <td>[\"USD 300.00\"]</td>\n",
       "      <td>NaN</td>\n",
       "      <td>33.822399</td>\n",
       "      <td>-116.552586</td>\n",
       "      <td>...</td>\n",
       "      <td>[{\"name\":\"Mclean Company\",\"title\":\"Host\"}]</td>\n",
       "      <td>NaN</td>\n",
       "      <td>2015-07-30T00:00:00Z</td>\n",
       "      <td>NaN</td>\n",
       "      <td>NaN</td>\n",
       "      <td>NaN</td>\n",
       "      <td>Weekly</td>\n",
       "      <td>USD 8885.00</td>\n",
       "      <td>This property is professionally managed by McL...</td>\n",
       "      <td>8885.0</td>\n",
       "    </tr>\n",
       "  </tbody>\n",
       "</table>\n",
       "<p>1 rows × 25 columns</p>\n",
       "</div>"
      ],
      "text/plain": [
       "              city             dateAdded           dateUpdated deposit  \\\n",
       "3248  Palm Springs  2015-10-13T19:33:24Z  2015-11-06T20:13:55Z     NaN   \n",
       "\n",
       "     descriptions                                           features  \\\n",
       "3248          NaN  [{\"key\":\"Kitchen\",\"value\":\"Space where guests ...   \n",
       "\n",
       "                fees languages        lat        long   ...    \\\n",
       "3248  [\"USD 300.00\"]       NaN  33.822399 -116.552586   ...     \n",
       "\n",
       "                                          people  petPolicy  \\\n",
       "3248  [{\"name\":\"Mclean Company\",\"title\":\"Host\"}]        NaN   \n",
       "\n",
       "           prices.dateSeen  prices.dateValidEnd prices.dateValidStart  \\\n",
       "3248  2015-07-30T00:00:00Z                  NaN                   NaN   \n",
       "\n",
       "     prices.minStay prices.period prices.price  \\\n",
       "3248            NaN        Weekly  USD 8885.00   \n",
       "\n",
       "                                                  rules   price  \n",
       "3248  This property is professionally managed by McL...  8885.0  \n",
       "\n",
       "[1 rows x 25 columns]"
      ]
     },
     "execution_count": 189,
     "metadata": {},
     "output_type": "execute_result"
    }
   ],
   "source": [
    "df[ df[\"numPeople\"] == \"16+\" ]"
   ]
  },
  {
   "cell_type": "code",
   "execution_count": 190,
   "metadata": {},
   "outputs": [
    {
     "data": {
      "text/plain": [
       "array([ 6,  8,  7, 10,  4,  2,  5,  3, 12, 11, 20,  9, 14,  1, 16, 13, 18,\n",
       "       15])"
      ]
     },
     "execution_count": 190,
     "metadata": {},
     "output_type": "execute_result"
    }
   ],
   "source": [
    "df[\"numPeople\"] = df[\"numPeople\"].map(lambda x: parse_number(x, number_parser=int))\n",
    "df[\"numPeople\"].unique()"
   ]
  },
  {
   "cell_type": "code",
   "execution_count": 196,
   "metadata": {},
   "outputs": [
    {
     "data": {
      "text/plain": [
       "array([   0.,  750.,  100.,  300., 1000.,  400.,  500.,  800., 1500.,\n",
       "        150.,  250.,  350.,  125.,  200.,   95., 3000.,  600.,  499.,\n",
       "        299.,  375.,  850.,  225.,  450.,  700.])"
      ]
     },
     "execution_count": 196,
     "metadata": {},
     "output_type": "execute_result"
    }
   ],
   "source": [
    "df[\"deposit\"].fillna(\"USD 0\", inplace=True)\n",
    "df[\"deposit\"] = df[\"deposit\"].map(lambda x: parse_number(x, number_parser=float))\n",
    "df[\"deposit\"].unique()"
   ]
  },
  {
   "cell_type": "code",
   "execution_count": 197,
   "metadata": {},
   "outputs": [
    {
     "data": {
      "image/png": "[encoded data removed]",
      "text/plain": [
       "<Figure size 1440x1080 with 9 Axes>"
      ]
     },
     "metadata": {},
     "output_type": "display_data"
    }
   ],
   "source": [
    "df.hist(bins=50, figsize=(20, 15));"
   ]
  },
  {
   "cell_type": "code",
   "execution_count": 205,
   "metadata": {},
   "outputs": [],
   "source": [
    "df[\"fees\"].fillna(\"{}\", inplace=True)"
   ]
  },
  {
   "cell_type": "code",
   "execution_count": 212,
   "metadata": {},
   "outputs": [
    {
     "data": {
      "text/html": [
       "<div>\n",
       "<style scoped>\n",
       "    .dataframe tbody tr th:only-of-type {\n",
       "        vertical-align: middle;\n",
       "    }\n",
       "\n",
       "    .dataframe tbody tr th {\n",
       "        vertical-align: top;\n",
       "    }\n",
       "\n",
       "    .dataframe thead th {\n",
       "        text-align: right;\n",
       "    }\n",
       "</style>\n",
       "<table border=\"1\" class=\"dataframe\">\n",
       "  <thead>\n",
       "    <tr style=\"text-align: right;\">\n",
       "      <th></th>\n",
       "      <th>city</th>\n",
       "      <th>dateAdded</th>\n",
       "      <th>dateUpdated</th>\n",
       "      <th>deposit</th>\n",
       "      <th>descriptions</th>\n",
       "      <th>features</th>\n",
       "      <th>fees</th>\n",
       "      <th>languages</th>\n",
       "      <th>lat</th>\n",
       "      <th>long</th>\n",
       "      <th>...</th>\n",
       "      <th>people</th>\n",
       "      <th>petPolicy</th>\n",
       "      <th>prices.dateSeen</th>\n",
       "      <th>prices.dateValidEnd</th>\n",
       "      <th>prices.dateValidStart</th>\n",
       "      <th>prices.minStay</th>\n",
       "      <th>prices.period</th>\n",
       "      <th>prices.price</th>\n",
       "      <th>rules</th>\n",
       "      <th>price</th>\n",
       "    </tr>\n",
       "  </thead>\n",
       "  <tbody>\n",
       "  </tbody>\n",
       "</table>\n",
       "<p>0 rows × 25 columns</p>\n",
       "</div>"
      ],
      "text/plain": [
       "Empty DataFrame\n",
       "Columns: [city, dateAdded, dateUpdated, deposit, descriptions, features, fees, languages, lat, long, name, numBathroom, numBedroom, numBed, numPeople, people, petPolicy, prices.dateSeen, prices.dateValidEnd, prices.dateValidStart, prices.minStay, prices.period, prices.price, rules, price]\n",
       "Index: []\n",
       "\n",
       "[0 rows x 25 columns]"
      ]
     },
     "execution_count": 212,
     "metadata": {},
     "output_type": "execute_result"
    }
   ],
   "source": [
    "df[ df[\"fees\"] == \"false\" ]"
   ]
  },
  {
   "cell_type": "code",
   "execution_count": 224,
   "metadata": {},
   "outputs": [
    {
     "data": {
      "text/html": [
       "<div>\n",
       "<style scoped>\n",
       "    .dataframe tbody tr th:only-of-type {\n",
       "        vertical-align: middle;\n",
       "    }\n",
       "\n",
       "    .dataframe tbody tr th {\n",
       "        vertical-align: top;\n",
       "    }\n",
       "\n",
       "    .dataframe thead th {\n",
       "        text-align: right;\n",
       "    }\n",
       "</style>\n",
       "<table border=\"1\" class=\"dataframe\">\n",
       "  <thead>\n",
       "    <tr style=\"text-align: right;\">\n",
       "      <th></th>\n",
       "      <th>col 1</th>\n",
       "      <th>col 2</th>\n",
       "    </tr>\n",
       "  </thead>\n",
       "  <tbody>\n",
       "    <tr>\n",
       "      <th>row 1</th>\n",
       "      <td>a</td>\n",
       "      <td>b</td>\n",
       "    </tr>\n",
       "    <tr>\n",
       "      <th>row 2</th>\n",
       "      <td>c</td>\n",
       "      <td>d</td>\n",
       "    </tr>\n",
       "  </tbody>\n",
       "</table>\n",
       "</div>"
      ],
      "text/plain": [
       "      col 1 col 2\n",
       "row 1     a     b\n",
       "row 2     c     d"
      ]
     },
     "execution_count": 224,
     "metadata": {},
     "output_type": "execute_result"
    }
   ],
   "source": [
    "pd.read_json('{\"row 1\":{\"col 1\":\"a\",\"col 2\":\"b\"},\"row 2\":{\"col 1\":\"c\",\"col 2\":\"d\"}}', orient='index')"
   ]
  },
  {
   "cell_type": "code",
   "execution_count": 226,
   "metadata": {},
   "outputs": [
    {
     "data": {
      "text/html": [
       "<div>\n",
       "<style scoped>\n",
       "    .dataframe tbody tr th:only-of-type {\n",
       "        vertical-align: middle;\n",
       "    }\n",
       "\n",
       "    .dataframe tbody tr th {\n",
       "        vertical-align: top;\n",
       "    }\n",
       "\n",
       "    .dataframe thead th {\n",
       "        text-align: right;\n",
       "    }\n",
       "</style>\n",
       "<table border=\"1\" class=\"dataframe\">\n",
       "  <thead>\n",
       "    <tr style=\"text-align: right;\">\n",
       "      <th></th>\n",
       "      <th>amount</th>\n",
       "      <th>type</th>\n",
       "    </tr>\n",
       "  </thead>\n",
       "  <tbody>\n",
       "    <tr>\n",
       "      <th>0</th>\n",
       "      <td>USD 50 / stay</td>\n",
       "      <td>Pet</td>\n",
       "    </tr>\n",
       "    <tr>\n",
       "      <th>1</th>\n",
       "      <td>USD 175 / stay</td>\n",
       "      <td>Cleaning fee</td>\n",
       "    </tr>\n",
       "  </tbody>\n",
       "</table>\n",
       "</div>"
      ],
      "text/plain": [
       "           amount          type\n",
       "0   USD 50 / stay           Pet\n",
       "1  USD 175 / stay  Cleaning fee"
      ]
     },
     "execution_count": 226,
     "metadata": {},
     "output_type": "execute_result"
    }
   ],
   "source": [
    "pd.read_json('[{\"amount\":\"USD 50 / stay\",\"type\":\"Pet\"},{\"amount\":\"USD 175 / stay\",\"type\":\"Cleaning fee\"}]')"
   ]
  },
  {
   "cell_type": "code",
   "execution_count": 227,
   "metadata": {},
   "outputs": [
    {
     "data": {
      "text/html": [
       "<div>\n",
       "<style scoped>\n",
       "    .dataframe tbody tr th:only-of-type {\n",
       "        vertical-align: middle;\n",
       "    }\n",
       "\n",
       "    .dataframe tbody tr th {\n",
       "        vertical-align: top;\n",
       "    }\n",
       "\n",
       "    .dataframe thead th {\n",
       "        text-align: right;\n",
       "    }\n",
       "</style>\n",
       "<table border=\"1\" class=\"dataframe\">\n",
       "  <thead>\n",
       "    <tr style=\"text-align: right;\">\n",
       "      <th></th>\n",
       "      <th>0</th>\n",
       "      <th>1</th>\n",
       "    </tr>\n",
       "  </thead>\n",
       "  <tbody>\n",
       "    <tr>\n",
       "      <th>amount</th>\n",
       "      <td>USD 50 / stay</td>\n",
       "      <td>USD 175 / stay</td>\n",
       "    </tr>\n",
       "    <tr>\n",
       "      <th>type</th>\n",
       "      <td>Pet</td>\n",
       "      <td>Cleaning fee</td>\n",
       "    </tr>\n",
       "  </tbody>\n",
       "</table>\n",
       "</div>"
      ],
      "text/plain": [
       "                    0               1\n",
       "amount  USD 50 / stay  USD 175 / stay\n",
       "type              Pet    Cleaning fee"
      ]
     },
     "execution_count": 227,
     "metadata": {},
     "output_type": "execute_result"
    }
   ],
   "source": [
    "pd.read_json('[{\"amount\":\"USD 50 / stay\",\"type\":\"Pet\"},{\"amount\":\"USD 175 / stay\",\"type\":\"Cleaning fee\"}]',\n",
    "             orient=\"index\")"
   ]
  },
  {
   "cell_type": "code",
   "execution_count": 225,
   "metadata": {},
   "outputs": [
    {
     "data": {
      "text/plain": [
       "'[{\"amount\":\"USD 50 / stay\",\"type\":\"Pet\"},{\"amount\":\"USD 175 / stay\",\"type\":\"Cleaning fee\"}]'"
      ]
     },
     "execution_count": 225,
     "metadata": {},
     "output_type": "execute_result"
    }
   ],
   "source": [
    "df[\"fees\"].unique()[0]"
   ]
  },
  {
   "cell_type": "code",
   "execution_count": 217,
   "metadata": {},
   "outputs": [
    {
     "ename": "AttributeError",
     "evalue": "'str' object has no attribute 'keys'",
     "output_type": "error",
     "traceback": [
      "\u001b[0;31m---------------------------------------------------------------------------\u001b[0m",
      "\u001b[0;31mAttributeError\u001b[0m                            Traceback (most recent call last)",
      "\u001b[0;32m<ipython-input-217-57725bf2c1de>\u001b[0m in \u001b[0;36m<module>\u001b[0;34m\u001b[0m\n\u001b[1;32m      1\u001b[0m \u001b[0;32mfor\u001b[0m \u001b[0mentry\u001b[0m \u001b[0;32min\u001b[0m \u001b[0mdf\u001b[0m\u001b[0;34m[\u001b[0m\u001b[0;34m\"fees\"\u001b[0m\u001b[0;34m]\u001b[0m\u001b[0;34m.\u001b[0m\u001b[0munique\u001b[0m\u001b[0;34m(\u001b[0m\u001b[0;34m)\u001b[0m\u001b[0;34m:\u001b[0m\u001b[0;34m\u001b[0m\u001b[0;34m\u001b[0m\u001b[0m\n\u001b[0;32m----> 2\u001b[0;31m     \u001b[0mpd\u001b[0m\u001b[0;34m.\u001b[0m\u001b[0mread_json\u001b[0m\u001b[0;34m(\u001b[0m\u001b[0mentry\u001b[0m\u001b[0;34m)\u001b[0m\u001b[0;34m\u001b[0m\u001b[0;34m\u001b[0m\u001b[0m\n\u001b[0m",
      "\u001b[0;32m~/anaconda3/lib/python3.7/site-packages/pandas/io/json/json.py\u001b[0m in \u001b[0;36mread_json\u001b[0;34m(path_or_buf, orient, typ, dtype, convert_axes, convert_dates, keep_default_dates, numpy, precise_float, date_unit, encoding, lines, chunksize, compression)\u001b[0m\n\u001b[1;32m    420\u001b[0m         \u001b[0;32mreturn\u001b[0m \u001b[0mjson_reader\u001b[0m\u001b[0;34m\u001b[0m\u001b[0;34m\u001b[0m\u001b[0m\n\u001b[1;32m    421\u001b[0m \u001b[0;34m\u001b[0m\u001b[0m\n\u001b[0;32m--> 422\u001b[0;31m     \u001b[0mresult\u001b[0m \u001b[0;34m=\u001b[0m \u001b[0mjson_reader\u001b[0m\u001b[0;34m.\u001b[0m\u001b[0mread\u001b[0m\u001b[0;34m(\u001b[0m\u001b[0;34m)\u001b[0m\u001b[0;34m\u001b[0m\u001b[0;34m\u001b[0m\u001b[0m\n\u001b[0m\u001b[1;32m    423\u001b[0m     \u001b[0;32mif\u001b[0m \u001b[0mshould_close\u001b[0m\u001b[0;34m:\u001b[0m\u001b[0;34m\u001b[0m\u001b[0;34m\u001b[0m\u001b[0m\n\u001b[1;32m    424\u001b[0m         \u001b[0;32mtry\u001b[0m\u001b[0;34m:\u001b[0m\u001b[0;34m\u001b[0m\u001b[0;34m\u001b[0m\u001b[0m\n",
      "\u001b[0;32m~/anaconda3/lib/python3.7/site-packages/pandas/io/json/json.py\u001b[0m in \u001b[0;36mread\u001b[0;34m(self)\u001b[0m\n\u001b[1;32m    527\u001b[0m             )\n\u001b[1;32m    528\u001b[0m         \u001b[0;32melse\u001b[0m\u001b[0;34m:\u001b[0m\u001b[0;34m\u001b[0m\u001b[0;34m\u001b[0m\u001b[0m\n\u001b[0;32m--> 529\u001b[0;31m             \u001b[0mobj\u001b[0m \u001b[0;34m=\u001b[0m \u001b[0mself\u001b[0m\u001b[0;34m.\u001b[0m\u001b[0m_get_object_parser\u001b[0m\u001b[0;34m(\u001b[0m\u001b[0mself\u001b[0m\u001b[0;34m.\u001b[0m\u001b[0mdata\u001b[0m\u001b[0;34m)\u001b[0m\u001b[0;34m\u001b[0m\u001b[0;34m\u001b[0m\u001b[0m\n\u001b[0m\u001b[1;32m    530\u001b[0m         \u001b[0mself\u001b[0m\u001b[0;34m.\u001b[0m\u001b[0mclose\u001b[0m\u001b[0;34m(\u001b[0m\u001b[0;34m)\u001b[0m\u001b[0;34m\u001b[0m\u001b[0;34m\u001b[0m\u001b[0m\n\u001b[1;32m    531\u001b[0m         \u001b[0;32mreturn\u001b[0m \u001b[0mobj\u001b[0m\u001b[0;34m\u001b[0m\u001b[0;34m\u001b[0m\u001b[0m\n",
      "\u001b[0;32m~/anaconda3/lib/python3.7/site-packages/pandas/io/json/json.py\u001b[0m in \u001b[0;36m_get_object_parser\u001b[0;34m(self, json)\u001b[0m\n\u001b[1;32m    544\u001b[0m         \u001b[0mobj\u001b[0m \u001b[0;34m=\u001b[0m \u001b[0;32mNone\u001b[0m\u001b[0;34m\u001b[0m\u001b[0;34m\u001b[0m\u001b[0m\n\u001b[1;32m    545\u001b[0m         \u001b[0;32mif\u001b[0m \u001b[0mtyp\u001b[0m \u001b[0;34m==\u001b[0m \u001b[0;34m'frame'\u001b[0m\u001b[0;34m:\u001b[0m\u001b[0;34m\u001b[0m\u001b[0;34m\u001b[0m\u001b[0m\n\u001b[0;32m--> 546\u001b[0;31m             \u001b[0mobj\u001b[0m \u001b[0;34m=\u001b[0m \u001b[0mFrameParser\u001b[0m\u001b[0;34m(\u001b[0m\u001b[0mjson\u001b[0m\u001b[0;34m,\u001b[0m \u001b[0;34m**\u001b[0m\u001b[0mkwargs\u001b[0m\u001b[0;34m)\u001b[0m\u001b[0;34m.\u001b[0m\u001b[0mparse\u001b[0m\u001b[0;34m(\u001b[0m\u001b[0;34m)\u001b[0m\u001b[0;34m\u001b[0m\u001b[0;34m\u001b[0m\u001b[0m\n\u001b[0m\u001b[1;32m    547\u001b[0m \u001b[0;34m\u001b[0m\u001b[0m\n\u001b[1;32m    548\u001b[0m         \u001b[0;32mif\u001b[0m \u001b[0mtyp\u001b[0m \u001b[0;34m==\u001b[0m \u001b[0;34m'series'\u001b[0m \u001b[0;32mor\u001b[0m \u001b[0mobj\u001b[0m \u001b[0;32mis\u001b[0m \u001b[0;32mNone\u001b[0m\u001b[0;34m:\u001b[0m\u001b[0;34m\u001b[0m\u001b[0;34m\u001b[0m\u001b[0m\n",
      "\u001b[0;32m~/anaconda3/lib/python3.7/site-packages/pandas/io/json/json.py\u001b[0m in \u001b[0;36mparse\u001b[0;34m(self)\u001b[0m\n\u001b[1;32m    636\u001b[0m \u001b[0;34m\u001b[0m\u001b[0m\n\u001b[1;32m    637\u001b[0m         \u001b[0;32melse\u001b[0m\u001b[0;34m:\u001b[0m\u001b[0;34m\u001b[0m\u001b[0;34m\u001b[0m\u001b[0m\n\u001b[0;32m--> 638\u001b[0;31m             \u001b[0mself\u001b[0m\u001b[0;34m.\u001b[0m\u001b[0m_parse_no_numpy\u001b[0m\u001b[0;34m(\u001b[0m\u001b[0;34m)\u001b[0m\u001b[0;34m\u001b[0m\u001b[0;34m\u001b[0m\u001b[0m\n\u001b[0m\u001b[1;32m    639\u001b[0m \u001b[0;34m\u001b[0m\u001b[0m\n\u001b[1;32m    640\u001b[0m         \u001b[0;32mif\u001b[0m \u001b[0mself\u001b[0m\u001b[0;34m.\u001b[0m\u001b[0mobj\u001b[0m \u001b[0;32mis\u001b[0m \u001b[0;32mNone\u001b[0m\u001b[0;34m:\u001b[0m\u001b[0;34m\u001b[0m\u001b[0;34m\u001b[0m\u001b[0m\n",
      "\u001b[0;32m~/anaconda3/lib/python3.7/site-packages/pandas/io/json/json.py\u001b[0m in \u001b[0;36m_parse_no_numpy\u001b[0;34m(self)\u001b[0m\n\u001b[1;32m    851\u001b[0m         \u001b[0;32mif\u001b[0m \u001b[0morient\u001b[0m \u001b[0;34m==\u001b[0m \u001b[0;34m\"columns\"\u001b[0m\u001b[0;34m:\u001b[0m\u001b[0;34m\u001b[0m\u001b[0;34m\u001b[0m\u001b[0m\n\u001b[1;32m    852\u001b[0m             self.obj = DataFrame(\n\u001b[0;32m--> 853\u001b[0;31m                 loads(json, precise_float=self.precise_float), dtype=None)\n\u001b[0m\u001b[1;32m    854\u001b[0m         \u001b[0;32melif\u001b[0m \u001b[0morient\u001b[0m \u001b[0;34m==\u001b[0m \u001b[0;34m\"split\"\u001b[0m\u001b[0;34m:\u001b[0m\u001b[0;34m\u001b[0m\u001b[0;34m\u001b[0m\u001b[0m\n\u001b[1;32m    855\u001b[0m             decoded = {str(k): v for k, v in compat.iteritems(\n",
      "\u001b[0;32m~/anaconda3/lib/python3.7/site-packages/pandas/core/frame.py\u001b[0m in \u001b[0;36m__init__\u001b[0;34m(self, data, index, columns, dtype, copy)\u001b[0m\n\u001b[1;32m    385\u001b[0m                     \u001b[0;32mif\u001b[0m \u001b[0mis_named_tuple\u001b[0m\u001b[0;34m(\u001b[0m\u001b[0mdata\u001b[0m\u001b[0;34m[\u001b[0m\u001b[0;36m0\u001b[0m\u001b[0;34m]\u001b[0m\u001b[0;34m)\u001b[0m \u001b[0;32mand\u001b[0m \u001b[0mcolumns\u001b[0m \u001b[0;32mis\u001b[0m \u001b[0;32mNone\u001b[0m\u001b[0;34m:\u001b[0m\u001b[0;34m\u001b[0m\u001b[0;34m\u001b[0m\u001b[0m\n\u001b[1;32m    386\u001b[0m                         \u001b[0mcolumns\u001b[0m \u001b[0;34m=\u001b[0m \u001b[0mdata\u001b[0m\u001b[0;34m[\u001b[0m\u001b[0;36m0\u001b[0m\u001b[0;34m]\u001b[0m\u001b[0;34m.\u001b[0m\u001b[0m_fields\u001b[0m\u001b[0;34m\u001b[0m\u001b[0;34m\u001b[0m\u001b[0m\n\u001b[0;32m--> 387\u001b[0;31m                     \u001b[0marrays\u001b[0m\u001b[0;34m,\u001b[0m \u001b[0mcolumns\u001b[0m \u001b[0;34m=\u001b[0m \u001b[0m_to_arrays\u001b[0m\u001b[0;34m(\u001b[0m\u001b[0mdata\u001b[0m\u001b[0;34m,\u001b[0m \u001b[0mcolumns\u001b[0m\u001b[0;34m,\u001b[0m \u001b[0mdtype\u001b[0m\u001b[0;34m=\u001b[0m\u001b[0mdtype\u001b[0m\u001b[0;34m)\u001b[0m\u001b[0;34m\u001b[0m\u001b[0;34m\u001b[0m\u001b[0m\n\u001b[0m\u001b[1;32m    388\u001b[0m                     \u001b[0mcolumns\u001b[0m \u001b[0;34m=\u001b[0m \u001b[0m_ensure_index\u001b[0m\u001b[0;34m(\u001b[0m\u001b[0mcolumns\u001b[0m\u001b[0;34m)\u001b[0m\u001b[0;34m\u001b[0m\u001b[0;34m\u001b[0m\u001b[0m\n\u001b[1;32m    389\u001b[0m \u001b[0;34m\u001b[0m\u001b[0m\n",
      "\u001b[0;32m~/anaconda3/lib/python3.7/site-packages/pandas/core/frame.py\u001b[0m in \u001b[0;36m_to_arrays\u001b[0;34m(data, columns, coerce_float, dtype)\u001b[0m\n\u001b[1;32m   7476\u001b[0m     \u001b[0;32melif\u001b[0m \u001b[0misinstance\u001b[0m\u001b[0;34m(\u001b[0m\u001b[0mdata\u001b[0m\u001b[0;34m[\u001b[0m\u001b[0;36m0\u001b[0m\u001b[0;34m]\u001b[0m\u001b[0;34m,\u001b[0m \u001b[0mcollections\u001b[0m\u001b[0;34m.\u001b[0m\u001b[0mMapping\u001b[0m\u001b[0;34m)\u001b[0m\u001b[0;34m:\u001b[0m\u001b[0;34m\u001b[0m\u001b[0;34m\u001b[0m\u001b[0m\n\u001b[1;32m   7477\u001b[0m         return _list_of_dict_to_arrays(data, columns,\n\u001b[0;32m-> 7478\u001b[0;31m                                        coerce_float=coerce_float, dtype=dtype)\n\u001b[0m\u001b[1;32m   7479\u001b[0m     \u001b[0;32melif\u001b[0m \u001b[0misinstance\u001b[0m\u001b[0;34m(\u001b[0m\u001b[0mdata\u001b[0m\u001b[0;34m[\u001b[0m\u001b[0;36m0\u001b[0m\u001b[0;34m]\u001b[0m\u001b[0;34m,\u001b[0m \u001b[0mSeries\u001b[0m\u001b[0;34m)\u001b[0m\u001b[0;34m:\u001b[0m\u001b[0;34m\u001b[0m\u001b[0;34m\u001b[0m\u001b[0m\n\u001b[1;32m   7480\u001b[0m         return _list_of_series_to_arrays(data, columns,\n",
      "\u001b[0;32m~/anaconda3/lib/python3.7/site-packages/pandas/core/frame.py\u001b[0m in \u001b[0;36m_list_of_dict_to_arrays\u001b[0;34m(data, columns, coerce_float, dtype)\u001b[0m\n\u001b[1;32m   7591\u001b[0m         \u001b[0mgen\u001b[0m \u001b[0;34m=\u001b[0m \u001b[0;34m(\u001b[0m\u001b[0mlist\u001b[0m\u001b[0;34m(\u001b[0m\u001b[0mx\u001b[0m\u001b[0;34m.\u001b[0m\u001b[0mkeys\u001b[0m\u001b[0;34m(\u001b[0m\u001b[0;34m)\u001b[0m\u001b[0;34m)\u001b[0m \u001b[0;32mfor\u001b[0m \u001b[0mx\u001b[0m \u001b[0;32min\u001b[0m \u001b[0mdata\u001b[0m\u001b[0;34m)\u001b[0m\u001b[0;34m\u001b[0m\u001b[0;34m\u001b[0m\u001b[0m\n\u001b[1;32m   7592\u001b[0m         \u001b[0msort\u001b[0m \u001b[0;34m=\u001b[0m \u001b[0;32mnot\u001b[0m \u001b[0many\u001b[0m\u001b[0;34m(\u001b[0m\u001b[0misinstance\u001b[0m\u001b[0;34m(\u001b[0m\u001b[0md\u001b[0m\u001b[0;34m,\u001b[0m \u001b[0mOrderedDict\u001b[0m\u001b[0;34m)\u001b[0m \u001b[0;32mfor\u001b[0m \u001b[0md\u001b[0m \u001b[0;32min\u001b[0m \u001b[0mdata\u001b[0m\u001b[0;34m)\u001b[0m\u001b[0;34m\u001b[0m\u001b[0;34m\u001b[0m\u001b[0m\n\u001b[0;32m-> 7593\u001b[0;31m         \u001b[0mcolumns\u001b[0m \u001b[0;34m=\u001b[0m \u001b[0mlib\u001b[0m\u001b[0;34m.\u001b[0m\u001b[0mfast_unique_multiple_list_gen\u001b[0m\u001b[0;34m(\u001b[0m\u001b[0mgen\u001b[0m\u001b[0;34m,\u001b[0m \u001b[0msort\u001b[0m\u001b[0;34m=\u001b[0m\u001b[0msort\u001b[0m\u001b[0;34m)\u001b[0m\u001b[0;34m\u001b[0m\u001b[0;34m\u001b[0m\u001b[0m\n\u001b[0m\u001b[1;32m   7594\u001b[0m \u001b[0;34m\u001b[0m\u001b[0m\n\u001b[1;32m   7595\u001b[0m     \u001b[0;31m# assure that they are of the base dict class and not of derived\u001b[0m\u001b[0;34m\u001b[0m\u001b[0;34m\u001b[0m\u001b[0;34m\u001b[0m\u001b[0m\n",
      "\u001b[0;32mpandas/_libs/lib.pyx\u001b[0m in \u001b[0;36mpandas._libs.lib.fast_unique_multiple_list_gen\u001b[0;34m()\u001b[0m\n",
      "\u001b[0;32m~/anaconda3/lib/python3.7/site-packages/pandas/core/frame.py\u001b[0m in \u001b[0;36m<genexpr>\u001b[0;34m(.0)\u001b[0m\n\u001b[1;32m   7589\u001b[0m \u001b[0;32mdef\u001b[0m \u001b[0m_list_of_dict_to_arrays\u001b[0m\u001b[0;34m(\u001b[0m\u001b[0mdata\u001b[0m\u001b[0;34m,\u001b[0m \u001b[0mcolumns\u001b[0m\u001b[0;34m,\u001b[0m \u001b[0mcoerce_float\u001b[0m\u001b[0;34m=\u001b[0m\u001b[0;32mFalse\u001b[0m\u001b[0;34m,\u001b[0m \u001b[0mdtype\u001b[0m\u001b[0;34m=\u001b[0m\u001b[0;32mNone\u001b[0m\u001b[0;34m)\u001b[0m\u001b[0;34m:\u001b[0m\u001b[0;34m\u001b[0m\u001b[0;34m\u001b[0m\u001b[0m\n\u001b[1;32m   7590\u001b[0m     \u001b[0;32mif\u001b[0m \u001b[0mcolumns\u001b[0m \u001b[0;32mis\u001b[0m \u001b[0;32mNone\u001b[0m\u001b[0;34m:\u001b[0m\u001b[0;34m\u001b[0m\u001b[0;34m\u001b[0m\u001b[0m\n\u001b[0;32m-> 7591\u001b[0;31m         \u001b[0mgen\u001b[0m \u001b[0;34m=\u001b[0m \u001b[0;34m(\u001b[0m\u001b[0mlist\u001b[0m\u001b[0;34m(\u001b[0m\u001b[0mx\u001b[0m\u001b[0;34m.\u001b[0m\u001b[0mkeys\u001b[0m\u001b[0;34m(\u001b[0m\u001b[0;34m)\u001b[0m\u001b[0;34m)\u001b[0m \u001b[0;32mfor\u001b[0m \u001b[0mx\u001b[0m \u001b[0;32min\u001b[0m \u001b[0mdata\u001b[0m\u001b[0;34m)\u001b[0m\u001b[0;34m\u001b[0m\u001b[0;34m\u001b[0m\u001b[0m\n\u001b[0m\u001b[1;32m   7592\u001b[0m         \u001b[0msort\u001b[0m \u001b[0;34m=\u001b[0m \u001b[0;32mnot\u001b[0m \u001b[0many\u001b[0m\u001b[0;34m(\u001b[0m\u001b[0misinstance\u001b[0m\u001b[0;34m(\u001b[0m\u001b[0md\u001b[0m\u001b[0;34m,\u001b[0m \u001b[0mOrderedDict\u001b[0m\u001b[0;34m)\u001b[0m \u001b[0;32mfor\u001b[0m \u001b[0md\u001b[0m \u001b[0;32min\u001b[0m \u001b[0mdata\u001b[0m\u001b[0;34m)\u001b[0m\u001b[0;34m\u001b[0m\u001b[0;34m\u001b[0m\u001b[0m\n\u001b[1;32m   7593\u001b[0m         \u001b[0mcolumns\u001b[0m \u001b[0;34m=\u001b[0m \u001b[0mlib\u001b[0m\u001b[0;34m.\u001b[0m\u001b[0mfast_unique_multiple_list_gen\u001b[0m\u001b[0;34m(\u001b[0m\u001b[0mgen\u001b[0m\u001b[0;34m,\u001b[0m \u001b[0msort\u001b[0m\u001b[0;34m=\u001b[0m\u001b[0msort\u001b[0m\u001b[0;34m)\u001b[0m\u001b[0;34m\u001b[0m\u001b[0;34m\u001b[0m\u001b[0m\n",
      "\u001b[0;31mAttributeError\u001b[0m: 'str' object has no attribute 'keys'"
     ]
    }
   ],
   "source": [
    "for entry in df[\"fees\"].unique():\n",
    "    pd.read_json(entry)"
   ]
  },
  {
   "cell_type": "code",
   "execution_count": 213,
   "metadata": {},
   "outputs": [
    {
     "ename": "ValueError",
     "evalue": "Unexpected character found when decoding 'false'",
     "output_type": "error",
     "traceback": [
      "\u001b[0;31m---------------------------------------------------------------------------\u001b[0m",
      "\u001b[0;31mValueError\u001b[0m                                Traceback (most recent call last)",
      "\u001b[0;32m<ipython-input-213-cff434b1dbe4>\u001b[0m in \u001b[0;36m<module>\u001b[0;34m\u001b[0m\n\u001b[0;32m----> 1\u001b[0;31m \u001b[0mfees\u001b[0m \u001b[0;34m=\u001b[0m \u001b[0mpd\u001b[0m\u001b[0;34m.\u001b[0m\u001b[0mread_json\u001b[0m\u001b[0;34m(\u001b[0m\u001b[0;34m\"fees\"\u001b[0m\u001b[0;34m)\u001b[0m\u001b[0;34m\u001b[0m\u001b[0;34m\u001b[0m\u001b[0m\n\u001b[0m",
      "\u001b[0;32m~/anaconda3/lib/python3.7/site-packages/pandas/io/json/json.py\u001b[0m in \u001b[0;36mread_json\u001b[0;34m(path_or_buf, orient, typ, dtype, convert_axes, convert_dates, keep_default_dates, numpy, precise_float, date_unit, encoding, lines, chunksize, compression)\u001b[0m\n\u001b[1;32m    420\u001b[0m         \u001b[0;32mreturn\u001b[0m \u001b[0mjson_reader\u001b[0m\u001b[0;34m\u001b[0m\u001b[0;34m\u001b[0m\u001b[0m\n\u001b[1;32m    421\u001b[0m \u001b[0;34m\u001b[0m\u001b[0m\n\u001b[0;32m--> 422\u001b[0;31m     \u001b[0mresult\u001b[0m \u001b[0;34m=\u001b[0m \u001b[0mjson_reader\u001b[0m\u001b[0;34m.\u001b[0m\u001b[0mread\u001b[0m\u001b[0;34m(\u001b[0m\u001b[0;34m)\u001b[0m\u001b[0;34m\u001b[0m\u001b[0;34m\u001b[0m\u001b[0m\n\u001b[0m\u001b[1;32m    423\u001b[0m     \u001b[0;32mif\u001b[0m \u001b[0mshould_close\u001b[0m\u001b[0;34m:\u001b[0m\u001b[0;34m\u001b[0m\u001b[0;34m\u001b[0m\u001b[0m\n\u001b[1;32m    424\u001b[0m         \u001b[0;32mtry\u001b[0m\u001b[0;34m:\u001b[0m\u001b[0;34m\u001b[0m\u001b[0;34m\u001b[0m\u001b[0m\n",
      "\u001b[0;32m~/anaconda3/lib/python3.7/site-packages/pandas/io/json/json.py\u001b[0m in \u001b[0;36mread\u001b[0;34m(self)\u001b[0m\n\u001b[1;32m    527\u001b[0m             )\n\u001b[1;32m    528\u001b[0m         \u001b[0;32melse\u001b[0m\u001b[0;34m:\u001b[0m\u001b[0;34m\u001b[0m\u001b[0;34m\u001b[0m\u001b[0m\n\u001b[0;32m--> 529\u001b[0;31m             \u001b[0mobj\u001b[0m \u001b[0;34m=\u001b[0m \u001b[0mself\u001b[0m\u001b[0;34m.\u001b[0m\u001b[0m_get_object_parser\u001b[0m\u001b[0;34m(\u001b[0m\u001b[0mself\u001b[0m\u001b[0;34m.\u001b[0m\u001b[0mdata\u001b[0m\u001b[0;34m)\u001b[0m\u001b[0;34m\u001b[0m\u001b[0;34m\u001b[0m\u001b[0m\n\u001b[0m\u001b[1;32m    530\u001b[0m         \u001b[0mself\u001b[0m\u001b[0;34m.\u001b[0m\u001b[0mclose\u001b[0m\u001b[0;34m(\u001b[0m\u001b[0;34m)\u001b[0m\u001b[0;34m\u001b[0m\u001b[0;34m\u001b[0m\u001b[0m\n\u001b[1;32m    531\u001b[0m         \u001b[0;32mreturn\u001b[0m \u001b[0mobj\u001b[0m\u001b[0;34m\u001b[0m\u001b[0;34m\u001b[0m\u001b[0m\n",
      "\u001b[0;32m~/anaconda3/lib/python3.7/site-packages/pandas/io/json/json.py\u001b[0m in \u001b[0;36m_get_object_parser\u001b[0;34m(self, json)\u001b[0m\n\u001b[1;32m    544\u001b[0m         \u001b[0mobj\u001b[0m \u001b[0;34m=\u001b[0m \u001b[0;32mNone\u001b[0m\u001b[0;34m\u001b[0m\u001b[0;34m\u001b[0m\u001b[0m\n\u001b[1;32m    545\u001b[0m         \u001b[0;32mif\u001b[0m \u001b[0mtyp\u001b[0m \u001b[0;34m==\u001b[0m \u001b[0;34m'frame'\u001b[0m\u001b[0;34m:\u001b[0m\u001b[0;34m\u001b[0m\u001b[0;34m\u001b[0m\u001b[0m\n\u001b[0;32m--> 546\u001b[0;31m             \u001b[0mobj\u001b[0m \u001b[0;34m=\u001b[0m \u001b[0mFrameParser\u001b[0m\u001b[0;34m(\u001b[0m\u001b[0mjson\u001b[0m\u001b[0;34m,\u001b[0m \u001b[0;34m**\u001b[0m\u001b[0mkwargs\u001b[0m\u001b[0;34m)\u001b[0m\u001b[0;34m.\u001b[0m\u001b[0mparse\u001b[0m\u001b[0;34m(\u001b[0m\u001b[0;34m)\u001b[0m\u001b[0;34m\u001b[0m\u001b[0;34m\u001b[0m\u001b[0m\n\u001b[0m\u001b[1;32m    547\u001b[0m \u001b[0;34m\u001b[0m\u001b[0m\n\u001b[1;32m    548\u001b[0m         \u001b[0;32mif\u001b[0m \u001b[0mtyp\u001b[0m \u001b[0;34m==\u001b[0m \u001b[0;34m'series'\u001b[0m \u001b[0;32mor\u001b[0m \u001b[0mobj\u001b[0m \u001b[0;32mis\u001b[0m \u001b[0;32mNone\u001b[0m\u001b[0;34m:\u001b[0m\u001b[0;34m\u001b[0m\u001b[0;34m\u001b[0m\u001b[0m\n",
      "\u001b[0;32m~/anaconda3/lib/python3.7/site-packages/pandas/io/json/json.py\u001b[0m in \u001b[0;36mparse\u001b[0;34m(self)\u001b[0m\n\u001b[1;32m    636\u001b[0m \u001b[0;34m\u001b[0m\u001b[0m\n\u001b[1;32m    637\u001b[0m         \u001b[0;32melse\u001b[0m\u001b[0;34m:\u001b[0m\u001b[0;34m\u001b[0m\u001b[0;34m\u001b[0m\u001b[0m\n\u001b[0;32m--> 638\u001b[0;31m             \u001b[0mself\u001b[0m\u001b[0;34m.\u001b[0m\u001b[0m_parse_no_numpy\u001b[0m\u001b[0;34m(\u001b[0m\u001b[0;34m)\u001b[0m\u001b[0;34m\u001b[0m\u001b[0;34m\u001b[0m\u001b[0m\n\u001b[0m\u001b[1;32m    639\u001b[0m \u001b[0;34m\u001b[0m\u001b[0m\n\u001b[1;32m    640\u001b[0m         \u001b[0;32mif\u001b[0m \u001b[0mself\u001b[0m\u001b[0;34m.\u001b[0m\u001b[0mobj\u001b[0m \u001b[0;32mis\u001b[0m \u001b[0;32mNone\u001b[0m\u001b[0;34m:\u001b[0m\u001b[0;34m\u001b[0m\u001b[0;34m\u001b[0m\u001b[0m\n",
      "\u001b[0;32m~/anaconda3/lib/python3.7/site-packages/pandas/io/json/json.py\u001b[0m in \u001b[0;36m_parse_no_numpy\u001b[0;34m(self)\u001b[0m\n\u001b[1;32m    851\u001b[0m         \u001b[0;32mif\u001b[0m \u001b[0morient\u001b[0m \u001b[0;34m==\u001b[0m \u001b[0;34m\"columns\"\u001b[0m\u001b[0;34m:\u001b[0m\u001b[0;34m\u001b[0m\u001b[0;34m\u001b[0m\u001b[0m\n\u001b[1;32m    852\u001b[0m             self.obj = DataFrame(\n\u001b[0;32m--> 853\u001b[0;31m                 loads(json, precise_float=self.precise_float), dtype=None)\n\u001b[0m\u001b[1;32m    854\u001b[0m         \u001b[0;32melif\u001b[0m \u001b[0morient\u001b[0m \u001b[0;34m==\u001b[0m \u001b[0;34m\"split\"\u001b[0m\u001b[0;34m:\u001b[0m\u001b[0;34m\u001b[0m\u001b[0;34m\u001b[0m\u001b[0m\n\u001b[1;32m    855\u001b[0m             decoded = {str(k): v for k, v in compat.iteritems(\n",
      "\u001b[0;31mValueError\u001b[0m: Unexpected character found when decoding 'false'"
     ]
    }
   ],
   "source": [
    "fees = pd.read_json(\"fees\")"
   ]
  },
  {
   "cell_type": "code",
   "execution_count": null,
   "metadata": {},
   "outputs": [],
   "source": []
  }
 ],
 "metadata": {
  "kernelspec": {
   "display_name": "Python 3",
   "language": "python",
   "name": "python3"
  },
  "language_info": {
   "codemirror_mode": {
    "name": "ipython",
    "version": 3
   },
   "file_extension": ".py",
   "mimetype": "text/x-python",
   "name": "python",
   "nbconvert_exporter": "python",
   "pygments_lexer": "ipython3",
   "version": "3.7.1"
  }
 },
 "nbformat": 4,
 "nbformat_minor": 2
}
