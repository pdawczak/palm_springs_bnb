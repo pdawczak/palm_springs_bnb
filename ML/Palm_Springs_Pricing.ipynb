{
 "cells": [
  {
   "cell_type": "code",
   "execution_count": 1,
   "metadata": {},
   "outputs": [],
   "source": [
    "import pandas as pd\n",
    "import numpy as np\n",
    "import matplotlib.pyplot as plt\n",
    "import seaborn as sns\n",
    "\n",
    "%matplotlib inline\n",
    "sns.set()"
   ]
  },
  {
   "cell_type": "markdown",
   "metadata": {},
   "source": [
    "Dataset collected from:\n",
    "    \n",
    "    https://www.kaggle.com/datafiniti/palm-springs-vacation-rentals"
   ]
  },
  {
   "cell_type": "code",
   "execution_count": 2,
   "metadata": {},
   "outputs": [],
   "source": [
    "df = pd.read_csv(\"./input/palm_springs_vacation_rentals.csv\")"
   ]
  },
  {
   "cell_type": "code",
   "execution_count": 3,
   "metadata": {},
   "outputs": [
    {
     "name": "stdout",
     "output_type": "stream",
     "text": [
      "<class 'pandas.core.frame.DataFrame'>\n",
      "RangeIndex: 11374 entries, 0 to 11373\n",
      "Data columns (total 26 columns):\n",
      "city                     11374 non-null object\n",
      "country                  11370 non-null object\n",
      "dateAdded                11374 non-null object\n",
      "dateUpdated              11374 non-null object\n",
      "deposit                  285 non-null object\n",
      "descriptions             10377 non-null object\n",
      "features                 8581 non-null object\n",
      "fees                     6719 non-null object\n",
      "languages                8 non-null object\n",
      "lat                      11337 non-null float64\n",
      "long                     11337 non-null float64\n",
      "name                     11372 non-null object\n",
      "numBathroom              11365 non-null object\n",
      "numBedroom               11374 non-null int64\n",
      "numBed                   1647 non-null float64\n",
      "numPeople                11374 non-null object\n",
      "people                   7412 non-null object\n",
      "petPolicy                18 non-null object\n",
      "prices.dateSeen          10621 non-null object\n",
      "prices.dateValidEnd      240 non-null object\n",
      "prices.dateValidStart    240 non-null object\n",
      "prices.minStay           9941 non-null object\n",
      "prices.period            10318 non-null object\n",
      "prices.price             10621 non-null object\n",
      "province                 11374 non-null object\n",
      "rules                    1366 non-null object\n",
      "dtypes: float64(3), int64(1), object(22)\n",
      "memory usage: 2.3+ MB\n"
     ]
    }
   ],
   "source": [
    "df.info()"
   ]
  },
  {
   "cell_type": "markdown",
   "metadata": {},
   "source": [
    "We are going to predict data for Palm Springs, so all observations will be recorder for United States; Additionally, it looks like `\"province\"` holds only one value:"
   ]
  },
  {
   "cell_type": "code",
   "execution_count": 4,
   "metadata": {},
   "outputs": [
    {
     "data": {
      "text/plain": [
       "array(['CA'], dtype=object)"
      ]
     },
     "execution_count": 4,
     "metadata": {},
     "output_type": "execute_result"
    }
   ],
   "source": [
    "df[\"province\"].unique()"
   ]
  },
  {
   "cell_type": "markdown",
   "metadata": {},
   "source": [
    "Let's drop these columns as they will not bring any additional information:"
   ]
  },
  {
   "cell_type": "code",
   "execution_count": 5,
   "metadata": {},
   "outputs": [],
   "source": [
    "df.drop([\"country\", \"province\"], axis=1, inplace=True)"
   ]
  },
  {
   "cell_type": "markdown",
   "metadata": {},
   "source": [
    "## Assessing the data about the price"
   ]
  },
  {
   "cell_type": "markdown",
   "metadata": {},
   "source": [
    "### 1. Let's revisit rows with missing target value"
   ]
  },
  {
   "cell_type": "code",
   "execution_count": 6,
   "metadata": {},
   "outputs": [
    {
     "data": {
      "text/html": [
       "<div>\n",
       "<style scoped>\n",
       "    .dataframe tbody tr th:only-of-type {\n",
       "        vertical-align: middle;\n",
       "    }\n",
       "\n",
       "    .dataframe tbody tr th {\n",
       "        vertical-align: top;\n",
       "    }\n",
       "\n",
       "    .dataframe thead th {\n",
       "        text-align: right;\n",
       "    }\n",
       "</style>\n",
       "<table border=\"1\" class=\"dataframe\">\n",
       "  <thead>\n",
       "    <tr style=\"text-align: right;\">\n",
       "      <th></th>\n",
       "      <th>city</th>\n",
       "      <th>dateAdded</th>\n",
       "      <th>dateUpdated</th>\n",
       "      <th>deposit</th>\n",
       "      <th>descriptions</th>\n",
       "      <th>features</th>\n",
       "      <th>fees</th>\n",
       "      <th>languages</th>\n",
       "      <th>lat</th>\n",
       "      <th>long</th>\n",
       "      <th>...</th>\n",
       "      <th>numPeople</th>\n",
       "      <th>people</th>\n",
       "      <th>petPolicy</th>\n",
       "      <th>prices.dateSeen</th>\n",
       "      <th>prices.dateValidEnd</th>\n",
       "      <th>prices.dateValidStart</th>\n",
       "      <th>prices.minStay</th>\n",
       "      <th>prices.period</th>\n",
       "      <th>prices.price</th>\n",
       "      <th>rules</th>\n",
       "    </tr>\n",
       "  </thead>\n",
       "  <tbody>\n",
       "    <tr>\n",
       "      <th>311</th>\n",
       "      <td>Palm Springs</td>\n",
       "      <td>2015-10-25T18:51:37Z</td>\n",
       "      <td>2016-04-04T00:44:30Z</td>\n",
       "      <td>USD 149.00</td>\n",
       "      <td>[\"Spectacular mountain view from the casita, t...</td>\n",
       "      <td>[{\"key\":\"Smoking Allowed\",\"value\":\"yes\"},{\"key...</td>\n",
       "      <td>[\"USD 29.00\",\"USD 49 / night after 2 guests\"]</td>\n",
       "      <td>NaN</td>\n",
       "      <td>33.832151</td>\n",
       "      <td>-116.527093</td>\n",
       "      <td>...</td>\n",
       "      <td>4</td>\n",
       "      <td>[{\"name\":\"Thibault (tebow)\",\"title\":\"Host\"}]</td>\n",
       "      <td>Pets Allowed</td>\n",
       "      <td>NaN</td>\n",
       "      <td>NaN</td>\n",
       "      <td>NaN</td>\n",
       "      <td>NaN</td>\n",
       "      <td>NaN</td>\n",
       "      <td>NaN</td>\n",
       "      <td>Please read carefully - by submitting an inqui...</td>\n",
       "    </tr>\n",
       "    <tr>\n",
       "      <th>822</th>\n",
       "      <td>Palm Springs</td>\n",
       "      <td>2015-10-23T05:30:52Z</td>\n",
       "      <td>2016-03-11T09:46:06Z</td>\n",
       "      <td>NaN</td>\n",
       "      <td>Located in desirable 'Movie Colony East', near...</td>\n",
       "      <td>NaN</td>\n",
       "      <td>NaN</td>\n",
       "      <td>NaN</td>\n",
       "      <td>33.839350</td>\n",
       "      <td>-116.529305</td>\n",
       "      <td>...</td>\n",
       "      <td>6</td>\n",
       "      <td>[{\"dateSeen\":\"2015-10-17T00:00:00Z\",\"name\":\"Ab...</td>\n",
       "      <td>NaN</td>\n",
       "      <td>NaN</td>\n",
       "      <td>NaN</td>\n",
       "      <td>NaN</td>\n",
       "      <td>NaN</td>\n",
       "      <td>NaN</td>\n",
       "      <td>NaN</td>\n",
       "      <td>NaN</td>\n",
       "    </tr>\n",
       "    <tr>\n",
       "      <th>1251</th>\n",
       "      <td>Downtown Palm Springs Vacation Rentals</td>\n",
       "      <td>2016-03-11T09:45:44Z</td>\n",
       "      <td>2016-03-11T09:45:44Z</td>\n",
       "      <td>NaN</td>\n",
       "      <td>La Casa Del Sol (The House of Sun) in Rancho M...</td>\n",
       "      <td>NaN</td>\n",
       "      <td>NaN</td>\n",
       "      <td>NaN</td>\n",
       "      <td>33.760593</td>\n",
       "      <td>-116.418040</td>\n",
       "      <td>...</td>\n",
       "      <td>8</td>\n",
       "      <td>[{\"dateSeen\":\"2016-03-10T00:00:00Z\",\"name\":\"Mc...</td>\n",
       "      <td>NaN</td>\n",
       "      <td>NaN</td>\n",
       "      <td>NaN</td>\n",
       "      <td>NaN</td>\n",
       "      <td>NaN</td>\n",
       "      <td>NaN</td>\n",
       "      <td>NaN</td>\n",
       "      <td>NaN</td>\n",
       "    </tr>\n",
       "    <tr>\n",
       "      <th>1963</th>\n",
       "      <td>Palm Springs</td>\n",
       "      <td>2016-01-21T19:43:54Z</td>\n",
       "      <td>2016-01-27T01:07:00Z</td>\n",
       "      <td>NaN</td>\n",
       "      <td>Original description written in a non-supporte...</td>\n",
       "      <td>NaN</td>\n",
       "      <td>NaN</td>\n",
       "      <td>NaN</td>\n",
       "      <td>33.846680</td>\n",
       "      <td>-116.552925</td>\n",
       "      <td>...</td>\n",
       "      <td>8</td>\n",
       "      <td>[{\"dateSeen\":\"2016-01-20T00:00:00Z\",\"name\":\"We...</td>\n",
       "      <td>NaN</td>\n",
       "      <td>NaN</td>\n",
       "      <td>NaN</td>\n",
       "      <td>NaN</td>\n",
       "      <td>NaN</td>\n",
       "      <td>NaN</td>\n",
       "      <td>NaN</td>\n",
       "      <td>NaN</td>\n",
       "    </tr>\n",
       "    <tr>\n",
       "      <th>2302</th>\n",
       "      <td>Palm Springs</td>\n",
       "      <td>2015-10-28T18:51:00Z</td>\n",
       "      <td>2016-03-03T18:57:21Z</td>\n",
       "      <td>NaN</td>\n",
       "      <td>NaN</td>\n",
       "      <td>[{\"key\":\"Guest Access\",\"value\":\"Entire home/ap...</td>\n",
       "      <td>NaN</td>\n",
       "      <td>NaN</td>\n",
       "      <td>33.844601</td>\n",
       "      <td>-116.541801</td>\n",
       "      <td>...</td>\n",
       "      <td>12</td>\n",
       "      <td>[{\"name\":\"Jeffery\",\"title\":\"Host\"}]</td>\n",
       "      <td>NaN</td>\n",
       "      <td>NaN</td>\n",
       "      <td>NaN</td>\n",
       "      <td>NaN</td>\n",
       "      <td>NaN</td>\n",
       "      <td>NaN</td>\n",
       "      <td>NaN</td>\n",
       "      <td>No smoking. Anyone that is found to have smoke...</td>\n",
       "    </tr>\n",
       "  </tbody>\n",
       "</table>\n",
       "<p>5 rows × 24 columns</p>\n",
       "</div>"
      ],
      "text/plain": [
       "                                        city             dateAdded  \\\n",
       "311                             Palm Springs  2015-10-25T18:51:37Z   \n",
       "822                             Palm Springs  2015-10-23T05:30:52Z   \n",
       "1251  Downtown Palm Springs Vacation Rentals  2016-03-11T09:45:44Z   \n",
       "1963                            Palm Springs  2016-01-21T19:43:54Z   \n",
       "2302                            Palm Springs  2015-10-28T18:51:00Z   \n",
       "\n",
       "               dateUpdated     deposit  \\\n",
       "311   2016-04-04T00:44:30Z  USD 149.00   \n",
       "822   2016-03-11T09:46:06Z         NaN   \n",
       "1251  2016-03-11T09:45:44Z         NaN   \n",
       "1963  2016-01-27T01:07:00Z         NaN   \n",
       "2302  2016-03-03T18:57:21Z         NaN   \n",
       "\n",
       "                                           descriptions  \\\n",
       "311   [\"Spectacular mountain view from the casita, t...   \n",
       "822   Located in desirable 'Movie Colony East', near...   \n",
       "1251  La Casa Del Sol (The House of Sun) in Rancho M...   \n",
       "1963  Original description written in a non-supporte...   \n",
       "2302                                                NaN   \n",
       "\n",
       "                                               features  \\\n",
       "311   [{\"key\":\"Smoking Allowed\",\"value\":\"yes\"},{\"key...   \n",
       "822                                                 NaN   \n",
       "1251                                                NaN   \n",
       "1963                                                NaN   \n",
       "2302  [{\"key\":\"Guest Access\",\"value\":\"Entire home/ap...   \n",
       "\n",
       "                                               fees languages        lat  \\\n",
       "311   [\"USD 29.00\",\"USD 49 / night after 2 guests\"]       NaN  33.832151   \n",
       "822                                             NaN       NaN  33.839350   \n",
       "1251                                            NaN       NaN  33.760593   \n",
       "1963                                            NaN       NaN  33.846680   \n",
       "2302                                            NaN       NaN  33.844601   \n",
       "\n",
       "            long                        ...                         numPeople  \\\n",
       "311  -116.527093                        ...                                 4   \n",
       "822  -116.529305                        ...                                 6   \n",
       "1251 -116.418040                        ...                                 8   \n",
       "1963 -116.552925                        ...                                 8   \n",
       "2302 -116.541801                        ...                                12   \n",
       "\n",
       "                                                 people     petPolicy  \\\n",
       "311        [{\"name\":\"Thibault (tebow)\",\"title\":\"Host\"}]  Pets Allowed   \n",
       "822   [{\"dateSeen\":\"2015-10-17T00:00:00Z\",\"name\":\"Ab...           NaN   \n",
       "1251  [{\"dateSeen\":\"2016-03-10T00:00:00Z\",\"name\":\"Mc...           NaN   \n",
       "1963  [{\"dateSeen\":\"2016-01-20T00:00:00Z\",\"name\":\"We...           NaN   \n",
       "2302                [{\"name\":\"Jeffery\",\"title\":\"Host\"}]           NaN   \n",
       "\n",
       "      prices.dateSeen prices.dateValidEnd prices.dateValidStart  \\\n",
       "311               NaN                 NaN                   NaN   \n",
       "822               NaN                 NaN                   NaN   \n",
       "1251              NaN                 NaN                   NaN   \n",
       "1963              NaN                 NaN                   NaN   \n",
       "2302              NaN                 NaN                   NaN   \n",
       "\n",
       "     prices.minStay prices.period prices.price  \\\n",
       "311             NaN           NaN          NaN   \n",
       "822             NaN           NaN          NaN   \n",
       "1251            NaN           NaN          NaN   \n",
       "1963            NaN           NaN          NaN   \n",
       "2302            NaN           NaN          NaN   \n",
       "\n",
       "                                                  rules  \n",
       "311   Please read carefully - by submitting an inqui...  \n",
       "822                                                 NaN  \n",
       "1251                                                NaN  \n",
       "1963                                                NaN  \n",
       "2302  No smoking. Anyone that is found to have smoke...  \n",
       "\n",
       "[5 rows x 24 columns]"
      ]
     },
     "execution_count": 6,
     "metadata": {},
     "output_type": "execute_result"
    }
   ],
   "source": [
    "df[ df[\"prices.price\"].isnull() ].head()"
   ]
  },
  {
   "cell_type": "markdown",
   "metadata": {},
   "source": [
    "These have also many other missing values and it will be difficult to fill them in. At that point - let's try to do the simplet thing to help us get up and running and remove those rows completely:"
   ]
  },
  {
   "cell_type": "code",
   "execution_count": 7,
   "metadata": {},
   "outputs": [],
   "source": [
    "df = df[ ~df[\"prices.price\"].isnull() ]"
   ]
  },
  {
   "cell_type": "markdown",
   "metadata": {},
   "source": [
    "### 2. Parsing the price\n",
    "\n",
    "Price is kept as a text value in format of `\"USD 9999\"` - let's parse it to proper numerical value:"
   ]
  },
  {
   "cell_type": "code",
   "execution_count": 8,
   "metadata": {},
   "outputs": [],
   "source": [
    "import re\n",
    "\n",
    "def parse_number(price_string, number_parser=float):\n",
    "    try:\n",
    "        return number_parser(re.search(\"[\\d\\.]+\", price_string).group(0))\n",
    "    except:\n",
    "        print(\"Error for: {}\".format(price_string))"
   ]
  },
  {
   "cell_type": "code",
   "execution_count": 9,
   "metadata": {},
   "outputs": [],
   "source": [
    "df[\"price\"] = df[\"prices.price\"].map(lambda x: parse_number(x, number_parser=float))"
   ]
  },
  {
   "cell_type": "markdown",
   "metadata": {},
   "source": [
    "Let's review the updated column:"
   ]
  },
  {
   "cell_type": "code",
   "execution_count": 10,
   "metadata": {},
   "outputs": [
    {
     "data": {
      "text/plain": [
       "0    3300.0\n",
       "1    3200.0\n",
       "2     525.0\n",
       "3     500.0\n",
       "4    2499.0\n",
       "Name: price, dtype: float64"
      ]
     },
     "execution_count": 10,
     "metadata": {},
     "output_type": "execute_result"
    }
   ],
   "source": [
    "df[\"price\"].head()"
   ]
  },
  {
   "cell_type": "code",
   "execution_count": 11,
   "metadata": {},
   "outputs": [
    {
     "data": {
      "text/plain": [
       "count    10621.000000\n",
       "mean      2581.396667\n",
       "std       4763.887324\n",
       "min         44.000000\n",
       "25%        425.000000\n",
       "50%       1195.000000\n",
       "75%       2954.000000\n",
       "max      99820.000000\n",
       "Name: price, dtype: float64"
      ]
     },
     "execution_count": 11,
     "metadata": {},
     "output_type": "execute_result"
    }
   ],
   "source": [
    "df[\"price\"].describe()"
   ]
  },
  {
   "cell_type": "markdown",
   "metadata": {},
   "source": [
    "At that point we have valida data in the `\"price\"` column - let's move on to assessing the features."
   ]
  },
  {
   "cell_type": "markdown",
   "metadata": {},
   "source": [
    "## Assessing the data about bathrooms"
   ]
  },
  {
   "cell_type": "code",
   "execution_count": 12,
   "metadata": {},
   "outputs": [
    {
     "data": {
      "text/plain": [
       "array(['2', '3', '4', '6', '1', '9', '5', '12', '1.5', '2.5', '3.5',\n",
       "       '4.5', nan, '5.5', '8+', '6.5', '7', '8', '10', '13'], dtype=object)"
      ]
     },
     "execution_count": 12,
     "metadata": {},
     "output_type": "execute_result"
    }
   ],
   "source": [
    "df[\"numBathroom\"].unique()"
   ]
  },
  {
   "cell_type": "markdown",
   "metadata": {},
   "source": [
    "### Missing values\n",
    "\n",
    "There are some observations that have no bathrooms specifed - let's check them:"
   ]
  },
  {
   "cell_type": "code",
   "execution_count": 13,
   "metadata": {},
   "outputs": [
    {
     "data": {
      "text/plain": [
       "2666    3.0\n",
       "2794    1.0\n",
       "2795    1.0\n",
       "Name: numBed, dtype: float64"
      ]
     },
     "execution_count": 13,
     "metadata": {},
     "output_type": "execute_result"
    }
   ],
   "source": [
    "df[ df[\"numBathroom\"].isnull() ][\"numBed\"]"
   ]
  },
  {
   "cell_type": "markdown",
   "metadata": {},
   "source": [
    "It's only `3` entries, and these look quite small places! Assuming the minimum amount bathrooms stoerd in dataset is `\"1\"` - we will use it to fill the empty values in this case."
   ]
  },
  {
   "cell_type": "code",
   "execution_count": 14,
   "metadata": {},
   "outputs": [
    {
     "data": {
      "text/plain": [
       "array(['2', '3', '4', '6', '1', '9', '5', '12', '1.5', '2.5', '3.5',\n",
       "       '4.5', '5.5', '8+', '6.5', '7', '8', '10', '13'], dtype=object)"
      ]
     },
     "execution_count": 14,
     "metadata": {},
     "output_type": "execute_result"
    }
   ],
   "source": [
    "df[\"numBathroom\"].fillna(\"1\", inplace=True)\n",
    "df[\"numBathroom\"].unique()"
   ]
  },
  {
   "cell_type": "markdown",
   "metadata": {},
   "source": [
    "### non-decimal-parsable observations\n",
    "\n",
    "There is one more outstanding case with strange value - `\"8+\"`. Let's examine it next:"
   ]
  },
  {
   "cell_type": "code",
   "execution_count": 15,
   "metadata": {},
   "outputs": [
    {
     "data": {
      "text/html": [
       "<div>\n",
       "<style scoped>\n",
       "    .dataframe tbody tr th:only-of-type {\n",
       "        vertical-align: middle;\n",
       "    }\n",
       "\n",
       "    .dataframe tbody tr th {\n",
       "        vertical-align: top;\n",
       "    }\n",
       "\n",
       "    .dataframe thead th {\n",
       "        text-align: right;\n",
       "    }\n",
       "</style>\n",
       "<table border=\"1\" class=\"dataframe\">\n",
       "  <thead>\n",
       "    <tr style=\"text-align: right;\">\n",
       "      <th></th>\n",
       "      <th>city</th>\n",
       "      <th>dateAdded</th>\n",
       "      <th>dateUpdated</th>\n",
       "      <th>deposit</th>\n",
       "      <th>descriptions</th>\n",
       "      <th>features</th>\n",
       "      <th>fees</th>\n",
       "      <th>languages</th>\n",
       "      <th>lat</th>\n",
       "      <th>long</th>\n",
       "      <th>...</th>\n",
       "      <th>people</th>\n",
       "      <th>petPolicy</th>\n",
       "      <th>prices.dateSeen</th>\n",
       "      <th>prices.dateValidEnd</th>\n",
       "      <th>prices.dateValidStart</th>\n",
       "      <th>prices.minStay</th>\n",
       "      <th>prices.period</th>\n",
       "      <th>prices.price</th>\n",
       "      <th>rules</th>\n",
       "      <th>price</th>\n",
       "    </tr>\n",
       "  </thead>\n",
       "  <tbody>\n",
       "    <tr>\n",
       "      <th>3248</th>\n",
       "      <td>Palm Springs</td>\n",
       "      <td>2015-10-13T19:33:24Z</td>\n",
       "      <td>2015-11-06T20:13:55Z</td>\n",
       "      <td>NaN</td>\n",
       "      <td>NaN</td>\n",
       "      <td>[{\"key\":\"Kitchen\",\"value\":\"Space where guests ...</td>\n",
       "      <td>[\"USD 300.00\"]</td>\n",
       "      <td>NaN</td>\n",
       "      <td>33.822399</td>\n",
       "      <td>-116.552586</td>\n",
       "      <td>...</td>\n",
       "      <td>[{\"name\":\"Mclean Company\",\"title\":\"Host\"}]</td>\n",
       "      <td>NaN</td>\n",
       "      <td>2015-07-30T00:00:00Z</td>\n",
       "      <td>NaN</td>\n",
       "      <td>NaN</td>\n",
       "      <td>NaN</td>\n",
       "      <td>Weekly</td>\n",
       "      <td>USD 8885.00</td>\n",
       "      <td>This property is professionally managed by McL...</td>\n",
       "      <td>8885.0</td>\n",
       "    </tr>\n",
       "  </tbody>\n",
       "</table>\n",
       "<p>1 rows × 25 columns</p>\n",
       "</div>"
      ],
      "text/plain": [
       "              city             dateAdded           dateUpdated deposit  \\\n",
       "3248  Palm Springs  2015-10-13T19:33:24Z  2015-11-06T20:13:55Z     NaN   \n",
       "\n",
       "     descriptions                                           features  \\\n",
       "3248          NaN  [{\"key\":\"Kitchen\",\"value\":\"Space where guests ...   \n",
       "\n",
       "                fees languages        lat        long   ...    \\\n",
       "3248  [\"USD 300.00\"]       NaN  33.822399 -116.552586   ...     \n",
       "\n",
       "                                          people petPolicy  \\\n",
       "3248  [{\"name\":\"Mclean Company\",\"title\":\"Host\"}]       NaN   \n",
       "\n",
       "           prices.dateSeen  prices.dateValidEnd prices.dateValidStart  \\\n",
       "3248  2015-07-30T00:00:00Z                  NaN                   NaN   \n",
       "\n",
       "     prices.minStay prices.period prices.price  \\\n",
       "3248            NaN        Weekly  USD 8885.00   \n",
       "\n",
       "                                                  rules   price  \n",
       "3248  This property is professionally managed by McL...  8885.0  \n",
       "\n",
       "[1 rows x 25 columns]"
      ]
     },
     "execution_count": 15,
     "metadata": {},
     "output_type": "execute_result"
    }
   ],
   "source": [
    "df[ df[\"numBathroom\"] == \"8+\" ]"
   ]
  },
  {
   "cell_type": "markdown",
   "metadata": {},
   "source": [
    "We could treat such a value either as `\"8\"` or `\"8.5\"`. Because this is only one example, it won't have signifficant impact for analysis if we take it \"wrong\", so for simplycity, we will re-use earlier defined `parse_number` and let it be treated as `\"8\"`:"
   ]
  },
  {
   "cell_type": "code",
   "execution_count": 16,
   "metadata": {},
   "outputs": [
    {
     "data": {
      "text/plain": [
       "array([ 2. ,  3. ,  4. ,  6. ,  1. ,  9. ,  5. , 12. ,  1.5,  2.5,  3.5,\n",
       "        4.5,  5.5,  8. ,  6.5,  7. , 10. , 13. ])"
      ]
     },
     "execution_count": 16,
     "metadata": {},
     "output_type": "execute_result"
    }
   ],
   "source": [
    "df[\"numBathroom\"] = df[\"numBathroom\"].map(lambda x: parse_number(x, number_parser=float))\n",
    "df[\"numBathroom\"].unique()"
   ]
  },
  {
   "cell_type": "markdown",
   "metadata": {},
   "source": [
    "## Assessing numPeople"
   ]
  },
  {
   "cell_type": "code",
   "execution_count": 17,
   "metadata": {},
   "outputs": [
    {
     "data": {
      "text/plain": [
       "array(['6', '8', '7', '10', '4', '2', '5', '3', '12', '11', '20', '9',\n",
       "       '14', '1', '16', '16+', '13', '18', '15'], dtype=object)"
      ]
     },
     "execution_count": 17,
     "metadata": {},
     "output_type": "execute_result"
    }
   ],
   "source": [
    "df[\"numPeople\"].unique()"
   ]
  },
  {
   "cell_type": "markdown",
   "metadata": {},
   "source": [
    "There are no empty values, but there is interesting value that's not \"just a number\", the `\"16+\"` - let's check this observation to decide how to treat it:"
   ]
  },
  {
   "cell_type": "code",
   "execution_count": 18,
   "metadata": {},
   "outputs": [
    {
     "data": {
      "text/html": [
       "<div>\n",
       "<style scoped>\n",
       "    .dataframe tbody tr th:only-of-type {\n",
       "        vertical-align: middle;\n",
       "    }\n",
       "\n",
       "    .dataframe tbody tr th {\n",
       "        vertical-align: top;\n",
       "    }\n",
       "\n",
       "    .dataframe thead th {\n",
       "        text-align: right;\n",
       "    }\n",
       "</style>\n",
       "<table border=\"1\" class=\"dataframe\">\n",
       "  <thead>\n",
       "    <tr style=\"text-align: right;\">\n",
       "      <th></th>\n",
       "      <th>city</th>\n",
       "      <th>dateAdded</th>\n",
       "      <th>dateUpdated</th>\n",
       "      <th>deposit</th>\n",
       "      <th>descriptions</th>\n",
       "      <th>features</th>\n",
       "      <th>fees</th>\n",
       "      <th>languages</th>\n",
       "      <th>lat</th>\n",
       "      <th>long</th>\n",
       "      <th>...</th>\n",
       "      <th>people</th>\n",
       "      <th>petPolicy</th>\n",
       "      <th>prices.dateSeen</th>\n",
       "      <th>prices.dateValidEnd</th>\n",
       "      <th>prices.dateValidStart</th>\n",
       "      <th>prices.minStay</th>\n",
       "      <th>prices.period</th>\n",
       "      <th>prices.price</th>\n",
       "      <th>rules</th>\n",
       "      <th>price</th>\n",
       "    </tr>\n",
       "  </thead>\n",
       "  <tbody>\n",
       "    <tr>\n",
       "      <th>3248</th>\n",
       "      <td>Palm Springs</td>\n",
       "      <td>2015-10-13T19:33:24Z</td>\n",
       "      <td>2015-11-06T20:13:55Z</td>\n",
       "      <td>NaN</td>\n",
       "      <td>NaN</td>\n",
       "      <td>[{\"key\":\"Kitchen\",\"value\":\"Space where guests ...</td>\n",
       "      <td>[\"USD 300.00\"]</td>\n",
       "      <td>NaN</td>\n",
       "      <td>33.822399</td>\n",
       "      <td>-116.552586</td>\n",
       "      <td>...</td>\n",
       "      <td>[{\"name\":\"Mclean Company\",\"title\":\"Host\"}]</td>\n",
       "      <td>NaN</td>\n",
       "      <td>2015-07-30T00:00:00Z</td>\n",
       "      <td>NaN</td>\n",
       "      <td>NaN</td>\n",
       "      <td>NaN</td>\n",
       "      <td>Weekly</td>\n",
       "      <td>USD 8885.00</td>\n",
       "      <td>This property is professionally managed by McL...</td>\n",
       "      <td>8885.0</td>\n",
       "    </tr>\n",
       "  </tbody>\n",
       "</table>\n",
       "<p>1 rows × 25 columns</p>\n",
       "</div>"
      ],
      "text/plain": [
       "              city             dateAdded           dateUpdated deposit  \\\n",
       "3248  Palm Springs  2015-10-13T19:33:24Z  2015-11-06T20:13:55Z     NaN   \n",
       "\n",
       "     descriptions                                           features  \\\n",
       "3248          NaN  [{\"key\":\"Kitchen\",\"value\":\"Space where guests ...   \n",
       "\n",
       "                fees languages        lat        long   ...    \\\n",
       "3248  [\"USD 300.00\"]       NaN  33.822399 -116.552586   ...     \n",
       "\n",
       "                                          people  petPolicy  \\\n",
       "3248  [{\"name\":\"Mclean Company\",\"title\":\"Host\"}]        NaN   \n",
       "\n",
       "           prices.dateSeen  prices.dateValidEnd prices.dateValidStart  \\\n",
       "3248  2015-07-30T00:00:00Z                  NaN                   NaN   \n",
       "\n",
       "     prices.minStay prices.period prices.price  \\\n",
       "3248            NaN        Weekly  USD 8885.00   \n",
       "\n",
       "                                                  rules   price  \n",
       "3248  This property is professionally managed by McL...  8885.0  \n",
       "\n",
       "[1 rows x 25 columns]"
      ]
     },
     "execution_count": 18,
     "metadata": {},
     "output_type": "execute_result"
    }
   ],
   "source": [
    "df[ df[\"numPeople\"] == \"16+\" ]"
   ]
  },
  {
   "cell_type": "code",
   "execution_count": 19,
   "metadata": {},
   "outputs": [
    {
     "data": {
      "text/plain": [
       "array([ 6,  8,  7, 10,  4,  2,  5,  3, 12, 11, 20,  9, 14,  1, 16, 13, 18,\n",
       "       15])"
      ]
     },
     "execution_count": 19,
     "metadata": {},
     "output_type": "execute_result"
    }
   ],
   "source": [
    "df[\"numPeople\"] = df[\"numPeople\"].map(lambda x: parse_number(x, number_parser=int))\n",
    "df[\"numPeople\"].unique()"
   ]
  },
  {
   "cell_type": "code",
   "execution_count": 22,
   "metadata": {},
   "outputs": [
    {
     "data": {
      "text/plain": [
       "array([   0.,  750.,  100.,  300., 1000.,  400.,  500.,  800., 1500.,\n",
       "        150.,  250.,  350.,  125.,  200.,   95., 3000.,  600.,  499.,\n",
       "        299.,  375.,  850.,  225.,  450.,  700.])"
      ]
     },
     "execution_count": 22,
     "metadata": {},
     "output_type": "execute_result"
    }
   ],
   "source": [
    "df[\"deposit\"].fillna(\"USD 0\", inplace=True)\n",
    "df[\"deposit\"] = df[\"deposit\"].map(lambda x: parse_number(x, number_parser=float))\n",
    "df[\"deposit\"].unique()"
   ]
  },
  {
   "cell_type": "code",
   "execution_count": 26,
   "metadata": {},
   "outputs": [
    {
     "data": {
      "text/plain": [
       "array([   0.,  750.,  100.,  300., 1000.,  400.,  500.,  800., 1500.,\n",
       "        150.,  250.,  350.,  125.,  200.,   95., 3000.,  600.,  499.,\n",
       "        299.,  375.,  850.,  225.,  450.,  700.])"
      ]
     },
     "execution_count": 26,
     "metadata": {},
     "output_type": "execute_result"
    }
   ],
   "source": [
    "df[\"deposit\"].unique()"
   ]
  },
  {
   "cell_type": "markdown",
   "metadata": {},
   "source": [
    "## Review the cleaned data"
   ]
  },
  {
   "cell_type": "code",
   "execution_count": 31,
   "metadata": {},
   "outputs": [
    {
     "data": {
      "image/png": "[encoded data removed]",
      "text/plain": [
       "<Figure size 1440x1080 with 9 Axes>"
      ]
     },
     "metadata": {
      "needs_background": "light"
     },
     "output_type": "display_data"
    }
   ],
   "source": [
    "df.hist(bins=50, figsize=(20, 15));"
   ]
  },
  {
   "cell_type": "markdown",
   "metadata": {},
   "source": [
    "### Correlation"
   ]
  },
  {
   "cell_type": "code",
   "execution_count": 30,
   "metadata": {},
   "outputs": [
    {
     "data": {
      "text/plain": [
       "price          1.000000\n",
       "numBed         0.447529\n",
       "numBathroom    0.301408\n",
       "numBedroom     0.284166\n",
       "numPeople      0.241956\n",
       "lat            0.013983\n",
       "long          -0.017332\n",
       "deposit       -0.052948\n",
       "Name: price, dtype: float64"
      ]
     },
     "execution_count": 30,
     "metadata": {},
     "output_type": "execute_result"
    }
   ],
   "source": [
    "df.corr()[\"price\"].sort_values(ascending=False)"
   ]
  },
  {
   "cell_type": "markdown",
   "metadata": {},
   "source": [
    "After excercise of cleaning the data, we can see how some of the features corelate to the `\"price\"` that's going to be predicted. At that point, we will use `\"numBed\"`, `\"numBathroom\"`, `\"numBedroom\"` and `\"numPeople\"` numerical features, that show correlation and we will disregard the rest (even `\"deposit\"`) as they don't appear to be much correlated.\n",
    "\n",
    "Additonally, `\"city\"` and `\"prices.period\"` could be strong indicators and these will also be taken into the account."
   ]
  },
  {
   "cell_type": "markdown",
   "metadata": {},
   "source": [
    "## Creating Train and Test Sets"
   ]
  },
  {
   "cell_type": "code",
   "execution_count": 44,
   "metadata": {},
   "outputs": [],
   "source": [
    "from sklearn.model_selection import train_test_split\n",
    "\n",
    "features_to_select = [\n",
    "    \"price\",\n",
    "    \"numBed\",\n",
    "    \"numBathroom\",\n",
    "    \"numBedroom\",\n",
    "    \"numPeople\",\n",
    "    \"city\",\n",
    "    \"prices.period\",\n",
    "]\n",
    "\n",
    "train_set, test_set = train_test_split(\n",
    "    df[ features_to_select ],\n",
    "    random_state=42\n",
    ")"
   ]
  },
  {
   "cell_type": "code",
   "execution_count": 45,
   "metadata": {},
   "outputs": [
    {
     "data": {
      "text/html": [
       "<div>\n",
       "<style scoped>\n",
       "    .dataframe tbody tr th:only-of-type {\n",
       "        vertical-align: middle;\n",
       "    }\n",
       "\n",
       "    .dataframe tbody tr th {\n",
       "        vertical-align: top;\n",
       "    }\n",
       "\n",
       "    .dataframe thead th {\n",
       "        text-align: right;\n",
       "    }\n",
       "</style>\n",
       "<table border=\"1\" class=\"dataframe\">\n",
       "  <thead>\n",
       "    <tr style=\"text-align: right;\">\n",
       "      <th></th>\n",
       "      <th>price</th>\n",
       "      <th>numBed</th>\n",
       "      <th>numBathroom</th>\n",
       "      <th>numBedroom</th>\n",
       "      <th>numPeople</th>\n",
       "      <th>city</th>\n",
       "      <th>prices.period</th>\n",
       "    </tr>\n",
       "  </thead>\n",
       "  <tbody>\n",
       "    <tr>\n",
       "      <th>4989</th>\n",
       "      <td>350.0</td>\n",
       "      <td>NaN</td>\n",
       "      <td>1.0</td>\n",
       "      <td>1</td>\n",
       "      <td>2</td>\n",
       "      <td>Palm Springs</td>\n",
       "      <td>Weekly</td>\n",
       "    </tr>\n",
       "    <tr>\n",
       "      <th>5609</th>\n",
       "      <td>935.0</td>\n",
       "      <td>NaN</td>\n",
       "      <td>2.0</td>\n",
       "      <td>1</td>\n",
       "      <td>3</td>\n",
       "      <td>Downtown Palm Springs Vacation Rentals</td>\n",
       "      <td>Weekly</td>\n",
       "    </tr>\n",
       "    <tr>\n",
       "      <th>8695</th>\n",
       "      <td>530.0</td>\n",
       "      <td>NaN</td>\n",
       "      <td>3.0</td>\n",
       "      <td>4</td>\n",
       "      <td>8</td>\n",
       "      <td>Palm Springs</td>\n",
       "      <td>Weekend night</td>\n",
       "    </tr>\n",
       "    <tr>\n",
       "      <th>7421</th>\n",
       "      <td>685.0</td>\n",
       "      <td>NaN</td>\n",
       "      <td>4.0</td>\n",
       "      <td>4</td>\n",
       "      <td>8</td>\n",
       "      <td>Palm Springs</td>\n",
       "      <td>Weekend night</td>\n",
       "    </tr>\n",
       "    <tr>\n",
       "      <th>10094</th>\n",
       "      <td>260.0</td>\n",
       "      <td>NaN</td>\n",
       "      <td>4.0</td>\n",
       "      <td>4</td>\n",
       "      <td>10</td>\n",
       "      <td>Palm Springs</td>\n",
       "      <td>Weekend night</td>\n",
       "    </tr>\n",
       "  </tbody>\n",
       "</table>\n",
       "</div>"
      ],
      "text/plain": [
       "       price  numBed  numBathroom  numBedroom  numPeople  \\\n",
       "4989   350.0     NaN          1.0           1          2   \n",
       "5609   935.0     NaN          2.0           1          3   \n",
       "8695   530.0     NaN          3.0           4          8   \n",
       "7421   685.0     NaN          4.0           4          8   \n",
       "10094  260.0     NaN          4.0           4         10   \n",
       "\n",
       "                                         city  prices.period  \n",
       "4989                             Palm Springs         Weekly  \n",
       "5609   Downtown Palm Springs Vacation Rentals         Weekly  \n",
       "8695                             Palm Springs  Weekend night  \n",
       "7421                             Palm Springs  Weekend night  \n",
       "10094                            Palm Springs  Weekend night  "
      ]
     },
     "execution_count": 45,
     "metadata": {},
     "output_type": "execute_result"
    }
   ],
   "source": [
    "train_set.head()"
   ]
  },
  {
   "cell_type": "code",
   "execution_count": 51,
   "metadata": {},
   "outputs": [
    {
     "name": "stdout",
     "output_type": "stream",
     "text": [
      "<class 'pandas.core.frame.DataFrame'>\n",
      "Int64Index: 7965 entries, 4989 to 8011\n",
      "Data columns (total 7 columns):\n",
      "price            7965 non-null float64\n",
      "numBed           705 non-null float64\n",
      "numBathroom      7965 non-null float64\n",
      "numBedroom       7965 non-null int64\n",
      "numPeople        7965 non-null int64\n",
      "city             7965 non-null object\n",
      "prices.period    7744 non-null object\n",
      "dtypes: float64(3), int64(2), object(2)\n",
      "memory usage: 497.8+ KB\n"
     ]
    }
   ],
   "source": [
    "train_set.info()"
   ]
  },
  {
   "cell_type": "markdown",
   "metadata": {},
   "source": [
    "### Visualise the correlation"
   ]
  },
  {
   "cell_type": "code",
   "execution_count": 58,
   "metadata": {},
   "outputs": [
    {
     "data": {
      "image/png": "[encoded data removed]",
      "text/plain": [
       "<Figure size 1296x720 with 25 Axes>"
      ]
     },
     "metadata": {
      "needs_background": "light"
     },
     "output_type": "display_data"
    }
   ],
   "source": [
    "from pandas.plotting import scatter_matrix\n",
    "\n",
    "scatter_matrix(train_set, figsize=(18, 10));"
   ]
  },
  {
   "cell_type": "markdown",
   "metadata": {},
   "source": [
    "## Assessing Periods\n",
    "\n",
    "There are observations that don't have periods specified. Let's take closer look at them - would that be possible to guess what \"proper periods\" should have been set?"
   ]
  },
  {
   "cell_type": "code",
   "execution_count": 68,
   "metadata": {},
   "outputs": [
    {
     "data": {
      "text/plain": [
       "array(['Weekly', 'Weekend night', nan, 'Monthly', 'Weeknight', 'Nightly',\n",
       "       'Weekend night, Weeknight'], dtype=object)"
      ]
     },
     "execution_count": 68,
     "metadata": {},
     "output_type": "execute_result"
    }
   ],
   "source": [
    "train_set[\"prices.period\"].unique()"
   ]
  },
  {
   "cell_type": "code",
   "execution_count": 69,
   "metadata": {},
   "outputs": [
    {
     "data": {
      "text/html": [
       "<div>\n",
       "<style scoped>\n",
       "    .dataframe tbody tr th:only-of-type {\n",
       "        vertical-align: middle;\n",
       "    }\n",
       "\n",
       "    .dataframe tbody tr th {\n",
       "        vertical-align: top;\n",
       "    }\n",
       "\n",
       "    .dataframe thead th {\n",
       "        text-align: right;\n",
       "    }\n",
       "</style>\n",
       "<table border=\"1\" class=\"dataframe\">\n",
       "  <thead>\n",
       "    <tr style=\"text-align: right;\">\n",
       "      <th></th>\n",
       "      <th>price</th>\n",
       "      <th>numBed</th>\n",
       "      <th>numBathroom</th>\n",
       "      <th>numBedroom</th>\n",
       "      <th>numPeople</th>\n",
       "      <th>city</th>\n",
       "      <th>prices.period</th>\n",
       "    </tr>\n",
       "  </thead>\n",
       "  <tbody>\n",
       "    <tr>\n",
       "      <th>2340</th>\n",
       "      <td>115.0</td>\n",
       "      <td>1.0</td>\n",
       "      <td>1.0</td>\n",
       "      <td>1</td>\n",
       "      <td>2</td>\n",
       "      <td>Palm Springs</td>\n",
       "      <td>NaN</td>\n",
       "    </tr>\n",
       "    <tr>\n",
       "      <th>2367</th>\n",
       "      <td>44.0</td>\n",
       "      <td>1.0</td>\n",
       "      <td>1.0</td>\n",
       "      <td>1</td>\n",
       "      <td>3</td>\n",
       "      <td>Palm Springs</td>\n",
       "      <td>NaN</td>\n",
       "    </tr>\n",
       "    <tr>\n",
       "      <th>2371</th>\n",
       "      <td>449.0</td>\n",
       "      <td>5.0</td>\n",
       "      <td>3.5</td>\n",
       "      <td>4</td>\n",
       "      <td>10</td>\n",
       "      <td>Palm Springs</td>\n",
       "      <td>NaN</td>\n",
       "    </tr>\n",
       "    <tr>\n",
       "      <th>2459</th>\n",
       "      <td>125.0</td>\n",
       "      <td>2.0</td>\n",
       "      <td>2.0</td>\n",
       "      <td>2</td>\n",
       "      <td>4</td>\n",
       "      <td>Palm Springs</td>\n",
       "      <td>NaN</td>\n",
       "    </tr>\n",
       "    <tr>\n",
       "      <th>2308</th>\n",
       "      <td>350.0</td>\n",
       "      <td>3.0</td>\n",
       "      <td>3.0</td>\n",
       "      <td>3</td>\n",
       "      <td>6</td>\n",
       "      <td>Palm Springs</td>\n",
       "      <td>NaN</td>\n",
       "    </tr>\n",
       "  </tbody>\n",
       "</table>\n",
       "</div>"
      ],
      "text/plain": [
       "      price  numBed  numBathroom  numBedroom  numPeople          city  \\\n",
       "2340  115.0     1.0          1.0           1          2  Palm Springs   \n",
       "2367   44.0     1.0          1.0           1          3  Palm Springs   \n",
       "2371  449.0     5.0          3.5           4         10  Palm Springs   \n",
       "2459  125.0     2.0          2.0           2          4  Palm Springs   \n",
       "2308  350.0     3.0          3.0           3          6  Palm Springs   \n",
       "\n",
       "     prices.period  \n",
       "2340           NaN  \n",
       "2367           NaN  \n",
       "2371           NaN  \n",
       "2459           NaN  \n",
       "2308           NaN  "
      ]
     },
     "execution_count": 69,
     "metadata": {},
     "output_type": "execute_result"
    }
   ],
   "source": [
    "train_set[ train_set[\"prices.period\"].isnull() ].head()"
   ]
  },
  {
   "cell_type": "code",
   "execution_count": 66,
   "metadata": {},
   "outputs": [
    {
     "data": {
      "text/html": [
       "<div>\n",
       "<style scoped>\n",
       "    .dataframe tbody tr th:only-of-type {\n",
       "        vertical-align: middle;\n",
       "    }\n",
       "\n",
       "    .dataframe tbody tr th {\n",
       "        vertical-align: top;\n",
       "    }\n",
       "\n",
       "    .dataframe thead th {\n",
       "        text-align: right;\n",
       "    }\n",
       "</style>\n",
       "<table border=\"1\" class=\"dataframe\">\n",
       "  <thead>\n",
       "    <tr style=\"text-align: right;\">\n",
       "      <th></th>\n",
       "      <th>count</th>\n",
       "      <th>min</th>\n",
       "      <th>max</th>\n",
       "    </tr>\n",
       "    <tr>\n",
       "      <th>prices.period</th>\n",
       "      <th></th>\n",
       "      <th></th>\n",
       "      <th></th>\n",
       "    </tr>\n",
       "  </thead>\n",
       "  <tbody>\n",
       "    <tr>\n",
       "      <th>Nightly</th>\n",
       "      <td>67</td>\n",
       "      <td>49.0</td>\n",
       "      <td>720.0</td>\n",
       "    </tr>\n",
       "    <tr>\n",
       "      <th>Weekend night</th>\n",
       "      <td>2236</td>\n",
       "      <td>50.0</td>\n",
       "      <td>7995.0</td>\n",
       "    </tr>\n",
       "    <tr>\n",
       "      <th>Weeknight</th>\n",
       "      <td>820</td>\n",
       "      <td>50.0</td>\n",
       "      <td>2700.0</td>\n",
       "    </tr>\n",
       "    <tr>\n",
       "      <th>Weekend night, Weeknight</th>\n",
       "      <td>7</td>\n",
       "      <td>119.0</td>\n",
       "      <td>750.0</td>\n",
       "    </tr>\n",
       "    <tr>\n",
       "      <th>Weekly</th>\n",
       "      <td>2969</td>\n",
       "      <td>250.0</td>\n",
       "      <td>34965.0</td>\n",
       "    </tr>\n",
       "    <tr>\n",
       "      <th>Monthly</th>\n",
       "      <td>1645</td>\n",
       "      <td>750.0</td>\n",
       "      <td>95060.0</td>\n",
       "    </tr>\n",
       "  </tbody>\n",
       "</table>\n",
       "</div>"
      ],
      "text/plain": [
       "                          count    min      max\n",
       "prices.period                                  \n",
       "Nightly                      67   49.0    720.0\n",
       "Weekend night              2236   50.0   7995.0\n",
       "Weeknight                   820   50.0   2700.0\n",
       "Weekend night, Weeknight      7  119.0    750.0\n",
       "Weekly                     2969  250.0  34965.0\n",
       "Monthly                    1645  750.0  95060.0"
      ]
     },
     "execution_count": 66,
     "metadata": {},
     "output_type": "execute_result"
    }
   ],
   "source": [
    "train_set.groupby([\"prices.period\"])[\"price\"].agg(['count', 'min', 'max']).sort_values(by=[\"min\"])"
   ]
  },
  {
   "cell_type": "markdown",
   "metadata": {},
   "source": [
    "Unfortunately, for the prices for currently specified periods do overlap and it won't be easy to distinguis if the observation's price indicates specific period it was meant to be set for. For non-specified periods, we will categorise them as `\"Other\"`, but this could be an opportunity to spend some more time investigating if we could assign proper periods to improve model's performance.\n",
    "\n",
    "Additionally, there are observations with `\"Weekend night, Weeknight\"` which sounds very similar to `\"Nightly\"`.\n",
    "\n",
    "Let's implement simple transformer we will be able to use in pipeline to handle these values for us:"
   ]
  },
  {
   "cell_type": "code",
   "execution_count": 74,
   "metadata": {},
   "outputs": [],
   "source": [
    "from sklearn.base import BaseEstimator, TransformerMixin\n",
    "\n",
    "class PricePeriodCleaner(BaseEstimator, TransformerMixin):\n",
    "    def __init__(self):\n",
    "        pass\n",
    "        \n",
    "    def fit(self, X, y=None):\n",
    "        return self\n",
    "    \n",
    "    def transform(self, X, y=None):\n",
    "        X_copy = X.copy()\n",
    "\n",
    "        X_copy[\"prices.period\"] = X_copy[\"prices.period\"].replace({\"Weekend night, Weeknight\": \"Nightly\"})\\\n",
    "                                                         .fillna(\"Other\")\n",
    "        \n",
    "        return X_copy\n",
    "\n",
    "cleaner = PricePeriodCleaner()\n",
    "train_set_cleaned = cleaner.transform(train_set)"
   ]
  },
  {
   "cell_type": "code",
   "execution_count": 76,
   "metadata": {},
   "outputs": [
    {
     "data": {
      "text/plain": [
       "array(['Weekly', 'Weekend night', 'Other', 'Monthly', 'Weeknight',\n",
       "       'Nightly'], dtype=object)"
      ]
     },
     "execution_count": 76,
     "metadata": {},
     "output_type": "execute_result"
    }
   ],
   "source": [
    "train_set_cleaned[\"prices.period\"].unique()"
   ]
  },
  {
   "cell_type": "markdown",
   "metadata": {},
   "source": [
    "## Extract features and target variable"
   ]
  },
  {
   "cell_type": "code",
   "execution_count": 77,
   "metadata": {},
   "outputs": [],
   "source": [
    "X = train_set.drop(\"price\", axis=1)\n",
    "y = train_set[\"price\"].copy()"
   ]
  },
  {
   "cell_type": "code",
   "execution_count": 60,
   "metadata": {
    "scrolled": true
   },
   "outputs": [
    {
     "name": "stdout",
     "output_type": "stream",
     "text": [
      "<class 'pandas.core.frame.DataFrame'>\n",
      "Int64Index: 7965 entries, 4989 to 8011\n",
      "Data columns (total 6 columns):\n",
      "numBed           705 non-null float64\n",
      "numBathroom      7965 non-null float64\n",
      "numBedroom       7965 non-null int64\n",
      "numPeople        7965 non-null int64\n",
      "city             7965 non-null object\n",
      "prices.period    7744 non-null object\n",
      "dtypes: float64(2), int64(2), object(2)\n",
      "memory usage: 435.6+ KB\n"
     ]
    }
   ],
   "source": [
    "X.info()"
   ]
  },
  {
   "cell_type": "markdown",
   "metadata": {},
   "source": [
    "## Assessing numBeds\n",
    "\n",
    "There are observations without `\"numBeds\"` specified - it seems logical that there are \"at most\" one bed per bedroom, so let's implement a transformer that will copy the `\"numBedrooms\"` into `\"numBeds\"` if not provided:"
   ]
  },
  {
   "cell_type": "code",
   "execution_count": 78,
   "metadata": {},
   "outputs": [
    {
     "data": {
      "text/html": [
       "<div>\n",
       "<style scoped>\n",
       "    .dataframe tbody tr th:only-of-type {\n",
       "        vertical-align: middle;\n",
       "    }\n",
       "\n",
       "    .dataframe tbody tr th {\n",
       "        vertical-align: top;\n",
       "    }\n",
       "\n",
       "    .dataframe thead th {\n",
       "        text-align: right;\n",
       "    }\n",
       "</style>\n",
       "<table border=\"1\" class=\"dataframe\">\n",
       "  <thead>\n",
       "    <tr style=\"text-align: right;\">\n",
       "      <th></th>\n",
       "      <th>price</th>\n",
       "      <th>numBed</th>\n",
       "      <th>numBathroom</th>\n",
       "      <th>numBedroom</th>\n",
       "      <th>numPeople</th>\n",
       "      <th>city</th>\n",
       "      <th>prices.period</th>\n",
       "    </tr>\n",
       "  </thead>\n",
       "  <tbody>\n",
       "    <tr>\n",
       "      <th>4989</th>\n",
       "      <td>350.0</td>\n",
       "      <td>1.0</td>\n",
       "      <td>1.0</td>\n",
       "      <td>1</td>\n",
       "      <td>2</td>\n",
       "      <td>Palm Springs</td>\n",
       "      <td>Weekly</td>\n",
       "    </tr>\n",
       "    <tr>\n",
       "      <th>5609</th>\n",
       "      <td>935.0</td>\n",
       "      <td>1.0</td>\n",
       "      <td>2.0</td>\n",
       "      <td>1</td>\n",
       "      <td>3</td>\n",
       "      <td>Downtown Palm Springs Vacation Rentals</td>\n",
       "      <td>Weekly</td>\n",
       "    </tr>\n",
       "    <tr>\n",
       "      <th>8695</th>\n",
       "      <td>530.0</td>\n",
       "      <td>4.0</td>\n",
       "      <td>3.0</td>\n",
       "      <td>4</td>\n",
       "      <td>8</td>\n",
       "      <td>Palm Springs</td>\n",
       "      <td>Weekend night</td>\n",
       "    </tr>\n",
       "    <tr>\n",
       "      <th>7421</th>\n",
       "      <td>685.0</td>\n",
       "      <td>4.0</td>\n",
       "      <td>4.0</td>\n",
       "      <td>4</td>\n",
       "      <td>8</td>\n",
       "      <td>Palm Springs</td>\n",
       "      <td>Weekend night</td>\n",
       "    </tr>\n",
       "    <tr>\n",
       "      <th>10094</th>\n",
       "      <td>260.0</td>\n",
       "      <td>4.0</td>\n",
       "      <td>4.0</td>\n",
       "      <td>4</td>\n",
       "      <td>10</td>\n",
       "      <td>Palm Springs</td>\n",
       "      <td>Weekend night</td>\n",
       "    </tr>\n",
       "  </tbody>\n",
       "</table>\n",
       "</div>"
      ],
      "text/plain": [
       "       price  numBed  numBathroom  numBedroom  numPeople  \\\n",
       "4989   350.0     1.0          1.0           1          2   \n",
       "5609   935.0     1.0          2.0           1          3   \n",
       "8695   530.0     4.0          3.0           4          8   \n",
       "7421   685.0     4.0          4.0           4          8   \n",
       "10094  260.0     4.0          4.0           4         10   \n",
       "\n",
       "                                         city  prices.period  \n",
       "4989                             Palm Springs         Weekly  \n",
       "5609   Downtown Palm Springs Vacation Rentals         Weekly  \n",
       "8695                             Palm Springs  Weekend night  \n",
       "7421                             Palm Springs  Weekend night  \n",
       "10094                            Palm Springs  Weekend night  "
      ]
     },
     "execution_count": 78,
     "metadata": {},
     "output_type": "execute_result"
    }
   ],
   "source": [
    "from sklearn.base import BaseEstimator, TransformerMixin\n",
    "\n",
    "class NumBedImputer(BaseEstimator, TransformerMixin):\n",
    "    def __init__(self):\n",
    "        pass\n",
    "        \n",
    "    def fit(self, X, y=None):\n",
    "        return self\n",
    "    \n",
    "    def transform(self, X, y=None):\n",
    "        X_copy = X.copy()\n",
    "\n",
    "        X_copy[\"numBed\"] = X_copy[\"numBed\"].fillna(X_copy[\"numBedroom\"])\n",
    "        \n",
    "        return X_copy\n",
    "\n",
    "num_bed_imputer = NumBedImputer()\n",
    "train_set_imputed = num_bed_imputer.transform(train_set)\n",
    "train_set_imputed.head()"
   ]
  },
  {
   "cell_type": "markdown",
   "metadata": {},
   "source": [
    "Let's combine the transformes into pipeline to perform whole cleanup automatically.\n",
    "\n",
    "**It is important** - this kind of transformation will be only applicable to `train`/`test` sets to prepare for training the model, but we will assume the data **always** passed from the application, hence we will not attempt to _productionise_ this this pipeline. "
   ]
  },
  {
   "cell_type": "code",
   "execution_count": 103,
   "metadata": {},
   "outputs": [],
   "source": [
    "from sklearn.pipeline import Pipeline\n",
    "\n",
    "cleaner_pipeline = Pipeline([\n",
    "    (\"num_bed_imputer\", NumBedImputer()),\n",
    "    (\"price_period_cleaner\", PricePeriodCleaner())\n",
    "])\n",
    "\n",
    "X_cleaned = cleaner_pipeline.fit_transform(X)"
   ]
  },
  {
   "cell_type": "markdown",
   "metadata": {},
   "source": [
    "Let's revisit data cleaned by the pipeline:"
   ]
  },
  {
   "cell_type": "code",
   "execution_count": 104,
   "metadata": {},
   "outputs": [
    {
     "data": {
      "text/html": [
       "<div>\n",
       "<style scoped>\n",
       "    .dataframe tbody tr th:only-of-type {\n",
       "        vertical-align: middle;\n",
       "    }\n",
       "\n",
       "    .dataframe tbody tr th {\n",
       "        vertical-align: top;\n",
       "    }\n",
       "\n",
       "    .dataframe thead th {\n",
       "        text-align: right;\n",
       "    }\n",
       "</style>\n",
       "<table border=\"1\" class=\"dataframe\">\n",
       "  <thead>\n",
       "    <tr style=\"text-align: right;\">\n",
       "      <th></th>\n",
       "      <th>numBed</th>\n",
       "      <th>numBathroom</th>\n",
       "      <th>numBedroom</th>\n",
       "      <th>numPeople</th>\n",
       "      <th>city</th>\n",
       "      <th>prices.period</th>\n",
       "    </tr>\n",
       "  </thead>\n",
       "  <tbody>\n",
       "    <tr>\n",
       "      <th>4989</th>\n",
       "      <td>1.0</td>\n",
       "      <td>1.0</td>\n",
       "      <td>1</td>\n",
       "      <td>2</td>\n",
       "      <td>Palm Springs</td>\n",
       "      <td>Weekly</td>\n",
       "    </tr>\n",
       "    <tr>\n",
       "      <th>5609</th>\n",
       "      <td>1.0</td>\n",
       "      <td>2.0</td>\n",
       "      <td>1</td>\n",
       "      <td>3</td>\n",
       "      <td>Downtown Palm Springs Vacation Rentals</td>\n",
       "      <td>Weekly</td>\n",
       "    </tr>\n",
       "    <tr>\n",
       "      <th>8695</th>\n",
       "      <td>4.0</td>\n",
       "      <td>3.0</td>\n",
       "      <td>4</td>\n",
       "      <td>8</td>\n",
       "      <td>Palm Springs</td>\n",
       "      <td>Weekend night</td>\n",
       "    </tr>\n",
       "    <tr>\n",
       "      <th>7421</th>\n",
       "      <td>4.0</td>\n",
       "      <td>4.0</td>\n",
       "      <td>4</td>\n",
       "      <td>8</td>\n",
       "      <td>Palm Springs</td>\n",
       "      <td>Weekend night</td>\n",
       "    </tr>\n",
       "    <tr>\n",
       "      <th>10094</th>\n",
       "      <td>4.0</td>\n",
       "      <td>4.0</td>\n",
       "      <td>4</td>\n",
       "      <td>10</td>\n",
       "      <td>Palm Springs</td>\n",
       "      <td>Weekend night</td>\n",
       "    </tr>\n",
       "  </tbody>\n",
       "</table>\n",
       "</div>"
      ],
      "text/plain": [
       "       numBed  numBathroom  numBedroom  numPeople  \\\n",
       "4989      1.0          1.0           1          2   \n",
       "5609      1.0          2.0           1          3   \n",
       "8695      4.0          3.0           4          8   \n",
       "7421      4.0          4.0           4          8   \n",
       "10094     4.0          4.0           4         10   \n",
       "\n",
       "                                         city  prices.period  \n",
       "4989                             Palm Springs         Weekly  \n",
       "5609   Downtown Palm Springs Vacation Rentals         Weekly  \n",
       "8695                             Palm Springs  Weekend night  \n",
       "7421                             Palm Springs  Weekend night  \n",
       "10094                            Palm Springs  Weekend night  "
      ]
     },
     "execution_count": 104,
     "metadata": {},
     "output_type": "execute_result"
    }
   ],
   "source": [
    "X_cleaned.head()"
   ]
  },
  {
   "cell_type": "code",
   "execution_count": 105,
   "metadata": {},
   "outputs": [
    {
     "name": "stdout",
     "output_type": "stream",
     "text": [
      "<class 'pandas.core.frame.DataFrame'>\n",
      "Int64Index: 7965 entries, 4989 to 8011\n",
      "Data columns (total 6 columns):\n",
      "numBed           7965 non-null float64\n",
      "numBathroom      7965 non-null float64\n",
      "numBedroom       7965 non-null int64\n",
      "numPeople        7965 non-null int64\n",
      "city             7965 non-null object\n",
      "prices.period    7965 non-null object\n",
      "dtypes: float64(2), int64(2), object(2)\n",
      "memory usage: 435.6+ KB\n"
     ]
    }
   ],
   "source": [
    "X_cleaned.info()"
   ]
  },
  {
   "cell_type": "markdown",
   "metadata": {},
   "source": [
    "There are no empty values anymore! We will be able to use this pipeline to clean `test_set` soon...\n",
    "\n",
    "Next, our data set has categorical values (`\"city\"` and `\"prices.period\"`) and they have to by turned intu numerical values. There is a couple of ways this could be acheived - either \"Labeling\", or \"One Hot Encoding\" and we will use the latter one.\n",
    "\n",
    "For better reusability to apply the same transformation in future - we encode them in another pipeline:"
   ]
  },
  {
   "cell_type": "code",
   "execution_count": 106,
   "metadata": {},
   "outputs": [
    {
     "data": {
      "text/plain": [
       "array([1., 1., 1., 2., 0., 0., 1., 0., 0., 0., 0., 0., 0., 1., 0.])"
      ]
     },
     "execution_count": 106,
     "metadata": {},
     "output_type": "execute_result"
    }
   ],
   "source": [
    "from sklearn.compose import ColumnTransformer\n",
    "from sklearn.preprocessing import OneHotEncoder\n",
    "\n",
    "features_to_keep = [\n",
    "    \"numBed\",\n",
    "    \"numBathroom\",\n",
    "    \"numBedroom\",\n",
    "    \"numPeople\",\n",
    "]\n",
    "\n",
    "preparation_pipeline = ColumnTransformer([\n",
    "    (\"to_keep\", \"passthrough\", features_to_keep),\n",
    "    (\"city_cat\", OneHotEncoder(dtype=np.int8), [\"city\"]),\n",
    "    (\"period_cat\", OneHotEncoder(dtype=np.int8), [\"prices.period\"]),\n",
    "])\n",
    "\n",
    "X_prepared = preparation_pipeline.fit_transform(X_cleaned)\n",
    "X_prepared[0]"
   ]
  },
  {
   "cell_type": "markdown",
   "metadata": {},
   "source": [
    "## Model Selection"
   ]
  },
  {
   "cell_type": "markdown",
   "metadata": {},
   "source": [
    "### Prepare test set for model evaluation\n",
    "\n",
    "Let's use our pipelines we defined to preprocess test set:"
   ]
  },
  {
   "cell_type": "code",
   "execution_count": 112,
   "metadata": {},
   "outputs": [],
   "source": [
    "X_test = test_set.drop(\"price\", axis=1)\n",
    "y_test = test_set[\"price\"]"
   ]
  },
  {
   "cell_type": "code",
   "execution_count": 113,
   "metadata": {},
   "outputs": [
    {
     "data": {
      "text/plain": [
       "(2656, 15)"
      ]
     },
     "execution_count": 113,
     "metadata": {},
     "output_type": "execute_result"
    }
   ],
   "source": [
    "X_test_clean = cleaner_pipeline.transform(X_test)\n",
    "X_test_prepared = preparation_pipeline.transform(X_test_clean)\n",
    "X_test_prepared.shape"
   ]
  },
  {
   "cell_type": "markdown",
   "metadata": {},
   "source": [
    "### Choosing the Model\n",
    "\n",
    "#### `LinearRegression`"
   ]
  },
  {
   "cell_type": "code",
   "execution_count": 117,
   "metadata": {},
   "outputs": [
    {
     "data": {
      "text/plain": [
       "LinearRegression(copy_X=True, fit_intercept=True, n_jobs=None,\n",
       "         normalize=False)"
      ]
     },
     "execution_count": 117,
     "metadata": {},
     "output_type": "execute_result"
    }
   ],
   "source": [
    "from sklearn.linear_model import LinearRegression\n",
    "\n",
    "lin_reg = LinearRegression()\n",
    "lin_reg.fit(X_prepared, y)"
   ]
  },
  {
   "cell_type": "code",
   "execution_count": 118,
   "metadata": {},
   "outputs": [
    {
     "data": {
      "text/plain": [
       "0.35238347735337716"
      ]
     },
     "execution_count": 118,
     "metadata": {},
     "output_type": "execute_result"
    }
   ],
   "source": [
    "lin_reg.score(X_test_prepared, y_test)"
   ]
  },
  {
   "cell_type": "markdown",
   "metadata": {},
   "source": [
    "Accuracy is quite low, around `35%`, but what does it mean for predicitons? Let's write simple function, where we subtract predicted values from actual ones, and see the difference:"
   ]
  },
  {
   "cell_type": "code",
   "execution_count": 148,
   "metadata": {},
   "outputs": [],
   "source": [
    "def comparison(predicted, actual):\n",
    "    data = np.array([predicted, actual, actual - predicted]).T\n",
    "    return pd.DataFrame(data, columns=[\"Predicted\", \"Actual\", \"Difference\"])"
   ]
  },
  {
   "cell_type": "code",
   "execution_count": 173,
   "metadata": {},
   "outputs": [
    {
     "data": {
      "text/html": [
       "<div>\n",
       "<style scoped>\n",
       "    .dataframe tbody tr th:only-of-type {\n",
       "        vertical-align: middle;\n",
       "    }\n",
       "\n",
       "    .dataframe tbody tr th {\n",
       "        vertical-align: top;\n",
       "    }\n",
       "\n",
       "    .dataframe thead th {\n",
       "        text-align: right;\n",
       "    }\n",
       "</style>\n",
       "<table border=\"1\" class=\"dataframe\">\n",
       "  <thead>\n",
       "    <tr style=\"text-align: right;\">\n",
       "      <th></th>\n",
       "      <th>Predicted</th>\n",
       "      <th>Actual</th>\n",
       "      <th>Difference</th>\n",
       "    </tr>\n",
       "  </thead>\n",
       "  <tbody>\n",
       "    <tr>\n",
       "      <th>0</th>\n",
       "      <td>5943.148162</td>\n",
       "      <td>6240.0</td>\n",
       "      <td>296.851838</td>\n",
       "    </tr>\n",
       "    <tr>\n",
       "      <th>1</th>\n",
       "      <td>225.705964</td>\n",
       "      <td>525.0</td>\n",
       "      <td>299.294036</td>\n",
       "    </tr>\n",
       "    <tr>\n",
       "      <th>2</th>\n",
       "      <td>-316.760316</td>\n",
       "      <td>250.0</td>\n",
       "      <td>566.760316</td>\n",
       "    </tr>\n",
       "    <tr>\n",
       "      <th>3</th>\n",
       "      <td>2354.135519</td>\n",
       "      <td>400.0</td>\n",
       "      <td>-1954.135519</td>\n",
       "    </tr>\n",
       "    <tr>\n",
       "      <th>4</th>\n",
       "      <td>-2114.351231</td>\n",
       "      <td>230.0</td>\n",
       "      <td>2344.351231</td>\n",
       "    </tr>\n",
       "  </tbody>\n",
       "</table>\n",
       "</div>"
      ],
      "text/plain": [
       "     Predicted  Actual   Difference\n",
       "0  5943.148162  6240.0   296.851838\n",
       "1   225.705964   525.0   299.294036\n",
       "2  -316.760316   250.0   566.760316\n",
       "3  2354.135519   400.0 -1954.135519\n",
       "4 -2114.351231   230.0  2344.351231"
      ]
     },
     "execution_count": 173,
     "metadata": {},
     "output_type": "execute_result"
    }
   ],
   "source": [
    "lin_reg_predictions = lin_reg.predict(X_test_prepared)\n",
    "lin_reg_diffs = comparison(lin_reg_predictions, y_test)\n",
    "lin_reg_diffs.head()"
   ]
  },
  {
   "cell_type": "markdown",
   "metadata": {},
   "source": [
    "We can see, for the first observation the model is off by `296.85` on the level of actual price being `6240.00` and predicted `5943.14`. That's actually not that bad.\n",
    "\n",
    "Second observation though, is off by `299.29`, but considering values - actual `525.00` and predicted `225.70` means we're off by more than the half of the price.\n",
    "\n",
    "Finally, third prediction is off by `566.76`, but predicted value value is negative (`-316.76`).\n",
    "\n",
    "Regardless of the levels of accuracy, the fact that the model predicts negative prices disqualifies this model for using in production for predicting the prices."
   ]
  },
  {
   "cell_type": "markdown",
   "metadata": {},
   "source": [
    "#### `DecisionTreeRegressor`"
   ]
  },
  {
   "cell_type": "code",
   "execution_count": 174,
   "metadata": {},
   "outputs": [
    {
     "data": {
      "text/plain": [
       "DecisionTreeRegressor(criterion='mse', max_depth=None, max_features=None,\n",
       "           max_leaf_nodes=None, min_impurity_decrease=0.0,\n",
       "           min_impurity_split=None, min_samples_leaf=1,\n",
       "           min_samples_split=2, min_weight_fraction_leaf=0.0,\n",
       "           presort=False, random_state=42, splitter='best')"
      ]
     },
     "execution_count": 174,
     "metadata": {},
     "output_type": "execute_result"
    }
   ],
   "source": [
    "from sklearn.tree import DecisionTreeRegressor\n",
    "\n",
    "tree = DecisionTreeRegressor(random_state=42)\n",
    "tree.fit(X_prepared, y)"
   ]
  },
  {
   "cell_type": "code",
   "execution_count": 175,
   "metadata": {},
   "outputs": [
    {
     "data": {
      "text/plain": [
       "0.7851424261042834"
      ]
     },
     "execution_count": 175,
     "metadata": {},
     "output_type": "execute_result"
    }
   ],
   "source": [
    "tree.score(X_test_prepared, y_test)"
   ]
  },
  {
   "cell_type": "markdown",
   "metadata": {},
   "source": [
    "Decision tree was able to achieve accuracy of `78.51%`. Let's see how the predictions look like:"
   ]
  },
  {
   "cell_type": "code",
   "execution_count": 176,
   "metadata": {},
   "outputs": [],
   "source": [
    "tree_predictions = tree.predict(X_test_prepared)"
   ]
  },
  {
   "cell_type": "code",
   "execution_count": 177,
   "metadata": {},
   "outputs": [
    {
     "data": {
      "text/html": [
       "<div>\n",
       "<style scoped>\n",
       "    .dataframe tbody tr th:only-of-type {\n",
       "        vertical-align: middle;\n",
       "    }\n",
       "\n",
       "    .dataframe tbody tr th {\n",
       "        vertical-align: top;\n",
       "    }\n",
       "\n",
       "    .dataframe thead th {\n",
       "        text-align: right;\n",
       "    }\n",
       "</style>\n",
       "<table border=\"1\" class=\"dataframe\">\n",
       "  <thead>\n",
       "    <tr style=\"text-align: right;\">\n",
       "      <th></th>\n",
       "      <th>Predicted</th>\n",
       "      <th>Actual</th>\n",
       "      <th>Difference</th>\n",
       "    </tr>\n",
       "  </thead>\n",
       "  <tbody>\n",
       "    <tr>\n",
       "      <th>0</th>\n",
       "      <td>4745.068493</td>\n",
       "      <td>6240.0</td>\n",
       "      <td>1494.931507</td>\n",
       "    </tr>\n",
       "    <tr>\n",
       "      <th>1</th>\n",
       "      <td>389.595041</td>\n",
       "      <td>525.0</td>\n",
       "      <td>135.404959</td>\n",
       "    </tr>\n",
       "    <tr>\n",
       "      <th>2</th>\n",
       "      <td>250.000000</td>\n",
       "      <td>250.0</td>\n",
       "      <td>0.000000</td>\n",
       "    </tr>\n",
       "    <tr>\n",
       "      <th>3</th>\n",
       "      <td>352.500000</td>\n",
       "      <td>400.0</td>\n",
       "      <td>47.500000</td>\n",
       "    </tr>\n",
       "    <tr>\n",
       "      <th>4</th>\n",
       "      <td>176.948980</td>\n",
       "      <td>230.0</td>\n",
       "      <td>53.051020</td>\n",
       "    </tr>\n",
       "  </tbody>\n",
       "</table>\n",
       "</div>"
      ],
      "text/plain": [
       "     Predicted  Actual   Difference\n",
       "0  4745.068493  6240.0  1494.931507\n",
       "1   389.595041   525.0   135.404959\n",
       "2   250.000000   250.0     0.000000\n",
       "3   352.500000   400.0    47.500000\n",
       "4   176.948980   230.0    53.051020"
      ]
     },
     "execution_count": 177,
     "metadata": {},
     "output_type": "execute_result"
    }
   ],
   "source": [
    "tree_diffs = comparison(tree_predictions, y_test)\n",
    "tree_diffs.head()"
   ]
  },
  {
   "cell_type": "markdown",
   "metadata": {},
   "source": [
    "This model's predictions look much more promissing.\n",
    "\n",
    "First prediction is off by `1494.93`, which is a big value for the higher values, but the second prediction is off by `135.40` and the third is exact value.\n",
    "\n",
    "Finally - there are no negative values predicted in this sample of data. Let's take closer look at the predicted set as a whole then:"
   ]
  },
  {
   "cell_type": "code",
   "execution_count": 178,
   "metadata": {},
   "outputs": [
    {
     "data": {
      "text/html": [
       "<div>\n",
       "<style scoped>\n",
       "    .dataframe tbody tr th:only-of-type {\n",
       "        vertical-align: middle;\n",
       "    }\n",
       "\n",
       "    .dataframe tbody tr th {\n",
       "        vertical-align: top;\n",
       "    }\n",
       "\n",
       "    .dataframe thead th {\n",
       "        text-align: right;\n",
       "    }\n",
       "</style>\n",
       "<table border=\"1\" class=\"dataframe\">\n",
       "  <thead>\n",
       "    <tr style=\"text-align: right;\">\n",
       "      <th></th>\n",
       "      <th>Predicted</th>\n",
       "      <th>Actual</th>\n",
       "      <th>Difference</th>\n",
       "    </tr>\n",
       "  </thead>\n",
       "  <tbody>\n",
       "    <tr>\n",
       "      <th>count</th>\n",
       "      <td>2656.000000</td>\n",
       "      <td>2656.000000</td>\n",
       "      <td>2656.000000</td>\n",
       "    </tr>\n",
       "    <tr>\n",
       "      <th>mean</th>\n",
       "      <td>2593.763240</td>\n",
       "      <td>2571.297440</td>\n",
       "      <td>-22.465800</td>\n",
       "    </tr>\n",
       "    <tr>\n",
       "      <th>std</th>\n",
       "      <td>4448.091695</td>\n",
       "      <td>4945.585221</td>\n",
       "      <td>2292.303723</td>\n",
       "    </tr>\n",
       "    <tr>\n",
       "      <th>min</th>\n",
       "      <td>54.000000</td>\n",
       "      <td>45.000000</td>\n",
       "      <td>-21653.333333</td>\n",
       "    </tr>\n",
       "    <tr>\n",
       "      <th>25%</th>\n",
       "      <td>487.139785</td>\n",
       "      <td>416.500000</td>\n",
       "      <td>-439.642857</td>\n",
       "    </tr>\n",
       "    <tr>\n",
       "      <th>50%</th>\n",
       "      <td>1299.896414</td>\n",
       "      <td>1150.000000</td>\n",
       "      <td>-73.561169</td>\n",
       "    </tr>\n",
       "    <tr>\n",
       "      <th>75%</th>\n",
       "      <td>3667.053191</td>\n",
       "      <td>2927.000000</td>\n",
       "      <td>145.960000</td>\n",
       "    </tr>\n",
       "    <tr>\n",
       "      <th>max</th>\n",
       "      <td>79725.333333</td>\n",
       "      <td>99820.000000</td>\n",
       "      <td>49694.218045</td>\n",
       "    </tr>\n",
       "  </tbody>\n",
       "</table>\n",
       "</div>"
      ],
      "text/plain": [
       "          Predicted        Actual    Difference\n",
       "count   2656.000000   2656.000000   2656.000000\n",
       "mean    2593.763240   2571.297440    -22.465800\n",
       "std     4448.091695   4945.585221   2292.303723\n",
       "min       54.000000     45.000000 -21653.333333\n",
       "25%      487.139785    416.500000   -439.642857\n",
       "50%     1299.896414   1150.000000    -73.561169\n",
       "75%     3667.053191   2927.000000    145.960000\n",
       "max    79725.333333  99820.000000  49694.218045"
      ]
     },
     "execution_count": 178,
     "metadata": {},
     "output_type": "execute_result"
    }
   ],
   "source": [
    "tree_diffs.describe()"
   ]
  },
  {
   "cell_type": "markdown",
   "metadata": {},
   "source": [
    "Here we can see the mean prediction is `2590.76` while the mean of actual values is `2571.29` and the mean difference is `-22.46`, which means the model _overestimates_ the prices by `22.46` on this data set .\n",
    "\n",
    "Let's review the two predictions, for which the difference is the bigest:"
   ]
  },
  {
   "cell_type": "code",
   "execution_count": 179,
   "metadata": {},
   "outputs": [
    {
     "data": {
      "text/html": [
       "<div>\n",
       "<style scoped>\n",
       "    .dataframe tbody tr th:only-of-type {\n",
       "        vertical-align: middle;\n",
       "    }\n",
       "\n",
       "    .dataframe tbody tr th {\n",
       "        vertical-align: top;\n",
       "    }\n",
       "\n",
       "    .dataframe thead th {\n",
       "        text-align: right;\n",
       "    }\n",
       "</style>\n",
       "<table border=\"1\" class=\"dataframe\">\n",
       "  <thead>\n",
       "    <tr style=\"text-align: right;\">\n",
       "      <th></th>\n",
       "      <th>Predicted</th>\n",
       "      <th>Actual</th>\n",
       "      <th>Difference</th>\n",
       "    </tr>\n",
       "  </thead>\n",
       "  <tbody>\n",
       "    <tr>\n",
       "      <th>1853</th>\n",
       "      <td>76253.333333</td>\n",
       "      <td>54600.0</td>\n",
       "      <td>-21653.333333</td>\n",
       "    </tr>\n",
       "  </tbody>\n",
       "</table>\n",
       "</div>"
      ],
      "text/plain": [
       "         Predicted   Actual    Difference\n",
       "1853  76253.333333  54600.0 -21653.333333"
      ]
     },
     "execution_count": 179,
     "metadata": {},
     "output_type": "execute_result"
    }
   ],
   "source": [
    "tree_diffs[ tree_diffs[\"Difference\"] < -21653 ]"
   ]
  },
  {
   "cell_type": "markdown",
   "metadata": {},
   "source": [
    "In this case model overestimated the value by `21653.33` while the actual value was `54600.00`"
   ]
  },
  {
   "cell_type": "code",
   "execution_count": 180,
   "metadata": {},
   "outputs": [
    {
     "data": {
      "text/html": [
       "<div>\n",
       "<style scoped>\n",
       "    .dataframe tbody tr th:only-of-type {\n",
       "        vertical-align: middle;\n",
       "    }\n",
       "\n",
       "    .dataframe tbody tr th {\n",
       "        vertical-align: top;\n",
       "    }\n",
       "\n",
       "    .dataframe thead th {\n",
       "        text-align: right;\n",
       "    }\n",
       "</style>\n",
       "<table border=\"1\" class=\"dataframe\">\n",
       "  <thead>\n",
       "    <tr style=\"text-align: right;\">\n",
       "      <th></th>\n",
       "      <th>Predicted</th>\n",
       "      <th>Actual</th>\n",
       "      <th>Difference</th>\n",
       "    </tr>\n",
       "  </thead>\n",
       "  <tbody>\n",
       "    <tr>\n",
       "      <th>1617</th>\n",
       "      <td>11565.781955</td>\n",
       "      <td>61260.0</td>\n",
       "      <td>49694.218045</td>\n",
       "    </tr>\n",
       "  </tbody>\n",
       "</table>\n",
       "</div>"
      ],
      "text/plain": [
       "         Predicted   Actual    Difference\n",
       "1617  11565.781955  61260.0  49694.218045"
      ]
     },
     "execution_count": 180,
     "metadata": {},
     "output_type": "execute_result"
    }
   ],
   "source": [
    "tree_diffs[ tree_diffs[\"Difference\"] > 49694 ]"
   ]
  },
  {
   "cell_type": "markdown",
   "metadata": {},
   "source": [
    "In this instance the price was underestimated by `49694.21` - predicted `11565.78` against `61260.00`.\n",
    "\n",
    "Despite huge differences in the most expensive properties, the model does very good job estimating smaller prices in most of the cases.\n",
    "\n",
    "Let's try other estimators.\n",
    "\n",
    "#### `RandomForestRegressor`"
   ]
  },
  {
   "cell_type": "code",
   "execution_count": 182,
   "metadata": {},
   "outputs": [
    {
     "data": {
      "text/plain": [
       "RandomForestRegressor(bootstrap=True, criterion='mse', max_depth=None,\n",
       "           max_features='auto', max_leaf_nodes=None,\n",
       "           min_impurity_decrease=0.0, min_impurity_split=None,\n",
       "           min_samples_leaf=1, min_samples_split=2,\n",
       "           min_weight_fraction_leaf=0.0, n_estimators=10, n_jobs=None,\n",
       "           oob_score=False, random_state=42, verbose=0, warm_start=False)"
      ]
     },
     "execution_count": 182,
     "metadata": {},
     "output_type": "execute_result"
    }
   ],
   "source": [
    "from sklearn.ensemble import RandomForestRegressor\n",
    "\n",
    "forest = RandomForestRegressor(n_estimators=10, random_state=42)\n",
    "forest.fit(X_prepared, y)"
   ]
  },
  {
   "cell_type": "code",
   "execution_count": 183,
   "metadata": {},
   "outputs": [
    {
     "data": {
      "text/plain": [
       "0.7830015932317294"
      ]
     },
     "execution_count": 183,
     "metadata": {},
     "output_type": "execute_result"
    }
   ],
   "source": [
    "forest.score(X_test_prepared, y_test)"
   ]
  },
  {
   "cell_type": "markdown",
   "metadata": {},
   "source": [
    "What is a bit surpising, the random forest has lower accuracy than the decision tree, yet, this is a good score."
   ]
  },
  {
   "cell_type": "code",
   "execution_count": 185,
   "metadata": {},
   "outputs": [],
   "source": [
    "forest_predictions = forest.predict(X_test_prepared)"
   ]
  },
  {
   "cell_type": "code",
   "execution_count": 186,
   "metadata": {},
   "outputs": [
    {
     "data": {
      "text/html": [
       "<div>\n",
       "<style scoped>\n",
       "    .dataframe tbody tr th:only-of-type {\n",
       "        vertical-align: middle;\n",
       "    }\n",
       "\n",
       "    .dataframe tbody tr th {\n",
       "        vertical-align: top;\n",
       "    }\n",
       "\n",
       "    .dataframe thead th {\n",
       "        text-align: right;\n",
       "    }\n",
       "</style>\n",
       "<table border=\"1\" class=\"dataframe\">\n",
       "  <thead>\n",
       "    <tr style=\"text-align: right;\">\n",
       "      <th></th>\n",
       "      <th>Predicted</th>\n",
       "      <th>Actual</th>\n",
       "      <th>Difference</th>\n",
       "    </tr>\n",
       "  </thead>\n",
       "  <tbody>\n",
       "    <tr>\n",
       "      <th>0</th>\n",
       "      <td>4800.336116</td>\n",
       "      <td>6240.0</td>\n",
       "      <td>1439.663884</td>\n",
       "    </tr>\n",
       "    <tr>\n",
       "      <th>1</th>\n",
       "      <td>392.348608</td>\n",
       "      <td>525.0</td>\n",
       "      <td>132.651392</td>\n",
       "    </tr>\n",
       "    <tr>\n",
       "      <th>2</th>\n",
       "      <td>250.000000</td>\n",
       "      <td>250.0</td>\n",
       "      <td>0.000000</td>\n",
       "    </tr>\n",
       "    <tr>\n",
       "      <th>3</th>\n",
       "      <td>399.113043</td>\n",
       "      <td>400.0</td>\n",
       "      <td>0.886957</td>\n",
       "    </tr>\n",
       "    <tr>\n",
       "      <th>4</th>\n",
       "      <td>177.550454</td>\n",
       "      <td>230.0</td>\n",
       "      <td>52.449546</td>\n",
       "    </tr>\n",
       "  </tbody>\n",
       "</table>\n",
       "</div>"
      ],
      "text/plain": [
       "     Predicted  Actual   Difference\n",
       "0  4800.336116  6240.0  1439.663884\n",
       "1   392.348608   525.0   132.651392\n",
       "2   250.000000   250.0     0.000000\n",
       "3   399.113043   400.0     0.886957\n",
       "4   177.550454   230.0    52.449546"
      ]
     },
     "execution_count": 186,
     "metadata": {},
     "output_type": "execute_result"
    }
   ],
   "source": [
    "forest_diffs = comparison(forest_predictions, y_test)\n",
    "forest_diffs.head()"
   ]
  },
  {
   "cell_type": "code",
   "execution_count": 187,
   "metadata": {},
   "outputs": [
    {
     "data": {
      "text/html": [
       "<div>\n",
       "<style scoped>\n",
       "    .dataframe tbody tr th:only-of-type {\n",
       "        vertical-align: middle;\n",
       "    }\n",
       "\n",
       "    .dataframe tbody tr th {\n",
       "        vertical-align: top;\n",
       "    }\n",
       "\n",
       "    .dataframe thead th {\n",
       "        text-align: right;\n",
       "    }\n",
       "</style>\n",
       "<table border=\"1\" class=\"dataframe\">\n",
       "  <thead>\n",
       "    <tr style=\"text-align: right;\">\n",
       "      <th></th>\n",
       "      <th>Predicted</th>\n",
       "      <th>Actual</th>\n",
       "      <th>Difference</th>\n",
       "    </tr>\n",
       "  </thead>\n",
       "  <tbody>\n",
       "    <tr>\n",
       "      <th>count</th>\n",
       "      <td>2656.000000</td>\n",
       "      <td>2656.000000</td>\n",
       "      <td>2656.000000</td>\n",
       "    </tr>\n",
       "    <tr>\n",
       "      <th>mean</th>\n",
       "      <td>2617.446402</td>\n",
       "      <td>2571.297440</td>\n",
       "      <td>-46.148962</td>\n",
       "    </tr>\n",
       "    <tr>\n",
       "      <th>std</th>\n",
       "      <td>4511.107190</td>\n",
       "      <td>4945.585221</td>\n",
       "      <td>2303.343865</td>\n",
       "    </tr>\n",
       "    <tr>\n",
       "      <th>min</th>\n",
       "      <td>74.434399</td>\n",
       "      <td>45.000000</td>\n",
       "      <td>-23013.433333</td>\n",
       "    </tr>\n",
       "    <tr>\n",
       "      <th>25%</th>\n",
       "      <td>490.104258</td>\n",
       "      <td>416.500000</td>\n",
       "      <td>-469.802232</td>\n",
       "    </tr>\n",
       "    <tr>\n",
       "      <th>50%</th>\n",
       "      <td>1291.887826</td>\n",
       "      <td>1150.000000</td>\n",
       "      <td>-75.338693</td>\n",
       "    </tr>\n",
       "    <tr>\n",
       "      <th>75%</th>\n",
       "      <td>3656.435619</td>\n",
       "      <td>2927.000000</td>\n",
       "      <td>132.495466</td>\n",
       "    </tr>\n",
       "    <tr>\n",
       "      <th>max</th>\n",
       "      <td>78760.654242</td>\n",
       "      <td>99820.000000</td>\n",
       "      <td>49332.370286</td>\n",
       "    </tr>\n",
       "  </tbody>\n",
       "</table>\n",
       "</div>"
      ],
      "text/plain": [
       "          Predicted        Actual    Difference\n",
       "count   2656.000000   2656.000000   2656.000000\n",
       "mean    2617.446402   2571.297440    -46.148962\n",
       "std     4511.107190   4945.585221   2303.343865\n",
       "min       74.434399     45.000000 -23013.433333\n",
       "25%      490.104258    416.500000   -469.802232\n",
       "50%     1291.887826   1150.000000    -75.338693\n",
       "75%     3656.435619   2927.000000    132.495466\n",
       "max    78760.654242  99820.000000  49332.370286"
      ]
     },
     "execution_count": 187,
     "metadata": {},
     "output_type": "execute_result"
    }
   ],
   "source": [
    "forest_diffs.describe()"
   ]
  },
  {
   "cell_type": "markdown",
   "metadata": {},
   "source": [
    "### `Ridge`"
   ]
  },
  {
   "cell_type": "code",
   "execution_count": 189,
   "metadata": {},
   "outputs": [
    {
     "data": {
      "text/plain": [
       "Ridge(alpha=1.0, copy_X=True, fit_intercept=True, max_iter=None,\n",
       "   normalize=False, random_state=42, solver='auto', tol=0.001)"
      ]
     },
     "execution_count": 189,
     "metadata": {},
     "output_type": "execute_result"
    }
   ],
   "source": [
    "from sklearn.linear_model import Ridge\n",
    "\n",
    "ridge = Ridge(random_state=42)\n",
    "ridge.fit(X_prepared, y)"
   ]
  },
  {
   "cell_type": "code",
   "execution_count": 190,
   "metadata": {},
   "outputs": [
    {
     "data": {
      "text/plain": [
       "0.35236942421392925"
      ]
     },
     "execution_count": 190,
     "metadata": {},
     "output_type": "execute_result"
    }
   ],
   "source": [
    "ridge.score(X_test_prepared, y_test)"
   ]
  },
  {
   "cell_type": "markdown",
   "metadata": {},
   "source": [
    "Ridge model also has very low score..."
   ]
  },
  {
   "cell_type": "markdown",
   "metadata": {},
   "source": [
    "### Searching best paramters\n",
    "\n",
    "From the models we've tried so far it's only `DecisionTree` and `RandomForest` that had highest scores, so we will try to find the best paramteres for both of them next:"
   ]
  },
  {
   "cell_type": "code",
   "execution_count": 191,
   "metadata": {},
   "outputs": [],
   "source": [
    "from sklearn.model_selection import GridSearchCV"
   ]
  },
  {
   "cell_type": "markdown",
   "metadata": {},
   "source": [
    "### Parameters for DecisionTree"
   ]
  },
  {
   "cell_type": "code",
   "execution_count": 212,
   "metadata": {},
   "outputs": [
    {
     "name": "stdout",
     "output_type": "stream",
     "text": [
      "Fitting 5 folds for each of 576 candidates, totalling 2880 fits\n"
     ]
    },
    {
     "name": "stderr",
     "output_type": "stream",
     "text": [
      "[Parallel(n_jobs=8)]: Using backend LokyBackend with 8 concurrent workers.\n",
      "[Parallel(n_jobs=8)]: Done   9 tasks      | elapsed:    0.1s\n",
      "[Parallel(n_jobs=8)]: Done 1468 tasks      | elapsed:    1.5s\n",
      "[Parallel(n_jobs=8)]: Done 2880 out of 2880 | elapsed:    2.9s finished\n"
     ]
    },
    {
     "data": {
      "text/plain": [
       "GridSearchCV(cv=5, error_score='raise-deprecating',\n",
       "       estimator=DecisionTreeRegressor(criterion='mse', max_depth=None, max_features=None,\n",
       "           max_leaf_nodes=None, min_impurity_decrease=0.0,\n",
       "           min_impurity_split=None, min_samples_leaf=1,\n",
       "           min_samples_split=2, min_weight_fraction_leaf=0.0,\n",
       "           presort=False, random_state=None, splitter='best'),\n",
       "       fit_params=None, iid='warn', n_jobs=8,\n",
       "       param_grid=[{'max_depth': [None, 3, 10, 30, 40, 50], 'min_samples_split': [2, 5, 10], 'min_samples_leaf': [1, 2, 5, 10], 'max_features': [None, 'auto', 'sqrt', 'log2', 2, 5, 10, 15]}],\n",
       "       pre_dispatch='2*n_jobs', refit=True, return_train_score=True,\n",
       "       scoring='neg_mean_squared_error', verbose=4)"
      ]
     },
     "execution_count": 212,
     "metadata": {},
     "output_type": "execute_result"
    }
   ],
   "source": [
    "tree_param_grid = [\n",
    "    {'max_depth': [None, 3, 10, 30, 40, 50], \n",
    "     'min_samples_split': [2, 5, 10],\n",
    "     'min_samples_leaf': [1, 2, 5, 10],\n",
    "     'max_features': [None, \"auto\", \"sqrt\", \"log2\", \n",
    "                      2, 5, 10, 15]},\n",
    "]\n",
    "\n",
    "tree_reg = DecisionTreeRegressor()\n",
    "\n",
    "tree_grid_search = GridSearchCV(tree_reg, tree_param_grid, cv=5,\n",
    "                                scoring=\"neg_mean_squared_error\",\n",
    "                                return_train_score=True,\n",
    "                                n_jobs=8, verbose=4)\n",
    "\n",
    "tree_grid_search.fit(X_prepared, y)"
   ]
  },
  {
   "cell_type": "code",
   "execution_count": 213,
   "metadata": {},
   "outputs": [
    {
     "data": {
      "text/plain": [
       "{'max_depth': None,\n",
       " 'max_features': 2,\n",
       " 'min_samples_leaf': 1,\n",
       " 'min_samples_split': 2}"
      ]
     },
     "execution_count": 213,
     "metadata": {},
     "output_type": "execute_result"
    }
   ],
   "source": [
    "tree_grid_search.best_params_"
   ]
  },
  {
   "cell_type": "code",
   "execution_count": 229,
   "metadata": {},
   "outputs": [
    {
     "name": "stdout",
     "output_type": "stream",
     "text": [
      "2342.6219535627633 {'max_depth': None, 'max_features': None, 'min_samples_leaf': 1, 'min_samples_split': 2}\n",
      "2260.6521953952924 {'max_depth': None, 'max_features': None, 'min_samples_leaf': 1, 'min_samples_split': 5}\n",
      "2357.6291893512685 {'max_depth': None, 'max_features': None, 'min_samples_leaf': 1, 'min_samples_split': 10}\n",
      "2354.572496557998 {'max_depth': None, 'max_features': None, 'min_samples_leaf': 2, 'min_samples_split': 2}\n",
      "2318.16160553651 {'max_depth': None, 'max_features': None, 'min_samples_leaf': 2, 'min_samples_split': 5}\n",
      "2321.459980761652 {'max_depth': None, 'max_features': None, 'min_samples_leaf': 2, 'min_samples_split': 10}\n",
      "2381.9769026658646 {'max_depth': None, 'max_features': None, 'min_samples_leaf': 5, 'min_samples_split': 2}\n",
      "2374.595694813335 {'max_depth': None, 'max_features': None, 'min_samples_leaf': 5, 'min_samples_split': 5}\n",
      "2370.52628308397 {'max_depth': None, 'max_features': None, 'min_samples_leaf': 5, 'min_samples_split': 10}\n",
      "2882.021738357548 {'max_depth': None, 'max_features': None, 'min_samples_leaf': 10, 'min_samples_split': 2}\n",
      "2882.021738357548 {'max_depth': None, 'max_features': None, 'min_samples_leaf': 10, 'min_samples_split': 5}\n",
      "2891.5916781512337 {'max_depth': None, 'max_features': None, 'min_samples_leaf': 10, 'min_samples_split': 10}\n",
      "2266.548091609822 {'max_depth': None, 'max_features': 'auto', 'min_samples_leaf': 1, 'min_samples_split': 2}\n",
      "2275.970231035047 {'max_depth': None, 'max_features': 'auto', 'min_samples_leaf': 1, 'min_samples_split': 5}\n",
      "2327.441422470648 {'max_depth': None, 'max_features': 'auto', 'min_samples_leaf': 1, 'min_samples_split': 10}\n",
      "2330.2720297930277 {'max_depth': None, 'max_features': 'auto', 'min_samples_leaf': 2, 'min_samples_split': 2}\n",
      "2329.6033747978163 {'max_depth': None, 'max_features': 'auto', 'min_samples_leaf': 2, 'min_samples_split': 5}\n",
      "2317.832601335159 {'max_depth': None, 'max_features': 'auto', 'min_samples_leaf': 2, 'min_samples_split': 10}\n",
      "2371.652300111349 {'max_depth': None, 'max_features': 'auto', 'min_samples_leaf': 5, 'min_samples_split': 2}\n",
      "2381.982358301723 {'max_depth': None, 'max_features': 'auto', 'min_samples_leaf': 5, 'min_samples_split': 5}\n",
      "2375.797760674265 {'max_depth': None, 'max_features': 'auto', 'min_samples_leaf': 5, 'min_samples_split': 10}\n",
      "2891.591134274342 {'max_depth': None, 'max_features': 'auto', 'min_samples_leaf': 10, 'min_samples_split': 2}\n",
      "2888.993422024251 {'max_depth': None, 'max_features': 'auto', 'min_samples_leaf': 10, 'min_samples_split': 5}\n",
      "2889.0937246071244 {'max_depth': None, 'max_features': 'auto', 'min_samples_leaf': 10, 'min_samples_split': 10}\n",
      "2264.0486650764656 {'max_depth': None, 'max_features': 'sqrt', 'min_samples_leaf': 1, 'min_samples_split': 2}\n",
      "2341.4148894642317 {'max_depth': None, 'max_features': 'sqrt', 'min_samples_leaf': 1, 'min_samples_split': 5}\n",
      "2446.874270295258 {'max_depth': None, 'max_features': 'sqrt', 'min_samples_leaf': 1, 'min_samples_split': 10}\n",
      "2657.5195170968445 {'max_depth': None, 'max_features': 'sqrt', 'min_samples_leaf': 2, 'min_samples_split': 2}\n",
      "2462.2248624585022 {'max_depth': None, 'max_features': 'sqrt', 'min_samples_leaf': 2, 'min_samples_split': 5}\n",
      "2355.9297511392406 {'max_depth': None, 'max_features': 'sqrt', 'min_samples_leaf': 2, 'min_samples_split': 10}\n",
      "3152.464924287627 {'max_depth': None, 'max_features': 'sqrt', 'min_samples_leaf': 5, 'min_samples_split': 2}\n",
      "2884.066206568621 {'max_depth': None, 'max_features': 'sqrt', 'min_samples_leaf': 5, 'min_samples_split': 5}\n",
      "3466.3035620978108 {'max_depth': None, 'max_features': 'sqrt', 'min_samples_leaf': 5, 'min_samples_split': 10}\n",
      "3582.5266267863726 {'max_depth': None, 'max_features': 'sqrt', 'min_samples_leaf': 10, 'min_samples_split': 2}\n",
      "3571.447801468274 {'max_depth': None, 'max_features': 'sqrt', 'min_samples_leaf': 10, 'min_samples_split': 5}\n",
      "3016.7461484716755 {'max_depth': None, 'max_features': 'sqrt', 'min_samples_leaf': 10, 'min_samples_split': 10}\n",
      "2258.167380930977 {'max_depth': None, 'max_features': 'log2', 'min_samples_leaf': 1, 'min_samples_split': 2}\n",
      "2428.537452660425 {'max_depth': None, 'max_features': 'log2', 'min_samples_leaf': 1, 'min_samples_split': 5}\n",
      "2296.1307334327885 {'max_depth': None, 'max_features': 'log2', 'min_samples_leaf': 1, 'min_samples_split': 10}\n",
      "2531.1690750280336 {'max_depth': None, 'max_features': 'log2', 'min_samples_leaf': 2, 'min_samples_split': 2}\n",
      "2520.974791784543 {'max_depth': None, 'max_features': 'log2', 'min_samples_leaf': 2, 'min_samples_split': 5}\n",
      "2922.1241835229193 {'max_depth': None, 'max_features': 'log2', 'min_samples_leaf': 2, 'min_samples_split': 10}\n",
      "2736.9994792881307 {'max_depth': None, 'max_features': 'log2', 'min_samples_leaf': 5, 'min_samples_split': 2}\n",
      "2753.7494535759893 {'max_depth': None, 'max_features': 'log2', 'min_samples_leaf': 5, 'min_samples_split': 5}\n",
      "3302.8284480726484 {'max_depth': None, 'max_features': 'log2', 'min_samples_leaf': 5, 'min_samples_split': 10}\n",
      "3121.420386821856 {'max_depth': None, 'max_features': 'log2', 'min_samples_leaf': 10, 'min_samples_split': 2}\n",
      "3387.577497068875 {'max_depth': None, 'max_features': 'log2', 'min_samples_leaf': 10, 'min_samples_split': 5}\n",
      "3134.9275196689823 {'max_depth': None, 'max_features': 'log2', 'min_samples_leaf': 10, 'min_samples_split': 10}\n",
      "2245.231530073385 {'max_depth': None, 'max_features': 2, 'min_samples_leaf': 1, 'min_samples_split': 2}\n",
      "2276.8396775095766 {'max_depth': None, 'max_features': 2, 'min_samples_leaf': 1, 'min_samples_split': 5}\n",
      "2432.7797386497305 {'max_depth': None, 'max_features': 2, 'min_samples_leaf': 1, 'min_samples_split': 10}\n",
      "2450.763352486081 {'max_depth': None, 'max_features': 2, 'min_samples_leaf': 2, 'min_samples_split': 2}\n",
      "2681.8925897826402 {'max_depth': None, 'max_features': 2, 'min_samples_leaf': 2, 'min_samples_split': 5}\n",
      "2966.72852957499 {'max_depth': None, 'max_features': 2, 'min_samples_leaf': 2, 'min_samples_split': 10}\n",
      "3302.5160778017616 {'max_depth': None, 'max_features': 2, 'min_samples_leaf': 5, 'min_samples_split': 2}\n",
      "2642.4138742213104 {'max_depth': None, 'max_features': 2, 'min_samples_leaf': 5, 'min_samples_split': 5}\n",
      "2514.776135711645 {'max_depth': None, 'max_features': 2, 'min_samples_leaf': 5, 'min_samples_split': 10}\n",
      "3725.6991476937887 {'max_depth': None, 'max_features': 2, 'min_samples_leaf': 10, 'min_samples_split': 2}\n",
      "3303.3216667970523 {'max_depth': None, 'max_features': 2, 'min_samples_leaf': 10, 'min_samples_split': 5}\n",
      "3753.9075901919095 {'max_depth': None, 'max_features': 2, 'min_samples_leaf': 10, 'min_samples_split': 10}\n",
      "2362.1580944619586 {'max_depth': None, 'max_features': 5, 'min_samples_leaf': 1, 'min_samples_split': 2}\n",
      "2262.766395949309 {'max_depth': None, 'max_features': 5, 'min_samples_leaf': 1, 'min_samples_split': 5}\n",
      "2256.014680247205 {'max_depth': None, 'max_features': 5, 'min_samples_leaf': 1, 'min_samples_split': 10}\n",
      "2424.361198134774 {'max_depth': None, 'max_features': 5, 'min_samples_leaf': 2, 'min_samples_split': 2}\n",
      "2775.336299657915 {'max_depth': None, 'max_features': 5, 'min_samples_leaf': 2, 'min_samples_split': 5}\n",
      "2324.9433402504537 {'max_depth': None, 'max_features': 5, 'min_samples_leaf': 2, 'min_samples_split': 10}\n",
      "3050.872346289096 {'max_depth': None, 'max_features': 5, 'min_samples_leaf': 5, 'min_samples_split': 2}\n",
      "2391.9584379390267 {'max_depth': None, 'max_features': 5, 'min_samples_leaf': 5, 'min_samples_split': 5}\n",
      "2830.1179498846486 {'max_depth': None, 'max_features': 5, 'min_samples_leaf': 5, 'min_samples_split': 10}\n",
      "2994.4974689180553 {'max_depth': None, 'max_features': 5, 'min_samples_leaf': 10, 'min_samples_split': 2}\n",
      "3031.1091605213105 {'max_depth': None, 'max_features': 5, 'min_samples_leaf': 10, 'min_samples_split': 5}\n",
      "2995.656273738686 {'max_depth': None, 'max_features': 5, 'min_samples_leaf': 10, 'min_samples_split': 10}\n",
      "2329.2277186738365 {'max_depth': None, 'max_features': 10, 'min_samples_leaf': 1, 'min_samples_split': 2}\n",
      "2296.5737742423835 {'max_depth': None, 'max_features': 10, 'min_samples_leaf': 1, 'min_samples_split': 5}\n",
      "2308.9618814318483 {'max_depth': None, 'max_features': 10, 'min_samples_leaf': 1, 'min_samples_split': 10}\n",
      "2314.438902812953 {'max_depth': None, 'max_features': 10, 'min_samples_leaf': 2, 'min_samples_split': 2}\n",
      "2308.0497087887616 {'max_depth': None, 'max_features': 10, 'min_samples_leaf': 2, 'min_samples_split': 5}\n",
      "2328.473375263546 {'max_depth': None, 'max_features': 10, 'min_samples_leaf': 2, 'min_samples_split': 10}\n",
      "2452.928434026076 {'max_depth': None, 'max_features': 10, 'min_samples_leaf': 5, 'min_samples_split': 2}\n",
      "2351.827392775133 {'max_depth': None, 'max_features': 10, 'min_samples_leaf': 5, 'min_samples_split': 5}\n",
      "2379.5927770772887 {'max_depth': None, 'max_features': 10, 'min_samples_leaf': 5, 'min_samples_split': 10}\n",
      "2932.4203370124555 {'max_depth': None, 'max_features': 10, 'min_samples_leaf': 10, 'min_samples_split': 2}\n",
      "2897.4335193984075 {'max_depth': None, 'max_features': 10, 'min_samples_leaf': 10, 'min_samples_split': 5}\n",
      "2904.3254329773713 {'max_depth': None, 'max_features': 10, 'min_samples_leaf': 10, 'min_samples_split': 10}\n",
      "2329.5430081106956 {'max_depth': None, 'max_features': 15, 'min_samples_leaf': 1, 'min_samples_split': 2}\n",
      "2264.0353396608166 {'max_depth': None, 'max_features': 15, 'min_samples_leaf': 1, 'min_samples_split': 5}\n",
      "2357.2184190101493 {'max_depth': None, 'max_features': 15, 'min_samples_leaf': 1, 'min_samples_split': 10}\n",
      "2320.2691618634944 {'max_depth': None, 'max_features': 15, 'min_samples_leaf': 2, 'min_samples_split': 2}\n",
      "2357.532896837844 {'max_depth': None, 'max_features': 15, 'min_samples_leaf': 2, 'min_samples_split': 5}\n",
      "2354.8950253737585 {'max_depth': None, 'max_features': 15, 'min_samples_leaf': 2, 'min_samples_split': 10}\n",
      "2371.642193283862 {'max_depth': None, 'max_features': 15, 'min_samples_leaf': 5, 'min_samples_split': 2}\n",
      "2374.711117939368 {'max_depth': None, 'max_features': 15, 'min_samples_leaf': 5, 'min_samples_split': 5}\n",
      "2364.437640789161 {'max_depth': None, 'max_features': 15, 'min_samples_leaf': 5, 'min_samples_split': 10}\n",
      "2884.4352075215634 {'max_depth': None, 'max_features': 15, 'min_samples_leaf': 10, 'min_samples_split': 2}\n",
      "2882.0277849699023 {'max_depth': None, 'max_features': 15, 'min_samples_leaf': 10, 'min_samples_split': 5}\n",
      "2891.4974890291105 {'max_depth': None, 'max_features': 15, 'min_samples_leaf': 10, 'min_samples_split': 10}\n",
      "2665.7966443369382 {'max_depth': 3, 'max_features': None, 'min_samples_leaf': 1, 'min_samples_split': 2}\n",
      "2665.7966443369382 {'max_depth': 3, 'max_features': None, 'min_samples_leaf': 1, 'min_samples_split': 5}\n",
      "2665.7966443369382 {'max_depth': 3, 'max_features': None, 'min_samples_leaf': 1, 'min_samples_split': 10}\n",
      "2665.7966443369382 {'max_depth': 3, 'max_features': None, 'min_samples_leaf': 2, 'min_samples_split': 2}\n",
      "2665.7966443369382 {'max_depth': 3, 'max_features': None, 'min_samples_leaf': 2, 'min_samples_split': 5}\n",
      "2665.7966443369382 {'max_depth': 3, 'max_features': None, 'min_samples_leaf': 2, 'min_samples_split': 10}\n",
      "2665.7966443369382 {'max_depth': 3, 'max_features': None, 'min_samples_leaf': 5, 'min_samples_split': 2}\n",
      "2665.7966443369382 {'max_depth': 3, 'max_features': None, 'min_samples_leaf': 5, 'min_samples_split': 5}\n",
      "2665.7966443369382 {'max_depth': 3, 'max_features': None, 'min_samples_leaf': 5, 'min_samples_split': 10}\n",
      "3113.2618502329397 {'max_depth': 3, 'max_features': None, 'min_samples_leaf': 10, 'min_samples_split': 2}\n",
      "3113.2618502329397 {'max_depth': 3, 'max_features': None, 'min_samples_leaf': 10, 'min_samples_split': 5}\n",
      "3113.2618502329397 {'max_depth': 3, 'max_features': None, 'min_samples_leaf': 10, 'min_samples_split': 10}\n",
      "2665.7966443369382 {'max_depth': 3, 'max_features': 'auto', 'min_samples_leaf': 1, 'min_samples_split': 2}\n",
      "2665.7966443369382 {'max_depth': 3, 'max_features': 'auto', 'min_samples_leaf': 1, 'min_samples_split': 5}\n",
      "2665.7966443369382 {'max_depth': 3, 'max_features': 'auto', 'min_samples_leaf': 1, 'min_samples_split': 10}\n",
      "2665.7966443369382 {'max_depth': 3, 'max_features': 'auto', 'min_samples_leaf': 2, 'min_samples_split': 2}\n",
      "2665.7966443369382 {'max_depth': 3, 'max_features': 'auto', 'min_samples_leaf': 2, 'min_samples_split': 5}\n",
      "2665.7966443369382 {'max_depth': 3, 'max_features': 'auto', 'min_samples_leaf': 2, 'min_samples_split': 10}\n",
      "2665.7966443369382 {'max_depth': 3, 'max_features': 'auto', 'min_samples_leaf': 5, 'min_samples_split': 2}\n",
      "2665.7966443369382 {'max_depth': 3, 'max_features': 'auto', 'min_samples_leaf': 5, 'min_samples_split': 5}\n",
      "2665.7966443369382 {'max_depth': 3, 'max_features': 'auto', 'min_samples_leaf': 5, 'min_samples_split': 10}\n",
      "3113.2618502329397 {'max_depth': 3, 'max_features': 'auto', 'min_samples_leaf': 10, 'min_samples_split': 2}\n",
      "3113.2618502329397 {'max_depth': 3, 'max_features': 'auto', 'min_samples_leaf': 10, 'min_samples_split': 5}\n",
      "3113.2618502329397 {'max_depth': 3, 'max_features': 'auto', 'min_samples_leaf': 10, 'min_samples_split': 10}\n",
      "3967.165446875301 {'max_depth': 3, 'max_features': 'sqrt', 'min_samples_leaf': 1, 'min_samples_split': 2}\n",
      "4152.677228235619 {'max_depth': 3, 'max_features': 'sqrt', 'min_samples_leaf': 1, 'min_samples_split': 5}\n",
      "3714.648107101446 {'max_depth': 3, 'max_features': 'sqrt', 'min_samples_leaf': 1, 'min_samples_split': 10}\n",
      "3978.8653482039176 {'max_depth': 3, 'max_features': 'sqrt', 'min_samples_leaf': 2, 'min_samples_split': 2}\n",
      "3822.2876947852455 {'max_depth': 3, 'max_features': 'sqrt', 'min_samples_leaf': 2, 'min_samples_split': 5}\n",
      "3997.3228339269863 {'max_depth': 3, 'max_features': 'sqrt', 'min_samples_leaf': 2, 'min_samples_split': 10}\n",
      "4072.3294270100696 {'max_depth': 3, 'max_features': 'sqrt', 'min_samples_leaf': 5, 'min_samples_split': 2}\n",
      "3882.6418860713716 {'max_depth': 3, 'max_features': 'sqrt', 'min_samples_leaf': 5, 'min_samples_split': 5}\n",
      "3812.399390933634 {'max_depth': 3, 'max_features': 'sqrt', 'min_samples_leaf': 5, 'min_samples_split': 10}\n",
      "4003.58366599356 {'max_depth': 3, 'max_features': 'sqrt', 'min_samples_leaf': 10, 'min_samples_split': 2}\n",
      "3922.895584500977 {'max_depth': 3, 'max_features': 'sqrt', 'min_samples_leaf': 10, 'min_samples_split': 5}\n",
      "4188.8947336027995 {'max_depth': 3, 'max_features': 'sqrt', 'min_samples_leaf': 10, 'min_samples_split': 10}\n",
      "3803.925313354747 {'max_depth': 3, 'max_features': 'log2', 'min_samples_leaf': 1, 'min_samples_split': 2}\n",
      "4182.855995924216 {'max_depth': 3, 'max_features': 'log2', 'min_samples_leaf': 1, 'min_samples_split': 5}\n",
      "3441.4775596149316 {'max_depth': 3, 'max_features': 'log2', 'min_samples_leaf': 1, 'min_samples_split': 10}\n",
      "4080.1562400751336 {'max_depth': 3, 'max_features': 'log2', 'min_samples_leaf': 2, 'min_samples_split': 2}\n",
      "4019.6836636986786 {'max_depth': 3, 'max_features': 'log2', 'min_samples_leaf': 2, 'min_samples_split': 5}\n",
      "4138.440300194994 {'max_depth': 3, 'max_features': 'log2', 'min_samples_leaf': 2, 'min_samples_split': 10}\n",
      "3793.854144904398 {'max_depth': 3, 'max_features': 'log2', 'min_samples_leaf': 5, 'min_samples_split': 2}\n",
      "3789.342424035967 {'max_depth': 3, 'max_features': 'log2', 'min_samples_leaf': 5, 'min_samples_split': 5}\n",
      "4192.178670203617 {'max_depth': 3, 'max_features': 'log2', 'min_samples_leaf': 5, 'min_samples_split': 10}\n",
      "3641.1154346876224 {'max_depth': 3, 'max_features': 'log2', 'min_samples_leaf': 10, 'min_samples_split': 2}\n",
      "3600.797213312279 {'max_depth': 3, 'max_features': 'log2', 'min_samples_leaf': 10, 'min_samples_split': 5}\n",
      "3584.6845610368755 {'max_depth': 3, 'max_features': 'log2', 'min_samples_leaf': 10, 'min_samples_split': 10}\n",
      "4208.972032394216 {'max_depth': 3, 'max_features': 2, 'min_samples_leaf': 1, 'min_samples_split': 2}\n",
      "4048.775562295152 {'max_depth': 3, 'max_features': 2, 'min_samples_leaf': 1, 'min_samples_split': 5}\n",
      "4005.5253411826116 {'max_depth': 3, 'max_features': 2, 'min_samples_leaf': 1, 'min_samples_split': 10}\n",
      "4255.478313735461 {'max_depth': 3, 'max_features': 2, 'min_samples_leaf': 2, 'min_samples_split': 2}\n",
      "3955.542467452466 {'max_depth': 3, 'max_features': 2, 'min_samples_leaf': 2, 'min_samples_split': 5}\n",
      "4068.530870068238 {'max_depth': 3, 'max_features': 2, 'min_samples_leaf': 2, 'min_samples_split': 10}\n",
      "3983.317673845027 {'max_depth': 3, 'max_features': 2, 'min_samples_leaf': 5, 'min_samples_split': 2}\n",
      "4184.865019741295 {'max_depth': 3, 'max_features': 2, 'min_samples_leaf': 5, 'min_samples_split': 5}\n",
      "4083.2069494306706 {'max_depth': 3, 'max_features': 2, 'min_samples_leaf': 5, 'min_samples_split': 10}\n",
      "4184.745356819008 {'max_depth': 3, 'max_features': 2, 'min_samples_leaf': 10, 'min_samples_split': 2}\n",
      "4255.060035154069 {'max_depth': 3, 'max_features': 2, 'min_samples_leaf': 10, 'min_samples_split': 5}\n",
      "4329.8406331815395 {'max_depth': 3, 'max_features': 2, 'min_samples_leaf': 10, 'min_samples_split': 10}\n",
      "3688.956938234713 {'max_depth': 3, 'max_features': 5, 'min_samples_leaf': 1, 'min_samples_split': 2}\n",
      "3917.265873466369 {'max_depth': 3, 'max_features': 5, 'min_samples_leaf': 1, 'min_samples_split': 5}\n",
      "3654.1340250380754 {'max_depth': 3, 'max_features': 5, 'min_samples_leaf': 1, 'min_samples_split': 10}\n",
      "3551.7532993528816 {'max_depth': 3, 'max_features': 5, 'min_samples_leaf': 2, 'min_samples_split': 2}\n",
      "3842.46557955635 {'max_depth': 3, 'max_features': 5, 'min_samples_leaf': 2, 'min_samples_split': 5}\n",
      "3699.701636482333 {'max_depth': 3, 'max_features': 5, 'min_samples_leaf': 2, 'min_samples_split': 10}\n",
      "3484.686914464142 {'max_depth': 3, 'max_features': 5, 'min_samples_leaf': 5, 'min_samples_split': 2}\n",
      "3450.259914853053 {'max_depth': 3, 'max_features': 5, 'min_samples_leaf': 5, 'min_samples_split': 5}\n",
      "3658.147036024122 {'max_depth': 3, 'max_features': 5, 'min_samples_leaf': 5, 'min_samples_split': 10}\n",
      "4011.626622859146 {'max_depth': 3, 'max_features': 5, 'min_samples_leaf': 10, 'min_samples_split': 2}\n",
      "3460.5729461371047 {'max_depth': 3, 'max_features': 5, 'min_samples_leaf': 10, 'min_samples_split': 5}\n",
      "3713.329925610506 {'max_depth': 3, 'max_features': 5, 'min_samples_leaf': 10, 'min_samples_split': 10}\n",
      "2818.162519821392 {'max_depth': 3, 'max_features': 10, 'min_samples_leaf': 1, 'min_samples_split': 2}\n",
      "2798.527450046301 {'max_depth': 3, 'max_features': 10, 'min_samples_leaf': 1, 'min_samples_split': 5}\n",
      "3162.341072308875 {'max_depth': 3, 'max_features': 10, 'min_samples_leaf': 1, 'min_samples_split': 10}\n",
      "2736.3724331871404 {'max_depth': 3, 'max_features': 10, 'min_samples_leaf': 2, 'min_samples_split': 2}\n",
      "3079.723608609038 {'max_depth': 3, 'max_features': 10, 'min_samples_leaf': 2, 'min_samples_split': 5}\n",
      "2951.813856097539 {'max_depth': 3, 'max_features': 10, 'min_samples_leaf': 2, 'min_samples_split': 10}\n",
      "2982.4390359448416 {'max_depth': 3, 'max_features': 10, 'min_samples_leaf': 5, 'min_samples_split': 2}\n",
      "3018.5488198698527 {'max_depth': 3, 'max_features': 10, 'min_samples_leaf': 5, 'min_samples_split': 5}\n",
      "3278.750230472731 {'max_depth': 3, 'max_features': 10, 'min_samples_leaf': 5, 'min_samples_split': 10}\n",
      "3139.945245904043 {'max_depth': 3, 'max_features': 10, 'min_samples_leaf': 10, 'min_samples_split': 2}\n",
      "3431.5921255511994 {'max_depth': 3, 'max_features': 10, 'min_samples_leaf': 10, 'min_samples_split': 5}\n",
      "3225.010311856283 {'max_depth': 3, 'max_features': 10, 'min_samples_leaf': 10, 'min_samples_split': 10}\n",
      "2665.7966443369382 {'max_depth': 3, 'max_features': 15, 'min_samples_leaf': 1, 'min_samples_split': 2}\n",
      "2665.7966443369382 {'max_depth': 3, 'max_features': 15, 'min_samples_leaf': 1, 'min_samples_split': 5}\n",
      "2665.7966443369382 {'max_depth': 3, 'max_features': 15, 'min_samples_leaf': 1, 'min_samples_split': 10}\n",
      "2665.7966443369382 {'max_depth': 3, 'max_features': 15, 'min_samples_leaf': 2, 'min_samples_split': 2}\n",
      "2665.7966443369382 {'max_depth': 3, 'max_features': 15, 'min_samples_leaf': 2, 'min_samples_split': 5}\n",
      "2665.7966443369382 {'max_depth': 3, 'max_features': 15, 'min_samples_leaf': 2, 'min_samples_split': 10}\n",
      "2665.7966443369382 {'max_depth': 3, 'max_features': 15, 'min_samples_leaf': 5, 'min_samples_split': 2}\n",
      "2665.7966443369382 {'max_depth': 3, 'max_features': 15, 'min_samples_leaf': 5, 'min_samples_split': 5}\n",
      "2665.7966443369382 {'max_depth': 3, 'max_features': 15, 'min_samples_leaf': 5, 'min_samples_split': 10}\n",
      "3113.2618502329397 {'max_depth': 3, 'max_features': 15, 'min_samples_leaf': 10, 'min_samples_split': 2}\n",
      "3113.2618502329397 {'max_depth': 3, 'max_features': 15, 'min_samples_leaf': 10, 'min_samples_split': 5}\n",
      "3113.2618502329397 {'max_depth': 3, 'max_features': 15, 'min_samples_leaf': 10, 'min_samples_split': 10}\n",
      "2333.971743551131 {'max_depth': 10, 'max_features': None, 'min_samples_leaf': 1, 'min_samples_split': 2}\n",
      "2277.4002435991165 {'max_depth': 10, 'max_features': None, 'min_samples_leaf': 1, 'min_samples_split': 5}\n",
      "2324.4721989964264 {'max_depth': 10, 'max_features': None, 'min_samples_leaf': 1, 'min_samples_split': 10}\n",
      "2329.046021430792 {'max_depth': 10, 'max_features': None, 'min_samples_leaf': 2, 'min_samples_split': 2}\n",
      "2352.97150432083 {'max_depth': 10, 'max_features': None, 'min_samples_leaf': 2, 'min_samples_split': 5}\n",
      "2330.384520788984 {'max_depth': 10, 'max_features': None, 'min_samples_leaf': 2, 'min_samples_split': 10}\n",
      "2372.3726730306785 {'max_depth': 10, 'max_features': None, 'min_samples_leaf': 5, 'min_samples_split': 2}\n",
      "2366.9402854326945 {'max_depth': 10, 'max_features': None, 'min_samples_leaf': 5, 'min_samples_split': 5}\n",
      "2379.754063410054 {'max_depth': 10, 'max_features': None, 'min_samples_leaf': 5, 'min_samples_split': 10}\n",
      "2892.011691984268 {'max_depth': 10, 'max_features': None, 'min_samples_leaf': 10, 'min_samples_split': 2}\n",
      "2885.0522519936885 {'max_depth': 10, 'max_features': None, 'min_samples_leaf': 10, 'min_samples_split': 5}\n",
      "2892.1108314485377 {'max_depth': 10, 'max_features': None, 'min_samples_leaf': 10, 'min_samples_split': 10}\n",
      "2273.8261827628676 {'max_depth': 10, 'max_features': 'auto', 'min_samples_leaf': 1, 'min_samples_split': 2}\n",
      "2275.2819497229834 {'max_depth': 10, 'max_features': 'auto', 'min_samples_leaf': 1, 'min_samples_split': 5}\n",
      "2320.6635893266216 {'max_depth': 10, 'max_features': 'auto', 'min_samples_leaf': 1, 'min_samples_split': 10}\n",
      "2351.668219772271 {'max_depth': 10, 'max_features': 'auto', 'min_samples_leaf': 2, 'min_samples_split': 2}\n",
      "2359.519981089655 {'max_depth': 10, 'max_features': 'auto', 'min_samples_leaf': 2, 'min_samples_split': 5}\n",
      "2348.4139640735084 {'max_depth': 10, 'max_features': 'auto', 'min_samples_leaf': 2, 'min_samples_split': 10}\n",
      "2371.3677715177 {'max_depth': 10, 'max_features': 'auto', 'min_samples_leaf': 5, 'min_samples_split': 2}\n",
      "2375.328287118627 {'max_depth': 10, 'max_features': 'auto', 'min_samples_leaf': 5, 'min_samples_split': 5}\n",
      "2372.423125711904 {'max_depth': 10, 'max_features': 'auto', 'min_samples_leaf': 5, 'min_samples_split': 10}\n",
      "2889.610095675104 {'max_depth': 10, 'max_features': 'auto', 'min_samples_leaf': 10, 'min_samples_split': 2}\n",
      "2884.9478941770476 {'max_depth': 10, 'max_features': 'auto', 'min_samples_leaf': 10, 'min_samples_split': 5}\n",
      "2889.5135864133545 {'max_depth': 10, 'max_features': 'auto', 'min_samples_leaf': 10, 'min_samples_split': 10}\n",
      "2394.2020462564587 {'max_depth': 10, 'max_features': 'sqrt', 'min_samples_leaf': 1, 'min_samples_split': 2}\n",
      "2345.4217798752634 {'max_depth': 10, 'max_features': 'sqrt', 'min_samples_leaf': 1, 'min_samples_split': 5}\n",
      "2598.6111411587676 {'max_depth': 10, 'max_features': 'sqrt', 'min_samples_leaf': 1, 'min_samples_split': 10}\n",
      "2381.3561092884042 {'max_depth': 10, 'max_features': 'sqrt', 'min_samples_leaf': 2, 'min_samples_split': 2}\n",
      "2511.447555084657 {'max_depth': 10, 'max_features': 'sqrt', 'min_samples_leaf': 2, 'min_samples_split': 5}\n",
      "3378.941067509633 {'max_depth': 10, 'max_features': 'sqrt', 'min_samples_leaf': 2, 'min_samples_split': 10}\n",
      "2838.1372929887193 {'max_depth': 10, 'max_features': 'sqrt', 'min_samples_leaf': 5, 'min_samples_split': 2}\n",
      "3163.129136267328 {'max_depth': 10, 'max_features': 'sqrt', 'min_samples_leaf': 5, 'min_samples_split': 5}\n",
      "2791.151293367019 {'max_depth': 10, 'max_features': 'sqrt', 'min_samples_leaf': 5, 'min_samples_split': 10}\n",
      "3377.1495613901957 {'max_depth': 10, 'max_features': 'sqrt', 'min_samples_leaf': 10, 'min_samples_split': 2}\n",
      "3093.076061037607 {'max_depth': 10, 'max_features': 'sqrt', 'min_samples_leaf': 10, 'min_samples_split': 5}\n",
      "2966.219652208279 {'max_depth': 10, 'max_features': 'sqrt', 'min_samples_leaf': 10, 'min_samples_split': 10}\n",
      "2336.940640356728 {'max_depth': 10, 'max_features': 'log2', 'min_samples_leaf': 1, 'min_samples_split': 2}\n",
      "2661.5264767240133 {'max_depth': 10, 'max_features': 'log2', 'min_samples_leaf': 1, 'min_samples_split': 5}\n",
      "2768.607126014494 {'max_depth': 10, 'max_features': 'log2', 'min_samples_leaf': 1, 'min_samples_split': 10}\n",
      "2581.936929062698 {'max_depth': 10, 'max_features': 'log2', 'min_samples_leaf': 2, 'min_samples_split': 2}\n",
      "2792.9274865719544 {'max_depth': 10, 'max_features': 'log2', 'min_samples_leaf': 2, 'min_samples_split': 5}\n",
      "2752.350844544251 {'max_depth': 10, 'max_features': 'log2', 'min_samples_leaf': 2, 'min_samples_split': 10}\n",
      "3065.893884652751 {'max_depth': 10, 'max_features': 'log2', 'min_samples_leaf': 5, 'min_samples_split': 2}\n",
      "2760.570931388728 {'max_depth': 10, 'max_features': 'log2', 'min_samples_leaf': 5, 'min_samples_split': 5}\n",
      "3065.874304668154 {'max_depth': 10, 'max_features': 'log2', 'min_samples_leaf': 5, 'min_samples_split': 10}\n",
      "3565.2419894234927 {'max_depth': 10, 'max_features': 'log2', 'min_samples_leaf': 10, 'min_samples_split': 2}\n",
      "3293.693353005134 {'max_depth': 10, 'max_features': 'log2', 'min_samples_leaf': 10, 'min_samples_split': 5}\n",
      "3251.6299464736526 {'max_depth': 10, 'max_features': 'log2', 'min_samples_leaf': 10, 'min_samples_split': 10}\n",
      "2788.397440730714 {'max_depth': 10, 'max_features': 2, 'min_samples_leaf': 1, 'min_samples_split': 2}\n",
      "2758.828024815509 {'max_depth': 10, 'max_features': 2, 'min_samples_leaf': 1, 'min_samples_split': 5}\n",
      "2465.0520665033323 {'max_depth': 10, 'max_features': 2, 'min_samples_leaf': 1, 'min_samples_split': 10}\n",
      "3296.0129326972597 {'max_depth': 10, 'max_features': 2, 'min_samples_leaf': 2, 'min_samples_split': 2}\n",
      "2508.8103634961617 {'max_depth': 10, 'max_features': 2, 'min_samples_leaf': 2, 'min_samples_split': 5}\n",
      "3057.7128457414456 {'max_depth': 10, 'max_features': 2, 'min_samples_leaf': 2, 'min_samples_split': 10}\n",
      "3289.2708325581443 {'max_depth': 10, 'max_features': 2, 'min_samples_leaf': 5, 'min_samples_split': 2}\n",
      "2755.139531999215 {'max_depth': 10, 'max_features': 2, 'min_samples_leaf': 5, 'min_samples_split': 5}\n",
      "3502.6539657416733 {'max_depth': 10, 'max_features': 2, 'min_samples_leaf': 5, 'min_samples_split': 10}\n",
      "3571.3317319067573 {'max_depth': 10, 'max_features': 2, 'min_samples_leaf': 10, 'min_samples_split': 2}\n",
      "3682.5242770906484 {'max_depth': 10, 'max_features': 2, 'min_samples_leaf': 10, 'min_samples_split': 5}\n",
      "3729.77693280758 {'max_depth': 10, 'max_features': 2, 'min_samples_leaf': 10, 'min_samples_split': 10}\n",
      "2334.2236280469933 {'max_depth': 10, 'max_features': 5, 'min_samples_leaf': 1, 'min_samples_split': 2}\n",
      "2425.377742301224 {'max_depth': 10, 'max_features': 5, 'min_samples_leaf': 1, 'min_samples_split': 5}\n",
      "2754.385042923457 {'max_depth': 10, 'max_features': 5, 'min_samples_leaf': 1, 'min_samples_split': 10}\n",
      "2435.2102711199304 {'max_depth': 10, 'max_features': 5, 'min_samples_leaf': 2, 'min_samples_split': 2}\n",
      "2349.847255078162 {'max_depth': 10, 'max_features': 5, 'min_samples_leaf': 2, 'min_samples_split': 5}\n",
      "2459.356867448366 {'max_depth': 10, 'max_features': 5, 'min_samples_leaf': 2, 'min_samples_split': 10}\n",
      "2524.247204605725 {'max_depth': 10, 'max_features': 5, 'min_samples_leaf': 5, 'min_samples_split': 2}\n",
      "3074.88823381871 {'max_depth': 10, 'max_features': 5, 'min_samples_leaf': 5, 'min_samples_split': 5}\n",
      "2887.0274090600988 {'max_depth': 10, 'max_features': 5, 'min_samples_leaf': 5, 'min_samples_split': 10}\n",
      "3354.0216532860372 {'max_depth': 10, 'max_features': 5, 'min_samples_leaf': 10, 'min_samples_split': 2}\n",
      "3159.6960887829814 {'max_depth': 10, 'max_features': 5, 'min_samples_leaf': 10, 'min_samples_split': 5}\n",
      "2941.530597694148 {'max_depth': 10, 'max_features': 5, 'min_samples_leaf': 10, 'min_samples_split': 10}\n",
      "2264.5210430762277 {'max_depth': 10, 'max_features': 10, 'min_samples_leaf': 1, 'min_samples_split': 2}\n",
      "2295.9822026912393 {'max_depth': 10, 'max_features': 10, 'min_samples_leaf': 1, 'min_samples_split': 5}\n",
      "2351.2007003337562 {'max_depth': 10, 'max_features': 10, 'min_samples_leaf': 1, 'min_samples_split': 10}\n",
      "2316.0970439124567 {'max_depth': 10, 'max_features': 10, 'min_samples_leaf': 2, 'min_samples_split': 2}\n",
      "2319.3977883083617 {'max_depth': 10, 'max_features': 10, 'min_samples_leaf': 2, 'min_samples_split': 5}\n",
      "2346.8816606718747 {'max_depth': 10, 'max_features': 10, 'min_samples_leaf': 2, 'min_samples_split': 10}\n",
      "2383.844701018397 {'max_depth': 10, 'max_features': 10, 'min_samples_leaf': 5, 'min_samples_split': 2}\n",
      "2385.9486460941207 {'max_depth': 10, 'max_features': 10, 'min_samples_leaf': 5, 'min_samples_split': 5}\n",
      "2369.062306097781 {'max_depth': 10, 'max_features': 10, 'min_samples_leaf': 5, 'min_samples_split': 10}\n",
      "2897.6711258253904 {'max_depth': 10, 'max_features': 10, 'min_samples_leaf': 10, 'min_samples_split': 2}\n",
      "2892.411460560593 {'max_depth': 10, 'max_features': 10, 'min_samples_leaf': 10, 'min_samples_split': 5}\n",
      "2901.1378442766354 {'max_depth': 10, 'max_features': 10, 'min_samples_leaf': 10, 'min_samples_split': 10}\n",
      "2313.2342518903247 {'max_depth': 10, 'max_features': 15, 'min_samples_leaf': 1, 'min_samples_split': 2}\n",
      "2272.922205999141 {'max_depth': 10, 'max_features': 15, 'min_samples_leaf': 1, 'min_samples_split': 5}\n",
      "2332.940768578758 {'max_depth': 10, 'max_features': 15, 'min_samples_leaf': 1, 'min_samples_split': 10}\n",
      "2326.188158308365 {'max_depth': 10, 'max_features': 15, 'min_samples_leaf': 2, 'min_samples_split': 2}\n",
      "2330.9791934215214 {'max_depth': 10, 'max_features': 15, 'min_samples_leaf': 2, 'min_samples_split': 5}\n",
      "2331.0243556265177 {'max_depth': 10, 'max_features': 15, 'min_samples_leaf': 2, 'min_samples_split': 10}\n",
      "2383.893482486635 {'max_depth': 10, 'max_features': 15, 'min_samples_leaf': 5, 'min_samples_split': 2}\n",
      "2375.370758629213 {'max_depth': 10, 'max_features': 15, 'min_samples_leaf': 5, 'min_samples_split': 5}\n",
      "2380.958229181903 {'max_depth': 10, 'max_features': 15, 'min_samples_leaf': 5, 'min_samples_split': 10}\n",
      "2884.956709705551 {'max_depth': 10, 'max_features': 15, 'min_samples_leaf': 10, 'min_samples_split': 2}\n",
      "2892.011691984268 {'max_depth': 10, 'max_features': 15, 'min_samples_leaf': 10, 'min_samples_split': 5}\n",
      "2885.0467860197077 {'max_depth': 10, 'max_features': 15, 'min_samples_leaf': 10, 'min_samples_split': 10}\n",
      "2383.7067849834916 {'max_depth': 30, 'max_features': None, 'min_samples_leaf': 1, 'min_samples_split': 2}\n",
      "2274.190142637634 {'max_depth': 30, 'max_features': None, 'min_samples_leaf': 1, 'min_samples_split': 5}\n",
      "2357.220124593713 {'max_depth': 30, 'max_features': None, 'min_samples_leaf': 1, 'min_samples_split': 10}\n",
      "2319.807644955132 {'max_depth': 30, 'max_features': None, 'min_samples_leaf': 2, 'min_samples_split': 2}\n",
      "2346.65505188662 {'max_depth': 30, 'max_features': None, 'min_samples_leaf': 2, 'min_samples_split': 5}\n",
      "2329.6808813472007 {'max_depth': 30, 'max_features': None, 'min_samples_leaf': 2, 'min_samples_split': 10}\n",
      "2370.530490705103 {'max_depth': 30, 'max_features': None, 'min_samples_leaf': 5, 'min_samples_split': 2}\n",
      "2371.5638128910045 {'max_depth': 30, 'max_features': None, 'min_samples_leaf': 5, 'min_samples_split': 5}\n",
      "2364.334755267104 {'max_depth': 30, 'max_features': None, 'min_samples_leaf': 5, 'min_samples_split': 10}\n",
      "2891.5993856744713 {'max_depth': 30, 'max_features': None, 'min_samples_leaf': 10, 'min_samples_split': 2}\n",
      "2881.9250334195117 {'max_depth': 30, 'max_features': None, 'min_samples_leaf': 10, 'min_samples_split': 5}\n",
      "2889.087721931191 {'max_depth': 30, 'max_features': None, 'min_samples_leaf': 10, 'min_samples_split': 10}\n",
      "2372.667503700999 {'max_depth': 30, 'max_features': 'auto', 'min_samples_leaf': 1, 'min_samples_split': 2}\n",
      "2289.606921703935 {'max_depth': 30, 'max_features': 'auto', 'min_samples_leaf': 1, 'min_samples_split': 5}\n",
      "2332.149131567433 {'max_depth': 30, 'max_features': 'auto', 'min_samples_leaf': 1, 'min_samples_split': 10}\n",
      "2359.815009867008 {'max_depth': 30, 'max_features': 'auto', 'min_samples_leaf': 2, 'min_samples_split': 2}\n",
      "2323.5647648011404 {'max_depth': 30, 'max_features': 'auto', 'min_samples_leaf': 2, 'min_samples_split': 5}\n",
      "2324.3743054776305 {'max_depth': 30, 'max_features': 'auto', 'min_samples_leaf': 2, 'min_samples_split': 10}\n",
      "2366.0800207232287 {'max_depth': 30, 'max_features': 'auto', 'min_samples_leaf': 5, 'min_samples_split': 2}\n",
      "2381.868677427098 {'max_depth': 30, 'max_features': 'auto', 'min_samples_leaf': 5, 'min_samples_split': 5}\n",
      "2364.3425006736743 {'max_depth': 30, 'max_features': 'auto', 'min_samples_leaf': 5, 'min_samples_split': 10}\n",
      "2891.5993856744713 {'max_depth': 30, 'max_features': 'auto', 'min_samples_leaf': 10, 'min_samples_split': 2}\n",
      "2891.5040597194748 {'max_depth': 30, 'max_features': 'auto', 'min_samples_leaf': 10, 'min_samples_split': 5}\n",
      "2882.021738357548 {'max_depth': 30, 'max_features': 'auto', 'min_samples_leaf': 10, 'min_samples_split': 10}\n",
      "2344.607665437835 {'max_depth': 30, 'max_features': 'sqrt', 'min_samples_leaf': 1, 'min_samples_split': 2}\n",
      "2473.185097410404 {'max_depth': 30, 'max_features': 'sqrt', 'min_samples_leaf': 1, 'min_samples_split': 5}\n",
      "2451.364131678196 {'max_depth': 30, 'max_features': 'sqrt', 'min_samples_leaf': 1, 'min_samples_split': 10}\n",
      "2358.6453045640233 {'max_depth': 30, 'max_features': 'sqrt', 'min_samples_leaf': 2, 'min_samples_split': 2}\n",
      "2461.857001639479 {'max_depth': 30, 'max_features': 'sqrt', 'min_samples_leaf': 2, 'min_samples_split': 5}\n",
      "2909.7014419727566 {'max_depth': 30, 'max_features': 'sqrt', 'min_samples_leaf': 2, 'min_samples_split': 10}\n",
      "3046.156803283927 {'max_depth': 30, 'max_features': 'sqrt', 'min_samples_leaf': 5, 'min_samples_split': 2}\n",
      "2766.8188944893755 {'max_depth': 30, 'max_features': 'sqrt', 'min_samples_leaf': 5, 'min_samples_split': 5}\n",
      "2574.255763129125 {'max_depth': 30, 'max_features': 'sqrt', 'min_samples_leaf': 5, 'min_samples_split': 10}\n",
      "3726.523051639172 {'max_depth': 30, 'max_features': 'sqrt', 'min_samples_leaf': 10, 'min_samples_split': 2}\n",
      "3222.2363894766777 {'max_depth': 30, 'max_features': 'sqrt', 'min_samples_leaf': 10, 'min_samples_split': 5}\n",
      "3254.009336139175 {'max_depth': 30, 'max_features': 'sqrt', 'min_samples_leaf': 10, 'min_samples_split': 10}\n",
      "2430.1436977920685 {'max_depth': 30, 'max_features': 'log2', 'min_samples_leaf': 1, 'min_samples_split': 2}\n",
      "2393.299440830237 {'max_depth': 30, 'max_features': 'log2', 'min_samples_leaf': 1, 'min_samples_split': 5}\n",
      "2355.159988999346 {'max_depth': 30, 'max_features': 'log2', 'min_samples_leaf': 1, 'min_samples_split': 10}\n",
      "2676.7790523547756 {'max_depth': 30, 'max_features': 'log2', 'min_samples_leaf': 2, 'min_samples_split': 2}\n",
      "2386.8053116330166 {'max_depth': 30, 'max_features': 'log2', 'min_samples_leaf': 2, 'min_samples_split': 5}\n",
      "2465.8115135667394 {'max_depth': 30, 'max_features': 'log2', 'min_samples_leaf': 2, 'min_samples_split': 10}\n",
      "2976.7180220715913 {'max_depth': 30, 'max_features': 'log2', 'min_samples_leaf': 5, 'min_samples_split': 2}\n",
      "2912.741254319017 {'max_depth': 30, 'max_features': 'log2', 'min_samples_leaf': 5, 'min_samples_split': 5}\n",
      "2495.7238750096135 {'max_depth': 30, 'max_features': 'log2', 'min_samples_leaf': 5, 'min_samples_split': 10}\n",
      "3430.16548140451 {'max_depth': 30, 'max_features': 'log2', 'min_samples_leaf': 10, 'min_samples_split': 2}\n",
      "3259.1786559038737 {'max_depth': 30, 'max_features': 'log2', 'min_samples_leaf': 10, 'min_samples_split': 5}\n",
      "3556.710156306947 {'max_depth': 30, 'max_features': 'log2', 'min_samples_leaf': 10, 'min_samples_split': 10}\n",
      "2313.376377908068 {'max_depth': 30, 'max_features': 2, 'min_samples_leaf': 1, 'min_samples_split': 2}\n",
      "2338.4816319807683 {'max_depth': 30, 'max_features': 2, 'min_samples_leaf': 1, 'min_samples_split': 5}\n",
      "2311.1494138242047 {'max_depth': 30, 'max_features': 2, 'min_samples_leaf': 1, 'min_samples_split': 10}\n",
      "2342.3451336577564 {'max_depth': 30, 'max_features': 2, 'min_samples_leaf': 2, 'min_samples_split': 2}\n",
      "2659.127719861243 {'max_depth': 30, 'max_features': 2, 'min_samples_leaf': 2, 'min_samples_split': 5}\n",
      "2681.0749441582616 {'max_depth': 30, 'max_features': 2, 'min_samples_leaf': 2, 'min_samples_split': 10}\n",
      "2787.77068239994 {'max_depth': 30, 'max_features': 2, 'min_samples_leaf': 5, 'min_samples_split': 2}\n",
      "2781.645732570214 {'max_depth': 30, 'max_features': 2, 'min_samples_leaf': 5, 'min_samples_split': 5}\n",
      "2706.9333268552627 {'max_depth': 30, 'max_features': 2, 'min_samples_leaf': 5, 'min_samples_split': 10}\n",
      "3735.654342520581 {'max_depth': 30, 'max_features': 2, 'min_samples_leaf': 10, 'min_samples_split': 2}\n",
      "3272.8677209815532 {'max_depth': 30, 'max_features': 2, 'min_samples_leaf': 10, 'min_samples_split': 5}\n",
      "3205.891395155349 {'max_depth': 30, 'max_features': 2, 'min_samples_leaf': 10, 'min_samples_split': 10}\n",
      "2329.071187157985 {'max_depth': 30, 'max_features': 5, 'min_samples_leaf': 1, 'min_samples_split': 2}\n",
      "2292.0670839783766 {'max_depth': 30, 'max_features': 5, 'min_samples_leaf': 1, 'min_samples_split': 5}\n",
      "2380.9866077107154 {'max_depth': 30, 'max_features': 5, 'min_samples_leaf': 1, 'min_samples_split': 10}\n",
      "2350.4622769583057 {'max_depth': 30, 'max_features': 5, 'min_samples_leaf': 2, 'min_samples_split': 2}\n",
      "2293.136074532181 {'max_depth': 30, 'max_features': 5, 'min_samples_leaf': 2, 'min_samples_split': 5}\n",
      "2383.496594137743 {'max_depth': 30, 'max_features': 5, 'min_samples_leaf': 2, 'min_samples_split': 10}\n",
      "2541.0123317424145 {'max_depth': 30, 'max_features': 5, 'min_samples_leaf': 5, 'min_samples_split': 2}\n",
      "2983.2396408553664 {'max_depth': 30, 'max_features': 5, 'min_samples_leaf': 5, 'min_samples_split': 5}\n",
      "2916.294864995906 {'max_depth': 30, 'max_features': 5, 'min_samples_leaf': 5, 'min_samples_split': 10}\n",
      "2993.999287722602 {'max_depth': 30, 'max_features': 5, 'min_samples_leaf': 10, 'min_samples_split': 2}\n",
      "3312.237395392976 {'max_depth': 30, 'max_features': 5, 'min_samples_leaf': 10, 'min_samples_split': 5}\n",
      "3063.4891022238326 {'max_depth': 30, 'max_features': 5, 'min_samples_leaf': 10, 'min_samples_split': 10}\n",
      "2305.9223429438557 {'max_depth': 30, 'max_features': 10, 'min_samples_leaf': 1, 'min_samples_split': 2}\n",
      "2289.314449655468 {'max_depth': 30, 'max_features': 10, 'min_samples_leaf': 1, 'min_samples_split': 5}\n",
      "2314.987323503151 {'max_depth': 30, 'max_features': 10, 'min_samples_leaf': 1, 'min_samples_split': 10}\n",
      "2330.8321238980016 {'max_depth': 30, 'max_features': 10, 'min_samples_leaf': 2, 'min_samples_split': 2}\n",
      "2296.222692137772 {'max_depth': 30, 'max_features': 10, 'min_samples_leaf': 2, 'min_samples_split': 5}\n",
      "2283.2506164004244 {'max_depth': 30, 'max_features': 10, 'min_samples_leaf': 2, 'min_samples_split': 10}\n",
      "2411.612458126586 {'max_depth': 30, 'max_features': 10, 'min_samples_leaf': 5, 'min_samples_split': 2}\n",
      "2321.5437176505848 {'max_depth': 30, 'max_features': 10, 'min_samples_leaf': 5, 'min_samples_split': 5}\n",
      "2366.253591758085 {'max_depth': 30, 'max_features': 10, 'min_samples_leaf': 5, 'min_samples_split': 10}\n",
      "2885.6718224616793 {'max_depth': 30, 'max_features': 10, 'min_samples_leaf': 10, 'min_samples_split': 2}\n",
      "2912.130182726338 {'max_depth': 30, 'max_features': 10, 'min_samples_leaf': 10, 'min_samples_split': 5}\n",
      "2904.8387442331828 {'max_depth': 30, 'max_features': 10, 'min_samples_leaf': 10, 'min_samples_split': 10}\n",
      "2331.395553219419 {'max_depth': 30, 'max_features': 15, 'min_samples_leaf': 1, 'min_samples_split': 2}\n",
      "2307.3066472789624 {'max_depth': 30, 'max_features': 15, 'min_samples_leaf': 1, 'min_samples_split': 5}\n",
      "2355.797389756704 {'max_depth': 30, 'max_features': 15, 'min_samples_leaf': 1, 'min_samples_split': 10}\n",
      "2348.524651235313 {'max_depth': 30, 'max_features': 15, 'min_samples_leaf': 2, 'min_samples_split': 2}\n",
      "2318.399463211098 {'max_depth': 30, 'max_features': 15, 'min_samples_leaf': 2, 'min_samples_split': 5}\n",
      "2328.50637811819 {'max_depth': 30, 'max_features': 15, 'min_samples_leaf': 2, 'min_samples_split': 10}\n",
      "2371.6675451486904 {'max_depth': 30, 'max_features': 15, 'min_samples_leaf': 5, 'min_samples_split': 2}\n",
      "2383.2930341217266 {'max_depth': 30, 'max_features': 15, 'min_samples_leaf': 5, 'min_samples_split': 5}\n",
      "2381.996776874477 {'max_depth': 30, 'max_features': 15, 'min_samples_leaf': 5, 'min_samples_split': 10}\n",
      "2882.0277849699023 {'max_depth': 30, 'max_features': 15, 'min_samples_leaf': 10, 'min_samples_split': 2}\n",
      "2891.591134274342 {'max_depth': 30, 'max_features': 15, 'min_samples_leaf': 10, 'min_samples_split': 5}\n",
      "2881.9293936730405 {'max_depth': 30, 'max_features': 15, 'min_samples_leaf': 10, 'min_samples_split': 10}\n",
      "2300.033722980221 {'max_depth': 40, 'max_features': None, 'min_samples_leaf': 1, 'min_samples_split': 2}\n",
      "2296.538898299045 {'max_depth': 40, 'max_features': None, 'min_samples_leaf': 1, 'min_samples_split': 5}\n",
      "2354.721282454045 {'max_depth': 40, 'max_features': None, 'min_samples_leaf': 1, 'min_samples_split': 10}\n",
      "2324.3049704739196 {'max_depth': 40, 'max_features': None, 'min_samples_leaf': 2, 'min_samples_split': 2}\n",
      "2354.5132050385755 {'max_depth': 40, 'max_features': None, 'min_samples_leaf': 2, 'min_samples_split': 5}\n",
      "2329.1730768077114 {'max_depth': 40, 'max_features': None, 'min_samples_leaf': 2, 'min_samples_split': 10}\n",
      "2363.1214728343575 {'max_depth': 40, 'max_features': None, 'min_samples_leaf': 5, 'min_samples_split': 2}\n",
      "2372.969145673537 {'max_depth': 40, 'max_features': None, 'min_samples_leaf': 5, 'min_samples_split': 5}\n",
      "2366.0825580510823 {'max_depth': 40, 'max_features': None, 'min_samples_leaf': 5, 'min_samples_split': 10}\n",
      "2889.0937246071244 {'max_depth': 40, 'max_features': None, 'min_samples_leaf': 10, 'min_samples_split': 2}\n",
      "2891.4958080473157 {'max_depth': 40, 'max_features': None, 'min_samples_leaf': 10, 'min_samples_split': 5}\n",
      "2884.537869655802 {'max_depth': 40, 'max_features': None, 'min_samples_leaf': 10, 'min_samples_split': 10}\n",
      "2260.95988910769 {'max_depth': 40, 'max_features': 'auto', 'min_samples_leaf': 1, 'min_samples_split': 2}\n",
      "2278.064421200494 {'max_depth': 40, 'max_features': 'auto', 'min_samples_leaf': 1, 'min_samples_split': 5}\n",
      "2353.6609316948216 {'max_depth': 40, 'max_features': 'auto', 'min_samples_leaf': 1, 'min_samples_split': 10}\n",
      "2329.8520531753397 {'max_depth': 40, 'max_features': 'auto', 'min_samples_leaf': 2, 'min_samples_split': 2}\n",
      "2332.7671899773113 {'max_depth': 40, 'max_features': 'auto', 'min_samples_leaf': 2, 'min_samples_split': 5}\n",
      "2328.860625762941 {'max_depth': 40, 'max_features': 'auto', 'min_samples_leaf': 2, 'min_samples_split': 10}\n",
      "2374.680725551379 {'max_depth': 40, 'max_features': 'auto', 'min_samples_leaf': 5, 'min_samples_split': 2}\n",
      "2380.2581389716006 {'max_depth': 40, 'max_features': 'auto', 'min_samples_leaf': 5, 'min_samples_split': 5}\n",
      "2374.7865478736103 {'max_depth': 40, 'max_features': 'auto', 'min_samples_leaf': 5, 'min_samples_split': 10}\n",
      "2881.9288479726847 {'max_depth': 40, 'max_features': 'auto', 'min_samples_leaf': 10, 'min_samples_split': 2}\n",
      "2889.0876927831746 {'max_depth': 40, 'max_features': 'auto', 'min_samples_leaf': 10, 'min_samples_split': 5}\n",
      "2884.441249074597 {'max_depth': 40, 'max_features': 'auto', 'min_samples_leaf': 10, 'min_samples_split': 10}\n",
      "2497.347457443506 {'max_depth': 40, 'max_features': 'sqrt', 'min_samples_leaf': 1, 'min_samples_split': 2}\n",
      "2330.826322824793 {'max_depth': 40, 'max_features': 'sqrt', 'min_samples_leaf': 1, 'min_samples_split': 5}\n",
      "2663.7919833951237 {'max_depth': 40, 'max_features': 'sqrt', 'min_samples_leaf': 1, 'min_samples_split': 10}\n",
      "2398.4644655875827 {'max_depth': 40, 'max_features': 'sqrt', 'min_samples_leaf': 2, 'min_samples_split': 2}\n",
      "2331.261498497199 {'max_depth': 40, 'max_features': 'sqrt', 'min_samples_leaf': 2, 'min_samples_split': 5}\n",
      "2806.3742036650588 {'max_depth': 40, 'max_features': 'sqrt', 'min_samples_leaf': 2, 'min_samples_split': 10}\n",
      "2758.707124868996 {'max_depth': 40, 'max_features': 'sqrt', 'min_samples_leaf': 5, 'min_samples_split': 2}\n",
      "2835.054767866961 {'max_depth': 40, 'max_features': 'sqrt', 'min_samples_leaf': 5, 'min_samples_split': 5}\n",
      "2593.42743617016 {'max_depth': 40, 'max_features': 'sqrt', 'min_samples_leaf': 5, 'min_samples_split': 10}\n",
      "3268.623868300265 {'max_depth': 40, 'max_features': 'sqrt', 'min_samples_leaf': 10, 'min_samples_split': 2}\n",
      "3114.759358758872 {'max_depth': 40, 'max_features': 'sqrt', 'min_samples_leaf': 10, 'min_samples_split': 5}\n",
      "3349.5339097447777 {'max_depth': 40, 'max_features': 'sqrt', 'min_samples_leaf': 10, 'min_samples_split': 10}\n",
      "2491.38525272321 {'max_depth': 40, 'max_features': 'log2', 'min_samples_leaf': 1, 'min_samples_split': 2}\n",
      "2355.074191577938 {'max_depth': 40, 'max_features': 'log2', 'min_samples_leaf': 1, 'min_samples_split': 5}\n",
      "2430.822264447233 {'max_depth': 40, 'max_features': 'log2', 'min_samples_leaf': 1, 'min_samples_split': 10}\n",
      "2519.347591876481 {'max_depth': 40, 'max_features': 'log2', 'min_samples_leaf': 2, 'min_samples_split': 2}\n",
      "2431.7606428580593 {'max_depth': 40, 'max_features': 'log2', 'min_samples_leaf': 2, 'min_samples_split': 5}\n",
      "2514.6737728322455 {'max_depth': 40, 'max_features': 'log2', 'min_samples_leaf': 2, 'min_samples_split': 10}\n",
      "2825.176636840756 {'max_depth': 40, 'max_features': 'log2', 'min_samples_leaf': 5, 'min_samples_split': 2}\n",
      "2812.9978847213224 {'max_depth': 40, 'max_features': 'log2', 'min_samples_leaf': 5, 'min_samples_split': 5}\n",
      "2997.2715342188117 {'max_depth': 40, 'max_features': 'log2', 'min_samples_leaf': 5, 'min_samples_split': 10}\n",
      "3266.9696277848802 {'max_depth': 40, 'max_features': 'log2', 'min_samples_leaf': 10, 'min_samples_split': 2}\n",
      "3468.2159700315196 {'max_depth': 40, 'max_features': 'log2', 'min_samples_leaf': 10, 'min_samples_split': 5}\n",
      "3240.844407428316 {'max_depth': 40, 'max_features': 'log2', 'min_samples_leaf': 10, 'min_samples_split': 10}\n",
      "2343.5870769124476 {'max_depth': 40, 'max_features': 2, 'min_samples_leaf': 1, 'min_samples_split': 2}\n",
      "2296.5150285968016 {'max_depth': 40, 'max_features': 2, 'min_samples_leaf': 1, 'min_samples_split': 5}\n",
      "2355.3121237449027 {'max_depth': 40, 'max_features': 2, 'min_samples_leaf': 1, 'min_samples_split': 10}\n",
      "3199.9124100655454 {'max_depth': 40, 'max_features': 2, 'min_samples_leaf': 2, 'min_samples_split': 2}\n",
      "2457.3408726721254 {'max_depth': 40, 'max_features': 2, 'min_samples_leaf': 2, 'min_samples_split': 5}\n",
      "2612.432971743964 {'max_depth': 40, 'max_features': 2, 'min_samples_leaf': 2, 'min_samples_split': 10}\n",
      "3185.6575971756815 {'max_depth': 40, 'max_features': 2, 'min_samples_leaf': 5, 'min_samples_split': 2}\n",
      "3326.8985856785794 {'max_depth': 40, 'max_features': 2, 'min_samples_leaf': 5, 'min_samples_split': 5}\n",
      "3537.5092825909105 {'max_depth': 40, 'max_features': 2, 'min_samples_leaf': 5, 'min_samples_split': 10}\n",
      "3296.6516276760585 {'max_depth': 40, 'max_features': 2, 'min_samples_leaf': 10, 'min_samples_split': 2}\n",
      "3495.1910858420397 {'max_depth': 40, 'max_features': 2, 'min_samples_leaf': 10, 'min_samples_split': 5}\n",
      "3689.861242437562 {'max_depth': 40, 'max_features': 2, 'min_samples_leaf': 10, 'min_samples_split': 10}\n",
      "2387.410786650335 {'max_depth': 40, 'max_features': 5, 'min_samples_leaf': 1, 'min_samples_split': 2}\n",
      "2261.1657779201464 {'max_depth': 40, 'max_features': 5, 'min_samples_leaf': 1, 'min_samples_split': 5}\n",
      "2291.832804352319 {'max_depth': 40, 'max_features': 5, 'min_samples_leaf': 1, 'min_samples_split': 10}\n",
      "2410.030465542595 {'max_depth': 40, 'max_features': 5, 'min_samples_leaf': 2, 'min_samples_split': 2}\n",
      "2355.7559399487877 {'max_depth': 40, 'max_features': 5, 'min_samples_leaf': 2, 'min_samples_split': 5}\n",
      "2934.268352070738 {'max_depth': 40, 'max_features': 5, 'min_samples_leaf': 2, 'min_samples_split': 10}\n",
      "2503.3887346611423 {'max_depth': 40, 'max_features': 5, 'min_samples_leaf': 5, 'min_samples_split': 2}\n",
      "2422.9262184869685 {'max_depth': 40, 'max_features': 5, 'min_samples_leaf': 5, 'min_samples_split': 5}\n",
      "2741.6295165056913 {'max_depth': 40, 'max_features': 5, 'min_samples_leaf': 5, 'min_samples_split': 10}\n",
      "2940.177248357156 {'max_depth': 40, 'max_features': 5, 'min_samples_leaf': 10, 'min_samples_split': 2}\n",
      "3076.407520264971 {'max_depth': 40, 'max_features': 5, 'min_samples_leaf': 10, 'min_samples_split': 5}\n",
      "2965.9863263452953 {'max_depth': 40, 'max_features': 5, 'min_samples_leaf': 10, 'min_samples_split': 10}\n",
      "2342.923731511455 {'max_depth': 40, 'max_features': 10, 'min_samples_leaf': 1, 'min_samples_split': 2}\n",
      "2317.8054482039047 {'max_depth': 40, 'max_features': 10, 'min_samples_leaf': 1, 'min_samples_split': 5}\n",
      "2300.138657159609 {'max_depth': 40, 'max_features': 10, 'min_samples_leaf': 1, 'min_samples_split': 10}\n",
      "2350.1114537652693 {'max_depth': 40, 'max_features': 10, 'min_samples_leaf': 2, 'min_samples_split': 2}\n",
      "2310.12890866374 {'max_depth': 40, 'max_features': 10, 'min_samples_leaf': 2, 'min_samples_split': 5}\n",
      "2364.509641918094 {'max_depth': 40, 'max_features': 10, 'min_samples_leaf': 2, 'min_samples_split': 10}\n",
      "2424.0214687347493 {'max_depth': 40, 'max_features': 10, 'min_samples_leaf': 5, 'min_samples_split': 2}\n",
      "2359.836053600148 {'max_depth': 40, 'max_features': 10, 'min_samples_leaf': 5, 'min_samples_split': 5}\n",
      "2348.0138552526605 {'max_depth': 40, 'max_features': 10, 'min_samples_leaf': 5, 'min_samples_split': 10}\n",
      "2895.811329818343 {'max_depth': 40, 'max_features': 10, 'min_samples_leaf': 10, 'min_samples_split': 2}\n",
      "2903.7889911527477 {'max_depth': 40, 'max_features': 10, 'min_samples_leaf': 10, 'min_samples_split': 5}\n",
      "2891.659109254747 {'max_depth': 40, 'max_features': 10, 'min_samples_leaf': 10, 'min_samples_split': 10}\n",
      "2270.404927365324 {'max_depth': 40, 'max_features': 15, 'min_samples_leaf': 1, 'min_samples_split': 2}\n",
      "2363.9274506324823 {'max_depth': 40, 'max_features': 15, 'min_samples_leaf': 1, 'min_samples_split': 5}\n",
      "2355.6568872407765 {'max_depth': 40, 'max_features': 15, 'min_samples_leaf': 1, 'min_samples_split': 10}\n",
      "2328.9624260894666 {'max_depth': 40, 'max_features': 15, 'min_samples_leaf': 2, 'min_samples_split': 2}\n",
      "2329.10182130197 {'max_depth': 40, 'max_features': 15, 'min_samples_leaf': 2, 'min_samples_split': 5}\n",
      "2343.8367539765195 {'max_depth': 40, 'max_features': 15, 'min_samples_leaf': 2, 'min_samples_split': 10}\n",
      "2371.6968487285867 {'max_depth': 40, 'max_features': 15, 'min_samples_leaf': 5, 'min_samples_split': 2}\n",
      "2372.9721740518644 {'max_depth': 40, 'max_features': 15, 'min_samples_leaf': 5, 'min_samples_split': 5}\n",
      "2374.598538750533 {'max_depth': 40, 'max_features': 15, 'min_samples_leaf': 5, 'min_samples_split': 10}\n",
      "2884.43898956014 {'max_depth': 40, 'max_features': 15, 'min_samples_leaf': 10, 'min_samples_split': 2}\n",
      "2891.5971317534327 {'max_depth': 40, 'max_features': 15, 'min_samples_leaf': 10, 'min_samples_split': 5}\n",
      "2888.99176873443 {'max_depth': 40, 'max_features': 15, 'min_samples_leaf': 10, 'min_samples_split': 10}\n",
      "2260.219867992468 {'max_depth': 50, 'max_features': None, 'min_samples_leaf': 1, 'min_samples_split': 2}\n",
      "2260.505540603812 {'max_depth': 50, 'max_features': None, 'min_samples_leaf': 1, 'min_samples_split': 5}\n",
      "2351.6730978143905 {'max_depth': 50, 'max_features': None, 'min_samples_leaf': 1, 'min_samples_split': 10}\n",
      "2357.9162248395796 {'max_depth': 50, 'max_features': None, 'min_samples_leaf': 2, 'min_samples_split': 2}\n",
      "2331.298082972303 {'max_depth': 50, 'max_features': None, 'min_samples_leaf': 2, 'min_samples_split': 5}\n",
      "2359.3614480732754 {'max_depth': 50, 'max_features': None, 'min_samples_leaf': 2, 'min_samples_split': 10}\n",
      "2363.1627861602833 {'max_depth': 50, 'max_features': None, 'min_samples_leaf': 5, 'min_samples_split': 2}\n",
      "2372.9721514450903 {'max_depth': 50, 'max_features': None, 'min_samples_leaf': 5, 'min_samples_split': 5}\n",
      "2371.652456235278 {'max_depth': 50, 'max_features': None, 'min_samples_leaf': 5, 'min_samples_split': 10}\n",
      "2889.089404314102 {'max_depth': 50, 'max_features': None, 'min_samples_leaf': 10, 'min_samples_split': 2}\n",
      "2889.0954361344784 {'max_depth': 50, 'max_features': None, 'min_samples_leaf': 10, 'min_samples_split': 5}\n",
      "2891.4958080473157 {'max_depth': 50, 'max_features': None, 'min_samples_leaf': 10, 'min_samples_split': 10}\n",
      "2332.41509227205 {'max_depth': 50, 'max_features': 'auto', 'min_samples_leaf': 1, 'min_samples_split': 2}\n",
      "2305.222194315554 {'max_depth': 50, 'max_features': 'auto', 'min_samples_leaf': 1, 'min_samples_split': 5}\n",
      "2322.3466559535004 {'max_depth': 50, 'max_features': 'auto', 'min_samples_leaf': 1, 'min_samples_split': 10}\n",
      "2329.317247770626 {'max_depth': 50, 'max_features': 'auto', 'min_samples_leaf': 2, 'min_samples_split': 2}\n",
      "2325.9030004268216 {'max_depth': 50, 'max_features': 'auto', 'min_samples_leaf': 2, 'min_samples_split': 5}\n",
      "2318.472883331141 {'max_depth': 50, 'max_features': 'auto', 'min_samples_leaf': 2, 'min_samples_split': 10}\n",
      "2371.764162949135 {'max_depth': 50, 'max_features': 'auto', 'min_samples_leaf': 5, 'min_samples_split': 2}\n",
      "2371.7615868517914 {'max_depth': 50, 'max_features': 'auto', 'min_samples_leaf': 5, 'min_samples_split': 5}\n",
      "2372.883726304414 {'max_depth': 50, 'max_features': 'auto', 'min_samples_leaf': 5, 'min_samples_split': 10}\n",
      "2891.501834847811 {'max_depth': 50, 'max_features': 'auto', 'min_samples_leaf': 10, 'min_samples_split': 2}\n",
      "2891.495235028644 {'max_depth': 50, 'max_features': 'auto', 'min_samples_leaf': 10, 'min_samples_split': 5}\n",
      "2882.025036320024 {'max_depth': 50, 'max_features': 'auto', 'min_samples_leaf': 10, 'min_samples_split': 10}\n",
      "2258.8299949083394 {'max_depth': 50, 'max_features': 'sqrt', 'min_samples_leaf': 1, 'min_samples_split': 2}\n",
      "2363.3662601300366 {'max_depth': 50, 'max_features': 'sqrt', 'min_samples_leaf': 1, 'min_samples_split': 5}\n",
      "2299.0132652961565 {'max_depth': 50, 'max_features': 'sqrt', 'min_samples_leaf': 1, 'min_samples_split': 10}\n",
      "2433.6986974058727 {'max_depth': 50, 'max_features': 'sqrt', 'min_samples_leaf': 2, 'min_samples_split': 2}\n",
      "2482.1831064561825 {'max_depth': 50, 'max_features': 'sqrt', 'min_samples_leaf': 2, 'min_samples_split': 5}\n",
      "2317.4225893137723 {'max_depth': 50, 'max_features': 'sqrt', 'min_samples_leaf': 2, 'min_samples_split': 10}\n",
      "2736.151084621855 {'max_depth': 50, 'max_features': 'sqrt', 'min_samples_leaf': 5, 'min_samples_split': 2}\n",
      "3168.3074896087624 {'max_depth': 50, 'max_features': 'sqrt', 'min_samples_leaf': 5, 'min_samples_split': 5}\n",
      "2550.181057562762 {'max_depth': 50, 'max_features': 'sqrt', 'min_samples_leaf': 5, 'min_samples_split': 10}\n",
      "3109.2464507450663 {'max_depth': 50, 'max_features': 'sqrt', 'min_samples_leaf': 10, 'min_samples_split': 2}\n",
      "3434.9239338050843 {'max_depth': 50, 'max_features': 'sqrt', 'min_samples_leaf': 10, 'min_samples_split': 5}\n",
      "3498.1663410418355 {'max_depth': 50, 'max_features': 'sqrt', 'min_samples_leaf': 10, 'min_samples_split': 10}\n",
      "2339.9537378769182 {'max_depth': 50, 'max_features': 'log2', 'min_samples_leaf': 1, 'min_samples_split': 2}\n",
      "2266.0509683648534 {'max_depth': 50, 'max_features': 'log2', 'min_samples_leaf': 1, 'min_samples_split': 5}\n",
      "2793.6507702582185 {'max_depth': 50, 'max_features': 'log2', 'min_samples_leaf': 1, 'min_samples_split': 10}\n",
      "2374.58968504001 {'max_depth': 50, 'max_features': 'log2', 'min_samples_leaf': 2, 'min_samples_split': 2}\n",
      "2783.9133291515504 {'max_depth': 50, 'max_features': 'log2', 'min_samples_leaf': 2, 'min_samples_split': 5}\n",
      "2898.3053380305987 {'max_depth': 50, 'max_features': 'log2', 'min_samples_leaf': 2, 'min_samples_split': 10}\n",
      "3002.6739789446183 {'max_depth': 50, 'max_features': 'log2', 'min_samples_leaf': 5, 'min_samples_split': 2}\n",
      "2673.1367559748714 {'max_depth': 50, 'max_features': 'log2', 'min_samples_leaf': 5, 'min_samples_split': 5}\n",
      "2930.087655775489 {'max_depth': 50, 'max_features': 'log2', 'min_samples_leaf': 5, 'min_samples_split': 10}\n",
      "2972.529578987459 {'max_depth': 50, 'max_features': 'log2', 'min_samples_leaf': 10, 'min_samples_split': 2}\n",
      "3634.21390691703 {'max_depth': 50, 'max_features': 'log2', 'min_samples_leaf': 10, 'min_samples_split': 5}\n",
      "3496.993155437617 {'max_depth': 50, 'max_features': 'log2', 'min_samples_leaf': 10, 'min_samples_split': 10}\n",
      "2356.031344589126 {'max_depth': 50, 'max_features': 2, 'min_samples_leaf': 1, 'min_samples_split': 2}\n",
      "2399.3120492366743 {'max_depth': 50, 'max_features': 2, 'min_samples_leaf': 1, 'min_samples_split': 5}\n",
      "2625.9629636755535 {'max_depth': 50, 'max_features': 2, 'min_samples_leaf': 1, 'min_samples_split': 10}\n",
      "2374.067976683788 {'max_depth': 50, 'max_features': 2, 'min_samples_leaf': 2, 'min_samples_split': 2}\n",
      "2587.0488622498233 {'max_depth': 50, 'max_features': 2, 'min_samples_leaf': 2, 'min_samples_split': 5}\n",
      "2902.3457387684894 {'max_depth': 50, 'max_features': 2, 'min_samples_leaf': 2, 'min_samples_split': 10}\n",
      "3159.5546278867814 {'max_depth': 50, 'max_features': 2, 'min_samples_leaf': 5, 'min_samples_split': 2}\n",
      "3820.322636705868 {'max_depth': 50, 'max_features': 2, 'min_samples_leaf': 5, 'min_samples_split': 5}\n",
      "2741.4991780602577 {'max_depth': 50, 'max_features': 2, 'min_samples_leaf': 5, 'min_samples_split': 10}\n",
      "3621.2430278089905 {'max_depth': 50, 'max_features': 2, 'min_samples_leaf': 10, 'min_samples_split': 2}\n",
      "3136.5814255635273 {'max_depth': 50, 'max_features': 2, 'min_samples_leaf': 10, 'min_samples_split': 5}\n",
      "3699.6429232156456 {'max_depth': 50, 'max_features': 2, 'min_samples_leaf': 10, 'min_samples_split': 10}\n",
      "2270.8793972643352 {'max_depth': 50, 'max_features': 5, 'min_samples_leaf': 1, 'min_samples_split': 2}\n",
      "2275.3505273936926 {'max_depth': 50, 'max_features': 5, 'min_samples_leaf': 1, 'min_samples_split': 5}\n",
      "2301.013014939619 {'max_depth': 50, 'max_features': 5, 'min_samples_leaf': 1, 'min_samples_split': 10}\n",
      "2401.1166928870784 {'max_depth': 50, 'max_features': 5, 'min_samples_leaf': 2, 'min_samples_split': 2}\n",
      "2387.8397816573247 {'max_depth': 50, 'max_features': 5, 'min_samples_leaf': 2, 'min_samples_split': 5}\n",
      "2317.623520078359 {'max_depth': 50, 'max_features': 5, 'min_samples_leaf': 2, 'min_samples_split': 10}\n",
      "2449.717475490938 {'max_depth': 50, 'max_features': 5, 'min_samples_leaf': 5, 'min_samples_split': 2}\n",
      "2435.8136689162916 {'max_depth': 50, 'max_features': 5, 'min_samples_leaf': 5, 'min_samples_split': 5}\n",
      "2445.10741758532 {'max_depth': 50, 'max_features': 5, 'min_samples_leaf': 5, 'min_samples_split': 10}\n",
      "3329.028692662633 {'max_depth': 50, 'max_features': 5, 'min_samples_leaf': 10, 'min_samples_split': 2}\n",
      "2994.3819834940296 {'max_depth': 50, 'max_features': 5, 'min_samples_leaf': 10, 'min_samples_split': 5}\n",
      "3105.3457211618593 {'max_depth': 50, 'max_features': 5, 'min_samples_leaf': 10, 'min_samples_split': 10}\n",
      "2266.1380740962218 {'max_depth': 50, 'max_features': 10, 'min_samples_leaf': 1, 'min_samples_split': 2}\n",
      "2292.0852225798044 {'max_depth': 50, 'max_features': 10, 'min_samples_leaf': 1, 'min_samples_split': 5}\n",
      "2353.0698909282664 {'max_depth': 50, 'max_features': 10, 'min_samples_leaf': 1, 'min_samples_split': 10}\n",
      "2265.562050172787 {'max_depth': 50, 'max_features': 10, 'min_samples_leaf': 2, 'min_samples_split': 2}\n",
      "2365.5853415899055 {'max_depth': 50, 'max_features': 10, 'min_samples_leaf': 2, 'min_samples_split': 5}\n",
      "2296.033538846316 {'max_depth': 50, 'max_features': 10, 'min_samples_leaf': 2, 'min_samples_split': 10}\n",
      "2365.154722747743 {'max_depth': 50, 'max_features': 10, 'min_samples_leaf': 5, 'min_samples_split': 2}\n",
      "2372.38158106362 {'max_depth': 50, 'max_features': 10, 'min_samples_leaf': 5, 'min_samples_split': 5}\n",
      "2626.292667503558 {'max_depth': 50, 'max_features': 10, 'min_samples_leaf': 5, 'min_samples_split': 10}\n",
      "2865.2336500533793 {'max_depth': 50, 'max_features': 10, 'min_samples_leaf': 10, 'min_samples_split': 2}\n",
      "2877.9509213141487 {'max_depth': 50, 'max_features': 10, 'min_samples_leaf': 10, 'min_samples_split': 5}\n",
      "2894.9806960211868 {'max_depth': 50, 'max_features': 10, 'min_samples_leaf': 10, 'min_samples_split': 10}\n",
      "2307.3623401503096 {'max_depth': 50, 'max_features': 15, 'min_samples_leaf': 1, 'min_samples_split': 2}\n",
      "2274.26407606409 {'max_depth': 50, 'max_features': 15, 'min_samples_leaf': 1, 'min_samples_split': 5}\n",
      "2322.6925413785366 {'max_depth': 50, 'max_features': 15, 'min_samples_leaf': 1, 'min_samples_split': 10}\n",
      "2355.5388300127174 {'max_depth': 50, 'max_features': 15, 'min_samples_leaf': 2, 'min_samples_split': 2}\n",
      "2328.096396257786 {'max_depth': 50, 'max_features': 15, 'min_samples_leaf': 2, 'min_samples_split': 5}\n",
      "2328.6458678897543 {'max_depth': 50, 'max_features': 15, 'min_samples_leaf': 2, 'min_samples_split': 10}\n",
      "2372.974521518648 {'max_depth': 50, 'max_features': 15, 'min_samples_leaf': 5, 'min_samples_split': 2}\n",
      "2383.290220206109 {'max_depth': 50, 'max_features': 15, 'min_samples_leaf': 5, 'min_samples_split': 5}\n",
      "2375.9304007751343 {'max_depth': 50, 'max_features': 15, 'min_samples_leaf': 5, 'min_samples_split': 10}\n",
      "2891.50180572413 {'max_depth': 50, 'max_features': 15, 'min_samples_leaf': 10, 'min_samples_split': 2}\n",
      "2884.5318574991898 {'max_depth': 50, 'max_features': 15, 'min_samples_leaf': 10, 'min_samples_split': 5}\n",
      "2891.5977047519123 {'max_depth': 50, 'max_features': 15, 'min_samples_leaf': 10, 'min_samples_split': 10}\n"
     ]
    }
   ],
   "source": [
    "cvres = tree_grid_search.cv_results_\n",
    "for mean_score, params in zip(cvres[\"mean_test_score\"], cvres[\"params\"]):\n",
    "    print(np.sqrt(-mean_score), params)"
   ]
  },
  {
   "cell_type": "markdown",
   "metadata": {},
   "source": [
    "#### Reviewing the scores\n",
    "\n",
    "First, let's check if we managed to improve the prvious score (`78.51%`) achieved on the training set:"
   ]
  },
  {
   "cell_type": "code",
   "execution_count": 228,
   "metadata": {},
   "outputs": [
    {
     "data": {
      "text/plain": [
       "0.8004891053997341"
      ]
     },
     "execution_count": 228,
     "metadata": {},
     "output_type": "execute_result"
    }
   ],
   "source": [
    "tree_grid_search.best_estimator_.score(X_prepared, y)"
   ]
  },
  {
   "cell_type": "markdown",
   "metadata": {},
   "source": [
    "There is an improvement achieved when tuning the parameters. Let's see how does the model behave on the test set with data it didn't see before:"
   ]
  },
  {
   "cell_type": "code",
   "execution_count": 214,
   "metadata": {},
   "outputs": [
    {
     "data": {
      "text/plain": [
       "0.7839934851003418"
      ]
     },
     "execution_count": 214,
     "metadata": {},
     "output_type": "execute_result"
    }
   ],
   "source": [
    "tree_grid_search.best_estimator_.score(X_test_prepared, y_test)"
   ]
  },
  {
   "cell_type": "markdown",
   "metadata": {},
   "source": [
    "As expected, the score is lower than on the training data."
   ]
  },
  {
   "cell_type": "markdown",
   "metadata": {},
   "source": [
    "### Parameters for `RandomForest`"
   ]
  },
  {
   "cell_type": "code",
   "execution_count": 222,
   "metadata": {},
   "outputs": [
    {
     "name": "stdout",
     "output_type": "stream",
     "text": [
      "Fitting 5 folds for each of 42 candidates, totalling 210 fits\n"
     ]
    },
    {
     "name": "stderr",
     "output_type": "stream",
     "text": [
      "[Parallel(n_jobs=8)]: Using backend LokyBackend with 8 concurrent workers.\n",
      "[Parallel(n_jobs=8)]: Done   9 tasks      | elapsed:    0.1s\n",
      "[Parallel(n_jobs=8)]: Done 210 out of 210 | elapsed:    2.7s finished\n"
     ]
    },
    {
     "data": {
      "text/plain": [
       "GridSearchCV(cv=5, error_score='raise-deprecating',\n",
       "       estimator=RandomForestRegressor(bootstrap=True, criterion='mse', max_depth=None,\n",
       "           max_features='auto', max_leaf_nodes=None,\n",
       "           min_impurity_decrease=0.0, min_impurity_split=None,\n",
       "           min_samples_leaf=1, min_samples_split=2,\n",
       "           min_weight_fraction_leaf=0.0, n_estimators='warn', n_jobs=None,\n",
       "           oob_score=False, random_state=None, verbose=0, warm_start=False),\n",
       "       fit_params=None, iid='warn', n_jobs=8,\n",
       "       param_grid=[{'n_estimators': [3, 10, 15, 20, 30, 40], 'max_features': [2, 4, 6, 8]}, {'bootstrap': [False], 'n_estimators': [3, 10, 15, 20, 30, 40], 'max_features': [2, 3, 4]}],\n",
       "       pre_dispatch='2*n_jobs', refit=True, return_train_score=True,\n",
       "       scoring='neg_mean_squared_error', verbose=4)"
      ]
     },
     "execution_count": 222,
     "metadata": {},
     "output_type": "execute_result"
    }
   ],
   "source": [
    "forest_param_grid = [\n",
    "    {'n_estimators': [3, 10, 15, 20, 30, 40], 'max_features': [2, 4, 6, 8]},\n",
    "    {'bootstrap': [False], 'n_estimators': [3, 10, 15, 20, 30, 40], 'max_features': [2, 3, 4]}\n",
    "]\n",
    "\n",
    "forest_reg = RandomForestRegressor()\n",
    "\n",
    "forest_grid_search = GridSearchCV(forest_reg, forest_param_grid, cv=5,\n",
    "                                  scoring=\"neg_mean_squared_error\",\n",
    "                                  return_train_score=True,\n",
    "                                  n_jobs=8, verbose=4)\n",
    "\n",
    "forest_grid_search.fit(X_prepared, y)"
   ]
  },
  {
   "cell_type": "code",
   "execution_count": 223,
   "metadata": {},
   "outputs": [
    {
     "data": {
      "text/plain": [
       "{'bootstrap': False, 'max_features': 4, 'n_estimators': 15}"
      ]
     },
     "execution_count": 223,
     "metadata": {},
     "output_type": "execute_result"
    }
   ],
   "source": [
    "forest_grid_search.best_params_"
   ]
  },
  {
   "cell_type": "code",
   "execution_count": 226,
   "metadata": {},
   "outputs": [
    {
     "name": "stdout",
     "output_type": "stream",
     "text": [
      "2331.679272580871 {'max_features': 2, 'n_estimators': 3}\n",
      "2285.649388215688 {'max_features': 2, 'n_estimators': 10}\n",
      "2251.7826204456164 {'max_features': 2, 'n_estimators': 15}\n",
      "2269.263702788501 {'max_features': 2, 'n_estimators': 20}\n",
      "2267.320886111767 {'max_features': 2, 'n_estimators': 30}\n",
      "2265.916271473506 {'max_features': 2, 'n_estimators': 40}\n",
      "2375.9475230645808 {'max_features': 4, 'n_estimators': 3}\n",
      "2250.4548398214106 {'max_features': 4, 'n_estimators': 10}\n",
      "2272.6800195752016 {'max_features': 4, 'n_estimators': 15}\n",
      "2245.047383560474 {'max_features': 4, 'n_estimators': 20}\n",
      "2266.17404626818 {'max_features': 4, 'n_estimators': 30}\n",
      "2267.199938802931 {'max_features': 4, 'n_estimators': 40}\n",
      "2306.3007469266286 {'max_features': 6, 'n_estimators': 3}\n",
      "2274.3542638454137 {'max_features': 6, 'n_estimators': 10}\n",
      "2255.4513506542453 {'max_features': 6, 'n_estimators': 15}\n",
      "2278.6650666498413 {'max_features': 6, 'n_estimators': 20}\n",
      "2281.89386726511 {'max_features': 6, 'n_estimators': 30}\n",
      "2275.9254645462015 {'max_features': 6, 'n_estimators': 40}\n",
      "2314.248183428913 {'max_features': 8, 'n_estimators': 3}\n",
      "2291.184125725925 {'max_features': 8, 'n_estimators': 10}\n",
      "2257.8095150798435 {'max_features': 8, 'n_estimators': 15}\n",
      "2274.4456195719704 {'max_features': 8, 'n_estimators': 20}\n",
      "2275.660262808942 {'max_features': 8, 'n_estimators': 30}\n",
      "2259.808068224245 {'max_features': 8, 'n_estimators': 40}\n",
      "2272.73057284753 {'bootstrap': False, 'max_features': 2, 'n_estimators': 3}\n",
      "2249.8969257818694 {'bootstrap': False, 'max_features': 2, 'n_estimators': 10}\n",
      "2235.003545983826 {'bootstrap': False, 'max_features': 2, 'n_estimators': 15}\n",
      "2234.294508734339 {'bootstrap': False, 'max_features': 2, 'n_estimators': 20}\n",
      "2246.790312824603 {'bootstrap': False, 'max_features': 2, 'n_estimators': 30}\n",
      "2244.0424053383986 {'bootstrap': False, 'max_features': 2, 'n_estimators': 40}\n",
      "2273.6083876367575 {'bootstrap': False, 'max_features': 3, 'n_estimators': 3}\n",
      "2252.61099572137 {'bootstrap': False, 'max_features': 3, 'n_estimators': 10}\n",
      "2242.5678152518335 {'bootstrap': False, 'max_features': 3, 'n_estimators': 15}\n",
      "2249.99418203265 {'bootstrap': False, 'max_features': 3, 'n_estimators': 20}\n",
      "2234.042705688745 {'bootstrap': False, 'max_features': 3, 'n_estimators': 30}\n",
      "2240.7011867922447 {'bootstrap': False, 'max_features': 3, 'n_estimators': 40}\n",
      "2327.258269552545 {'bootstrap': False, 'max_features': 4, 'n_estimators': 3}\n",
      "2248.9231954532165 {'bootstrap': False, 'max_features': 4, 'n_estimators': 10}\n",
      "2233.089633499931 {'bootstrap': False, 'max_features': 4, 'n_estimators': 15}\n",
      "2243.5901808572107 {'bootstrap': False, 'max_features': 4, 'n_estimators': 20}\n",
      "2258.1918510786836 {'bootstrap': False, 'max_features': 4, 'n_estimators': 30}\n",
      "2253.1711100992356 {'bootstrap': False, 'max_features': 4, 'n_estimators': 40}\n"
     ]
    }
   ],
   "source": [
    "cvres = forest_grid_search.cv_results_\n",
    "for mean_score, params in zip(cvres[\"mean_test_score\"], cvres[\"params\"]):\n",
    "    print(np.sqrt(-mean_score), params)"
   ]
  },
  {
   "cell_type": "markdown",
   "metadata": {},
   "source": [
    "#### Reviewing scores"
   ]
  },
  {
   "cell_type": "code",
   "execution_count": 227,
   "metadata": {},
   "outputs": [
    {
     "data": {
      "text/plain": [
       "0.8004891053230637"
      ]
     },
     "execution_count": 227,
     "metadata": {},
     "output_type": "execute_result"
    }
   ],
   "source": [
    "forest_grid_search.best_estimator_.score(X_prepared, y)"
   ]
  },
  {
   "cell_type": "code",
   "execution_count": 224,
   "metadata": {},
   "outputs": [
    {
     "data": {
      "text/plain": [
       "0.7844867479483346"
      ]
     },
     "execution_count": 224,
     "metadata": {},
     "output_type": "execute_result"
    }
   ],
   "source": [
    "forest_grid_search.best_estimator_.score(X_test_prepared, y_test)"
   ]
  },
  {
   "cell_type": "markdown",
   "metadata": {},
   "source": [
    "Random Forest exibits similar accuracy characteristics - tuning parameters allowed to increase accuracy from `78.30%` to `80.04%` and it maintains slighltly better accuracy on the test set - `78.44%` against `78.39%` achieved by Decision Tree.\n",
    "\n",
    "The scoring is a follows:\n",
    "\n",
    "| Model            | TRAIN Accuracy | TEST Accuracy |\n",
    "|------------------|----------------|---------------|\n",
    "| Decision Tree    |         80.04% |        78.39% |\n",
    "| Random Forest    |         80.04% |        78.44% |\n",
    "| LinearRegression |         35.23% |             - |\n",
    "| Ridge            |         35.23% |             - |\n",
    "\n",
    "The difference beween accuracy of Training and Test data sets doesn't seem to show overfitting, so in this instance we will productionise the Random Forest:"
   ]
  },
  {
   "cell_type": "code",
   "execution_count": 230,
   "metadata": {},
   "outputs": [],
   "source": [
    "final_estimator = forest_grid_search.best_estimator_"
   ]
  },
  {
   "cell_type": "markdown",
   "metadata": {},
   "source": [
    "### Let's review the predictions of the best model found so far:"
   ]
  },
  {
   "cell_type": "code",
   "execution_count": 234,
   "metadata": {},
   "outputs": [],
   "source": [
    "final_estimator_predictions = final_estimator.predict(X_test_prepared)"
   ]
  },
  {
   "cell_type": "code",
   "execution_count": 236,
   "metadata": {},
   "outputs": [
    {
     "data": {
      "text/html": [
       "<div>\n",
       "<style scoped>\n",
       "    .dataframe tbody tr th:only-of-type {\n",
       "        vertical-align: middle;\n",
       "    }\n",
       "\n",
       "    .dataframe tbody tr th {\n",
       "        vertical-align: top;\n",
       "    }\n",
       "\n",
       "    .dataframe thead th {\n",
       "        text-align: right;\n",
       "    }\n",
       "</style>\n",
       "<table border=\"1\" class=\"dataframe\">\n",
       "  <thead>\n",
       "    <tr style=\"text-align: right;\">\n",
       "      <th></th>\n",
       "      <th>Predicted</th>\n",
       "      <th>Actual</th>\n",
       "      <th>Difference</th>\n",
       "    </tr>\n",
       "  </thead>\n",
       "  <tbody>\n",
       "    <tr>\n",
       "      <th>0</th>\n",
       "      <td>4745.068493</td>\n",
       "      <td>6240.0</td>\n",
       "      <td>1494.931507</td>\n",
       "    </tr>\n",
       "    <tr>\n",
       "      <th>1</th>\n",
       "      <td>389.595041</td>\n",
       "      <td>525.0</td>\n",
       "      <td>135.404959</td>\n",
       "    </tr>\n",
       "    <tr>\n",
       "      <th>2</th>\n",
       "      <td>250.000000</td>\n",
       "      <td>250.0</td>\n",
       "      <td>0.000000</td>\n",
       "    </tr>\n",
       "    <tr>\n",
       "      <th>3</th>\n",
       "      <td>361.666667</td>\n",
       "      <td>400.0</td>\n",
       "      <td>38.333333</td>\n",
       "    </tr>\n",
       "    <tr>\n",
       "      <th>4</th>\n",
       "      <td>176.948980</td>\n",
       "      <td>230.0</td>\n",
       "      <td>53.051020</td>\n",
       "    </tr>\n",
       "  </tbody>\n",
       "</table>\n",
       "</div>"
      ],
      "text/plain": [
       "     Predicted  Actual   Difference\n",
       "0  4745.068493  6240.0  1494.931507\n",
       "1   389.595041   525.0   135.404959\n",
       "2   250.000000   250.0     0.000000\n",
       "3   361.666667   400.0    38.333333\n",
       "4   176.948980   230.0    53.051020"
      ]
     },
     "execution_count": 236,
     "metadata": {},
     "output_type": "execute_result"
    }
   ],
   "source": [
    "final_estimator_diffs = comparison(final_estimator_predictions, y_test)\n",
    "final_estimator_diffs.head()"
   ]
  },
  {
   "cell_type": "code",
   "execution_count": 237,
   "metadata": {},
   "outputs": [
    {
     "data": {
      "text/html": [
       "<div>\n",
       "<style scoped>\n",
       "    .dataframe tbody tr th:only-of-type {\n",
       "        vertical-align: middle;\n",
       "    }\n",
       "\n",
       "    .dataframe tbody tr th {\n",
       "        vertical-align: top;\n",
       "    }\n",
       "\n",
       "    .dataframe thead th {\n",
       "        text-align: right;\n",
       "    }\n",
       "</style>\n",
       "<table border=\"1\" class=\"dataframe\">\n",
       "  <thead>\n",
       "    <tr style=\"text-align: right;\">\n",
       "      <th></th>\n",
       "      <th>Predicted</th>\n",
       "      <th>Actual</th>\n",
       "      <th>Difference</th>\n",
       "    </tr>\n",
       "  </thead>\n",
       "  <tbody>\n",
       "    <tr>\n",
       "      <th>count</th>\n",
       "      <td>2656.000000</td>\n",
       "      <td>2656.000000</td>\n",
       "      <td>2656.000000</td>\n",
       "    </tr>\n",
       "    <tr>\n",
       "      <th>mean</th>\n",
       "      <td>2593.697493</td>\n",
       "      <td>2571.297440</td>\n",
       "      <td>-22.400053</td>\n",
       "    </tr>\n",
       "    <tr>\n",
       "      <th>std</th>\n",
       "      <td>4445.091676</td>\n",
       "      <td>4945.585221</td>\n",
       "      <td>2295.799734</td>\n",
       "    </tr>\n",
       "    <tr>\n",
       "      <th>min</th>\n",
       "      <td>59.500000</td>\n",
       "      <td>45.000000</td>\n",
       "      <td>-21653.333333</td>\n",
       "    </tr>\n",
       "    <tr>\n",
       "      <th>25%</th>\n",
       "      <td>487.139785</td>\n",
       "      <td>416.500000</td>\n",
       "      <td>-440.935505</td>\n",
       "    </tr>\n",
       "    <tr>\n",
       "      <th>50%</th>\n",
       "      <td>1299.896414</td>\n",
       "      <td>1150.000000</td>\n",
       "      <td>-73.561169</td>\n",
       "    </tr>\n",
       "    <tr>\n",
       "      <th>75%</th>\n",
       "      <td>3667.053191</td>\n",
       "      <td>2927.000000</td>\n",
       "      <td>140.710055</td>\n",
       "    </tr>\n",
       "    <tr>\n",
       "      <th>max</th>\n",
       "      <td>79725.333333</td>\n",
       "      <td>99820.000000</td>\n",
       "      <td>49694.218045</td>\n",
       "    </tr>\n",
       "  </tbody>\n",
       "</table>\n",
       "</div>"
      ],
      "text/plain": [
       "          Predicted        Actual    Difference\n",
       "count   2656.000000   2656.000000   2656.000000\n",
       "mean    2593.697493   2571.297440    -22.400053\n",
       "std     4445.091676   4945.585221   2295.799734\n",
       "min       59.500000     45.000000 -21653.333333\n",
       "25%      487.139785    416.500000   -440.935505\n",
       "50%     1299.896414   1150.000000    -73.561169\n",
       "75%     3667.053191   2927.000000    140.710055\n",
       "max    79725.333333  99820.000000  49694.218045"
      ]
     },
     "execution_count": 237,
     "metadata": {},
     "output_type": "execute_result"
    }
   ],
   "source": [
    "final_estimator_diffs.describe()"
   ]
  },
  {
   "cell_type": "markdown",
   "metadata": {},
   "source": [
    "## Export modules for deployment"
   ]
  },
  {
   "cell_type": "code",
   "execution_count": 238,
   "metadata": {},
   "outputs": [],
   "source": [
    "import pickle"
   ]
  },
  {
   "cell_type": "markdown",
   "metadata": {},
   "source": [
    "### Define index-based pipeline and export it\n",
    "\n",
    "Currently defined `pipeline` uses Pandas `DataFrame`, this is convenient for continuing the work inside the Jupyer notebook, but will be problemmatic in integration such a pipeline with the application - inside the application we would need to convert data to `DataFrame`, pass this new `DataFrame` to the pipeline and just then to the estimator.\n",
    "\n",
    "It will be easier to integrate, if the pipeline will attemt to work with indices, rather than column names, so let's prepare a pipeline that will do exactly that:"
   ]
  },
  {
   "cell_type": "code",
   "execution_count": 256,
   "metadata": {},
   "outputs": [
    {
     "name": "stdout",
     "output_type": "stream",
     "text": [
      "=== Before transforming\n",
      "[1.0 1.0 1 2 'Palm Springs' 'Weekly']\n",
      "=== After transforming\n",
      "[1.0 1.0 1 2 0 0 1 0 0 0 0 0 0 1 0]\n"
     ]
    }
   ],
   "source": [
    "index_based_pipeline = ColumnTransformer([\n",
    "    (\"to_keep\", \"passthrough\", [0,1,2,3]),\n",
    "    (\"city_cat\", OneHotEncoder(dtype=np.int8), [4]),\n",
    "    (\"period_cat\", OneHotEncoder(dtype=np.int8), [5]),\n",
    "])\n",
    "\n",
    "index_based_pipeline.fit(X_cleaned)\n",
    "X_idx_prepared = index_based_pipeline.transform(X_cleaned.values)\n",
    "\n",
    "print(\"=== Before transforming\")\n",
    "print(X_cleaned.values[0])\n",
    "print(\"=== After transforming\")\n",
    "print(X_idx_prepared[0])"
   ]
  },
  {
   "cell_type": "code",
   "execution_count": 257,
   "metadata": {},
   "outputs": [],
   "source": [
    "pickle.dump(index_based_pipeline, open('idx_pipeline.pickle', 'wb'))"
   ]
  },
  {
   "cell_type": "markdown",
   "metadata": {},
   "source": [
    "### Export the ML model"
   ]
  },
  {
   "cell_type": "code",
   "execution_count": 258,
   "metadata": {},
   "outputs": [],
   "source": [
    "pickle.dump(final_estimator, open('model.pickle', 'wb'))"
   ]
  }
 ],
 "metadata": {
  "kernelspec": {
   "display_name": "Python 3",
   "language": "python",
   "name": "python3"
  },
  "language_info": {
   "codemirror_mode": {
    "name": "ipython",
    "version": 3
   },
   "file_extension": ".py",
   "mimetype": "text/x-python",
   "name": "python",
   "nbconvert_exporter": "python",
   "pygments_lexer": "ipython3",
   "version": "3.7.1"
  }
 },
 "nbformat": 4,
 "nbformat_minor": 2
}
